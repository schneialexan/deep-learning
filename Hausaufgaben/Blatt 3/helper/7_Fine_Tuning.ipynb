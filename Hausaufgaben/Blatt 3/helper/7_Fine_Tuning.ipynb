{
 "cells": [
  {
   "attachments": {},
   "cell_type": "markdown",
   "metadata": {},
   "source": [
    "# Pretrained CNN - Feature Extraction with Data Augmentation\n",
    "<br>In diesem Code Notebook behandeln wir Feature Extraction mit Data Augmentation, dies sollte nur auf Server mit GPU laufen."
   ]
  },
  {
   "attachments": {},
   "cell_type": "markdown",
   "metadata": {},
   "source": [
    "### Load Packages"
   ]
  },
  {
   "cell_type": "code",
   "execution_count": 1,
   "metadata": {},
   "outputs": [
    {
     "name": "stderr",
     "output_type": "stream",
     "text": [
      "2023-04-18 16:12:26.640628: I tensorflow/core/util/port.cc:110] oneDNN custom operations are on. You may see slightly different numerical results due to floating-point round-off errors from different computation orders. To turn them off, set the environment variable `TF_ENABLE_ONEDNN_OPTS=0`.\n",
      "2023-04-18 16:12:26.643718: I tensorflow/tsl/cuda/cudart_stub.cc:28] Could not find cuda drivers on your machine, GPU will not be used.\n",
      "2023-04-18 16:12:26.691477: I tensorflow/tsl/cuda/cudart_stub.cc:28] Could not find cuda drivers on your machine, GPU will not be used.\n",
      "2023-04-18 16:12:26.692340: I tensorflow/core/platform/cpu_feature_guard.cc:182] This TensorFlow binary is optimized to use available CPU instructions in performance-critical operations.\n",
      "To enable the following instructions: AVX2 AVX512F AVX512_VNNI FMA, in other operations, rebuild TensorFlow with the appropriate compiler flags.\n",
      "2023-04-18 16:12:27.472728: W tensorflow/compiler/tf2tensorrt/utils/py_utils.cc:38] TF-TRT Warning: Could not find TensorRT\n"
     ]
    },
    {
     "data": {
      "text/plain": [
       "'module://matplotlib_inline.backend_inline'"
      ]
     },
     "execution_count": 1,
     "metadata": {},
     "output_type": "execute_result"
    }
   ],
   "source": [
    "import pandas as pd\n",
    "import numpy as np\n",
    "import os\n",
    "import tensorflow as tf\n",
    "from tensorflow import keras\n",
    "\n",
    "import matplotlib\n",
    "import matplotlib.pyplot as plt # plotting library\n",
    "%matplotlib inline\n",
    "matplotlib.get_backend()"
   ]
  },
  {
   "attachments": {},
   "cell_type": "markdown",
   "metadata": {},
   "source": [
    "### Load Path Files"
   ]
  },
  {
   "cell_type": "code",
   "execution_count": 2,
   "metadata": {},
   "outputs": [],
   "source": [
    "\n",
    "original_dataset_dir = '../data/train'\n",
    "\n",
    "base_dir = '../data/cats_and_dogs_2k'\n",
    "\n",
    "train_dir = os.path.join(base_dir, 'train')\n",
    "validation_dir = os.path.join(base_dir, 'validation')\n",
    "test_dir = os.path.join(base_dir, 'test')\n",
    "\n",
    "train_cats_dir = os.path.join(train_dir, 'cats')\n",
    "train_dogs_dir = os.path.join(train_dir, 'dogs')\n",
    "\n",
    "validation_cats_dir = os.path.join(validation_dir, 'cats')\n",
    "validation_dogs_dir = os.path.join(validation_dir, 'dogs')\n",
    "\n",
    "test_cats_dir = os.path.join(test_dir, 'cats')\n",
    "test_dogs_dir = os.path.join(test_dir, 'dogs')"
   ]
  },
  {
   "attachments": {},
   "cell_type": "markdown",
   "metadata": {},
   "source": [
    "### Data Preparation with Data Augmentation"
   ]
  },
  {
   "cell_type": "code",
   "execution_count": 3,
   "metadata": {},
   "outputs": [
    {
     "name": "stdout",
     "output_type": "stream",
     "text": [
      "Found 2000 images belonging to 2 classes.\n",
      "Found 1000 images belonging to 2 classes.\n"
     ]
    }
   ],
   "source": [
    "train_datagen = keras.preprocessing.image.ImageDataGenerator(\n",
    "                                                                rescale=1./255,\n",
    "                                                                rotation_range=40,\n",
    "                                                                width_shift_range=0.2,\n",
    "                                                                height_shift_range=0.2,\n",
    "                                                                shear_range=0.2,\n",
    "                                                                zoom_range=0.2,\n",
    "                                                                horizontal_flip=True\n",
    "                                                             )\n",
    "\n",
    "test_datagen = keras.preprocessing.image.ImageDataGenerator(rescale=1./255)\n",
    "\n",
    "train_generator = train_datagen.flow_from_directory(\n",
    "    train_dir,\n",
    "    target_size = (150, 150),\n",
    "    batch_size = 20,\n",
    "    class_mode = 'binary'\n",
    ")\n",
    "\n",
    "validation_generator = test_datagen.flow_from_directory(\n",
    "    validation_dir,\n",
    "    target_size = (150,150),\n",
    "    batch_size = 20,\n",
    "    class_mode = 'binary'\n",
    ")"
   ]
  },
  {
   "attachments": {},
   "cell_type": "markdown",
   "metadata": {},
   "source": [
    "### Load Convolutional Base"
   ]
  },
  {
   "cell_type": "code",
   "execution_count": 4,
   "metadata": {},
   "outputs": [
    {
     "name": "stderr",
     "output_type": "stream",
     "text": [
      "2023-04-18 16:12:29.115097: W tensorflow/core/common_runtime/gpu/gpu_device.cc:1956] Cannot dlopen some GPU libraries. Please make sure the missing libraries mentioned above are installed properly if you would like to use GPU. Follow the guide at https://www.tensorflow.org/install/gpu for how to download and setup the required libraries for your platform.\n",
      "Skipping registering GPU devices...\n"
     ]
    },
    {
     "name": "stdout",
     "output_type": "stream",
     "text": [
      "Model: \"vgg16\"\n",
      "_________________________________________________________________\n",
      " Layer (type)                Output Shape              Param #   \n",
      "=================================================================\n",
      " input_1 (InputLayer)        [(None, 150, 150, 3)]     0         \n",
      "                                                                 \n",
      " block1_conv1 (Conv2D)       (None, 150, 150, 64)      1792      \n",
      "                                                                 \n",
      " block1_conv2 (Conv2D)       (None, 150, 150, 64)      36928     \n",
      "                                                                 \n",
      " block1_pool (MaxPooling2D)  (None, 75, 75, 64)        0         \n",
      "                                                                 \n",
      " block2_conv1 (Conv2D)       (None, 75, 75, 128)       73856     \n",
      "                                                                 \n",
      " block2_conv2 (Conv2D)       (None, 75, 75, 128)       147584    \n",
      "                                                                 \n",
      " block2_pool (MaxPooling2D)  (None, 37, 37, 128)       0         \n",
      "                                                                 \n",
      " block3_conv1 (Conv2D)       (None, 37, 37, 256)       295168    \n",
      "                                                                 \n",
      " block3_conv2 (Conv2D)       (None, 37, 37, 256)       590080    \n",
      "                                                                 \n",
      " block3_conv3 (Conv2D)       (None, 37, 37, 256)       590080    \n",
      "                                                                 \n",
      " block3_pool (MaxPooling2D)  (None, 18, 18, 256)       0         \n",
      "                                                                 \n",
      " block4_conv1 (Conv2D)       (None, 18, 18, 512)       1180160   \n",
      "                                                                 \n",
      " block4_conv2 (Conv2D)       (None, 18, 18, 512)       2359808   \n",
      "                                                                 \n",
      " block4_conv3 (Conv2D)       (None, 18, 18, 512)       2359808   \n",
      "                                                                 \n",
      " block4_pool (MaxPooling2D)  (None, 9, 9, 512)         0         \n",
      "                                                                 \n",
      " block5_conv1 (Conv2D)       (None, 9, 9, 512)         2359808   \n",
      "                                                                 \n",
      " block5_conv2 (Conv2D)       (None, 9, 9, 512)         2359808   \n",
      "                                                                 \n",
      " block5_conv3 (Conv2D)       (None, 9, 9, 512)         2359808   \n",
      "                                                                 \n",
      " block5_pool (MaxPooling2D)  (None, 4, 4, 512)         0         \n",
      "                                                                 \n",
      "=================================================================\n",
      "Total params: 14,714,688\n",
      "Trainable params: 14,714,688\n",
      "Non-trainable params: 0\n",
      "_________________________________________________________________\n",
      "None\n"
     ]
    }
   ],
   "source": [
    "conv_base = tf.keras.applications.VGG16(weights='imagenet',\n",
    "                                        include_top=False,\n",
    "                                        input_shape=(150,150,3))\n",
    "print(conv_base.summary())"
   ]
  },
  {
   "attachments": {},
   "cell_type": "markdown",
   "metadata": {},
   "source": [
    "### Model building"
   ]
  },
  {
   "cell_type": "code",
   "execution_count": 5,
   "metadata": {},
   "outputs": [],
   "source": [
    "model = tf.keras.models.Sequential()\n",
    "model.add(conv_base)\n",
    "model.add(tf.keras.layers.Flatten())\n",
    "model.add(tf.keras.layers.Dense(256, activation='relu'))\n",
    "model.add(tf.keras.layers.Dropout(0.5))\n",
    "model.add(tf.keras.layers.Dense(1, activation='sigmoid'))"
   ]
  },
  {
   "attachments": {},
   "cell_type": "markdown",
   "metadata": {},
   "source": [
    "### Compile model"
   ]
  },
  {
   "cell_type": "code",
   "execution_count": 6,
   "metadata": {},
   "outputs": [],
   "source": [
    "model.compile(loss='binary_crossentropy',\n",
    "              metrics=['acc'],\n",
    "              optimizer=tf.keras.optimizers.RMSprop(learning_rate=2e-5))"
   ]
  },
  {
   "attachments": {},
   "cell_type": "markdown",
   "metadata": {},
   "source": [
    "### Fit Model"
   ]
  },
  {
   "cell_type": "code",
   "execution_count": 7,
   "metadata": {},
   "outputs": [
    {
     "name": "stdout",
     "output_type": "stream",
     "text": [
      "Epoch 1/30\n"
     ]
    },
    {
     "name": "stderr",
     "output_type": "stream",
     "text": [
      "/tmp/ipykernel_1691883/3385942099.py:1: UserWarning: `Model.fit_generator` is deprecated and will be removed in a future version. Please use `Model.fit`, which supports generators.\n",
      "  history = model.fit_generator(\n",
      "2023-04-18 16:12:30.077690: I tensorflow/core/common_runtime/executor.cc:1197] [/device:CPU:0] (DEBUG INFO) Executor start aborting (this does not indicate an error and you can ignore this message): INVALID_ARGUMENT: You must feed a value for placeholder tensor 'Placeholder/_0' with dtype int32\n",
      "\t [[{{node Placeholder/_0}}]]\n"
     ]
    },
    {
     "name": "stdout",
     "output_type": "stream",
     "text": [
      "100/100 [==============================] - ETA: 0s - loss: 0.6073 - acc: 0.6580"
     ]
    },
    {
     "name": "stderr",
     "output_type": "stream",
     "text": [
      "2023-04-18 16:13:30.940128: I tensorflow/core/common_runtime/executor.cc:1197] [/device:CPU:0] (DEBUG INFO) Executor start aborting (this does not indicate an error and you can ignore this message): INVALID_ARGUMENT: You must feed a value for placeholder tensor 'Placeholder/_0' with dtype int32\n",
      "\t [[{{node Placeholder/_0}}]]\n"
     ]
    },
    {
     "name": "stdout",
     "output_type": "stream",
     "text": [
      "100/100 [==============================] - 74s 720ms/step - loss: 0.6073 - acc: 0.6580 - val_loss: 0.3206 - val_acc: 0.8910\n",
      "Epoch 2/30\n",
      "100/100 [==============================] - 71s 707ms/step - loss: 0.3704 - acc: 0.8395 - val_loss: 0.2661 - val_acc: 0.8960\n",
      "Epoch 3/30\n",
      "100/100 [==============================] - 71s 711ms/step - loss: 0.2707 - acc: 0.8920 - val_loss: 0.1663 - val_acc: 0.9320\n",
      "Epoch 4/30\n",
      "100/100 [==============================] - 71s 707ms/step - loss: 0.2353 - acc: 0.9040 - val_loss: 0.1675 - val_acc: 0.9360\n",
      "Epoch 5/30\n",
      "100/100 [==============================] - 71s 712ms/step - loss: 0.1908 - acc: 0.9190 - val_loss: 0.1144 - val_acc: 0.9520\n",
      "Epoch 6/30\n",
      "100/100 [==============================] - 71s 708ms/step - loss: 0.1796 - acc: 0.9305 - val_loss: 0.3204 - val_acc: 0.9080\n",
      "Epoch 7/30\n",
      "100/100 [==============================] - 71s 709ms/step - loss: 0.1391 - acc: 0.9395 - val_loss: 0.1080 - val_acc: 0.9630\n",
      "Epoch 8/30\n",
      "100/100 [==============================] - 71s 708ms/step - loss: 0.1322 - acc: 0.9525 - val_loss: 0.1423 - val_acc: 0.9570\n",
      "Epoch 9/30\n",
      "100/100 [==============================] - 71s 708ms/step - loss: 0.1360 - acc: 0.9505 - val_loss: 0.0936 - val_acc: 0.9630\n",
      "Epoch 10/30\n",
      "100/100 [==============================] - 71s 710ms/step - loss: 0.1027 - acc: 0.9630 - val_loss: 0.5437 - val_acc: 0.8660\n",
      "Epoch 11/30\n",
      "100/100 [==============================] - 72s 718ms/step - loss: 0.0936 - acc: 0.9660 - val_loss: 0.0923 - val_acc: 0.9650\n",
      "Epoch 12/30\n",
      "100/100 [==============================] - 71s 714ms/step - loss: 0.1006 - acc: 0.9625 - val_loss: 0.0866 - val_acc: 0.9690\n",
      "Epoch 13/30\n",
      "100/100 [==============================] - 72s 717ms/step - loss: 0.0891 - acc: 0.9670 - val_loss: 0.0948 - val_acc: 0.9610\n",
      "Epoch 14/30\n",
      "100/100 [==============================] - 71s 706ms/step - loss: 0.0767 - acc: 0.9720 - val_loss: 0.1319 - val_acc: 0.9610\n",
      "Epoch 15/30\n",
      "100/100 [==============================] - 71s 709ms/step - loss: 0.0872 - acc: 0.9720 - val_loss: 0.0982 - val_acc: 0.9630\n",
      "Epoch 16/30\n",
      "100/100 [==============================] - 71s 709ms/step - loss: 0.0680 - acc: 0.9720 - val_loss: 0.1357 - val_acc: 0.9650\n",
      "Epoch 17/30\n",
      "100/100 [==============================] - 70s 703ms/step - loss: 0.0564 - acc: 0.9775 - val_loss: 0.1533 - val_acc: 0.9580\n",
      "Epoch 18/30\n",
      "100/100 [==============================] - 70s 701ms/step - loss: 0.0612 - acc: 0.9795 - val_loss: 0.1289 - val_acc: 0.9710\n",
      "Epoch 19/30\n",
      "100/100 [==============================] - 71s 709ms/step - loss: 0.0795 - acc: 0.9735 - val_loss: 0.0980 - val_acc: 0.9690\n",
      "Epoch 20/30\n",
      "100/100 [==============================] - 72s 723ms/step - loss: 0.0548 - acc: 0.9760 - val_loss: 0.1019 - val_acc: 0.9680\n",
      "Epoch 21/30\n",
      "100/100 [==============================] - 73s 728ms/step - loss: 0.0545 - acc: 0.9800 - val_loss: 0.1083 - val_acc: 0.9670\n",
      "Epoch 22/30\n",
      "100/100 [==============================] - 74s 739ms/step - loss: 0.0539 - acc: 0.9845 - val_loss: 0.1338 - val_acc: 0.9660\n",
      "Epoch 23/30\n",
      "100/100 [==============================] - 74s 740ms/step - loss: 0.0498 - acc: 0.9800 - val_loss: 0.1048 - val_acc: 0.9690\n",
      "Epoch 24/30\n",
      "100/100 [==============================] - 74s 744ms/step - loss: 0.0496 - acc: 0.9845 - val_loss: 0.1186 - val_acc: 0.9720\n",
      "Epoch 25/30\n",
      "100/100 [==============================] - 74s 741ms/step - loss: 0.0488 - acc: 0.9835 - val_loss: 0.1006 - val_acc: 0.9690\n",
      "Epoch 26/30\n",
      "100/100 [==============================] - 74s 737ms/step - loss: 0.0390 - acc: 0.9865 - val_loss: 0.1269 - val_acc: 0.9680\n",
      "Epoch 27/30\n",
      "100/100 [==============================] - 74s 739ms/step - loss: 0.0426 - acc: 0.9850 - val_loss: 0.2324 - val_acc: 0.9570\n",
      "Epoch 28/30\n",
      "100/100 [==============================] - 74s 737ms/step - loss: 0.0447 - acc: 0.9865 - val_loss: 0.3364 - val_acc: 0.9450\n",
      "Epoch 29/30\n",
      "100/100 [==============================] - 74s 739ms/step - loss: 0.0638 - acc: 0.9810 - val_loss: 0.0920 - val_acc: 0.9690\n",
      "Epoch 30/30\n",
      "100/100 [==============================] - 74s 739ms/step - loss: 0.0481 - acc: 0.9875 - val_loss: 0.1254 - val_acc: 0.9690\n"
     ]
    }
   ],
   "source": [
    "history = model.fit_generator(\n",
    "    train_generator,\n",
    "    steps_per_epoch=100,\n",
    "    epochs=30,\n",
    "    validation_data= validation_generator,\n",
    "    validation_steps=50\n",
    ")"
   ]
  },
  {
   "attachments": {},
   "cell_type": "markdown",
   "metadata": {},
   "source": [
    "### Fine_Tune"
   ]
  },
  {
   "cell_type": "code",
   "execution_count": 8,
   "metadata": {},
   "outputs": [],
   "source": [
    "conv_base.trainable = True\n",
    "\n",
    "set_trainable = False\n",
    "for layer in conv_base.layers:\n",
    "    if layer.name == 'block5_conv1':\n",
    "        set_trainable = True\n",
    "    if set_trainable:\n",
    "        layer.trainable = True\n",
    "    else:\n",
    "        layer.trainable = False"
   ]
  },
  {
   "attachments": {},
   "cell_type": "markdown",
   "metadata": {},
   "source": [
    "### Compile model"
   ]
  },
  {
   "cell_type": "code",
   "execution_count": 9,
   "metadata": {},
   "outputs": [],
   "source": [
    "model.compile(loss='binary_crossentropy',\n",
    "              metrics=['acc'],\n",
    "              optimizer=tf.keras.optimizers.RMSprop(learning_rate=2e-5))"
   ]
  },
  {
   "attachments": {},
   "cell_type": "markdown",
   "metadata": {},
   "source": [
    "### Fit Model"
   ]
  },
  {
   "cell_type": "code",
   "execution_count": 10,
   "metadata": {},
   "outputs": [
    {
     "name": "stdout",
     "output_type": "stream",
     "text": [
      "Epoch 1/30\n"
     ]
    },
    {
     "name": "stderr",
     "output_type": "stream",
     "text": [
      "/tmp/ipykernel_1691883/3385942099.py:1: UserWarning: `Model.fit_generator` is deprecated and will be removed in a future version. Please use `Model.fit`, which supports generators.\n",
      "  history = model.fit_generator(\n",
      "2023-04-18 16:48:42.860294: I tensorflow/core/common_runtime/executor.cc:1197] [/device:CPU:0] (DEBUG INFO) Executor start aborting (this does not indicate an error and you can ignore this message): INVALID_ARGUMENT: You must feed a value for placeholder tensor 'Placeholder/_0' with dtype int32\n",
      "\t [[{{node Placeholder/_0}}]]\n"
     ]
    },
    {
     "name": "stdout",
     "output_type": "stream",
     "text": [
      "100/100 [==============================] - ETA: 0s - loss: 0.0223 - acc: 0.9925"
     ]
    },
    {
     "name": "stderr",
     "output_type": "stream",
     "text": [
      "2023-04-18 16:49:14.775488: I tensorflow/core/common_runtime/executor.cc:1197] [/device:CPU:0] (DEBUG INFO) Executor start aborting (this does not indicate an error and you can ignore this message): INVALID_ARGUMENT: You must feed a value for placeholder tensor 'Placeholder/_0' with dtype int32\n",
      "\t [[{{node Placeholder/_0}}]]\n"
     ]
    },
    {
     "name": "stdout",
     "output_type": "stream",
     "text": [
      "100/100 [==============================] - 45s 442ms/step - loss: 0.0223 - acc: 0.9925 - val_loss: 0.1355 - val_acc: 0.9710\n",
      "Epoch 2/30\n",
      "100/100 [==============================] - 44s 439ms/step - loss: 0.0170 - acc: 0.9955 - val_loss: 0.1118 - val_acc: 0.9750\n",
      "Epoch 3/30\n",
      "100/100 [==============================] - 44s 442ms/step - loss: 0.0132 - acc: 0.9950 - val_loss: 0.1031 - val_acc: 0.9750\n",
      "Epoch 4/30\n",
      "100/100 [==============================] - 44s 442ms/step - loss: 0.0149 - acc: 0.9945 - val_loss: 0.1060 - val_acc: 0.9770\n",
      "Epoch 5/30\n",
      "100/100 [==============================] - 44s 441ms/step - loss: 0.0234 - acc: 0.9930 - val_loss: 0.1359 - val_acc: 0.9710\n",
      "Epoch 6/30\n",
      "100/100 [==============================] - 44s 442ms/step - loss: 0.0139 - acc: 0.9945 - val_loss: 0.1315 - val_acc: 0.9740\n",
      "Epoch 7/30\n",
      "100/100 [==============================] - 44s 441ms/step - loss: 0.0133 - acc: 0.9960 - val_loss: 0.1494 - val_acc: 0.9660\n",
      "Epoch 8/30\n",
      "100/100 [==============================] - 44s 439ms/step - loss: 0.0081 - acc: 0.9975 - val_loss: 0.1852 - val_acc: 0.9710\n",
      "Epoch 9/30\n",
      "100/100 [==============================] - 44s 442ms/step - loss: 0.0092 - acc: 0.9970 - val_loss: 0.1428 - val_acc: 0.9740\n",
      "Epoch 10/30\n",
      "100/100 [==============================] - 44s 442ms/step - loss: 0.0135 - acc: 0.9955 - val_loss: 0.1661 - val_acc: 0.9690\n",
      "Epoch 11/30\n",
      "100/100 [==============================] - 44s 439ms/step - loss: 0.0137 - acc: 0.9960 - val_loss: 0.1285 - val_acc: 0.9790\n",
      "Epoch 12/30\n",
      "100/100 [==============================] - 44s 443ms/step - loss: 0.0127 - acc: 0.9955 - val_loss: 0.1420 - val_acc: 0.9730\n",
      "Epoch 13/30\n",
      "100/100 [==============================] - 44s 442ms/step - loss: 0.0162 - acc: 0.9955 - val_loss: 0.1253 - val_acc: 0.9760\n",
      "Epoch 14/30\n",
      "100/100 [==============================] - 44s 443ms/step - loss: 0.0057 - acc: 0.9975 - val_loss: 0.1559 - val_acc: 0.9720\n",
      "Epoch 15/30\n",
      "100/100 [==============================] - 44s 442ms/step - loss: 0.0088 - acc: 0.9955 - val_loss: 0.2227 - val_acc: 0.9640\n",
      "Epoch 16/30\n",
      "100/100 [==============================] - 44s 443ms/step - loss: 0.0125 - acc: 0.9950 - val_loss: 0.1447 - val_acc: 0.9680\n",
      "Epoch 17/30\n",
      "100/100 [==============================] - 44s 441ms/step - loss: 0.0063 - acc: 0.9975 - val_loss: 0.1504 - val_acc: 0.9770\n",
      "Epoch 18/30\n",
      "100/100 [==============================] - 44s 443ms/step - loss: 0.0084 - acc: 0.9970 - val_loss: 0.2207 - val_acc: 0.9650\n",
      "Epoch 19/30\n",
      "100/100 [==============================] - 44s 443ms/step - loss: 0.0034 - acc: 0.9980 - val_loss: 0.1443 - val_acc: 0.9750\n",
      "Epoch 20/30\n",
      "100/100 [==============================] - 44s 443ms/step - loss: 0.0069 - acc: 0.9980 - val_loss: 0.1451 - val_acc: 0.9750\n",
      "Epoch 21/30\n",
      "100/100 [==============================] - 44s 444ms/step - loss: 0.0159 - acc: 0.9955 - val_loss: 0.1485 - val_acc: 0.9710\n",
      "Epoch 22/30\n",
      "100/100 [==============================] - 44s 440ms/step - loss: 0.0036 - acc: 0.9985 - val_loss: 0.1461 - val_acc: 0.9740\n",
      "Epoch 23/30\n",
      "100/100 [==============================] - 44s 443ms/step - loss: 0.0157 - acc: 0.9955 - val_loss: 0.1392 - val_acc: 0.9770\n",
      "Epoch 24/30\n",
      "100/100 [==============================] - 44s 438ms/step - loss: 0.0107 - acc: 0.9960 - val_loss: 0.1643 - val_acc: 0.9750\n",
      "Epoch 25/30\n",
      "100/100 [==============================] - 44s 442ms/step - loss: 0.0076 - acc: 0.9980 - val_loss: 0.1495 - val_acc: 0.9770\n",
      "Epoch 26/30\n",
      "100/100 [==============================] - 44s 441ms/step - loss: 0.0117 - acc: 0.9950 - val_loss: 0.1660 - val_acc: 0.9710\n",
      "Epoch 27/30\n",
      "100/100 [==============================] - 44s 440ms/step - loss: 0.0105 - acc: 0.9955 - val_loss: 0.2042 - val_acc: 0.9680\n",
      "Epoch 28/30\n",
      "100/100 [==============================] - 44s 442ms/step - loss: 0.0056 - acc: 0.9990 - val_loss: 0.2404 - val_acc: 0.9670\n",
      "Epoch 29/30\n",
      "100/100 [==============================] - 44s 439ms/step - loss: 0.0198 - acc: 0.9970 - val_loss: 0.1790 - val_acc: 0.9720\n",
      "Epoch 30/30\n",
      "100/100 [==============================] - 44s 441ms/step - loss: 0.0055 - acc: 0.9985 - val_loss: 0.1860 - val_acc: 0.9680\n"
     ]
    }
   ],
   "source": [
    "history = model.fit_generator(\n",
    "    train_generator,\n",
    "    steps_per_epoch=100,\n",
    "    epochs=30,\n",
    "    validation_data= validation_generator,\n",
    "    validation_steps=50\n",
    ")"
   ]
  },
  {
   "attachments": {},
   "cell_type": "markdown",
   "metadata": {},
   "source": [
    "### Save model"
   ]
  },
  {
   "cell_type": "code",
   "execution_count": 11,
   "metadata": {},
   "outputs": [],
   "source": [
    "model.save('cats_and_dogs_pretrained_with_fine_tuning.h5')"
   ]
  }
 ],
 "metadata": {
  "kernelspec": {
   "display_name": "deeplearning",
   "language": "python",
   "name": "python3"
  },
  "language_info": {
   "codemirror_mode": {
    "name": "ipython",
    "version": 3
   },
   "file_extension": ".py",
   "mimetype": "text/x-python",
   "name": "python",
   "nbconvert_exporter": "python",
   "pygments_lexer": "ipython3",
   "version": "3.11.3"
  },
  "orig_nbformat": 4
 },
 "nbformat": 4,
 "nbformat_minor": 2
}
