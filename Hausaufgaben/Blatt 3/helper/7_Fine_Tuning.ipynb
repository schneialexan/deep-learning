{
 "cells": [
  {
   "attachments": {},
   "cell_type": "markdown",
   "metadata": {},
   "source": [
    "# Pretrained CNN - Feature Extraction with Data Augmentation\n",
    "<br>In diesem Code Notebook behandeln wir Feature Extraction mit Data Augmentation, dies sollte nur auf Server mit GPU laufen."
   ]
  },
  {
   "attachments": {},
   "cell_type": "markdown",
   "metadata": {},
   "source": [
    "### Load Packages"
   ]
  },
  {
   "cell_type": "code",
   "execution_count": 10,
   "metadata": {},
   "outputs": [
    {
     "data": {
      "text/plain": [
       "'module://matplotlib_inline.backend_inline'"
      ]
     },
     "execution_count": 10,
     "metadata": {},
     "output_type": "execute_result"
    }
   ],
   "source": [
    "import pandas as pd\n",
    "import numpy as np\n",
    "import os\n",
    "import tensorflow as tf\n",
    "from tensorflow import keras\n",
    "\n",
    "import matplotlib\n",
    "import matplotlib.pyplot as plt # plotting library\n",
    "%matplotlib inline\n",
    "matplotlib.get_backend()"
   ]
  },
  {
   "attachments": {},
   "cell_type": "markdown",
   "metadata": {},
   "source": [
    "### Load Path Files"
   ]
  },
  {
   "cell_type": "code",
   "execution_count": 11,
   "metadata": {},
   "outputs": [],
   "source": [
    "\n",
    "original_dataset_dir = '../data/train'\n",
    "\n",
    "base_dir = '../data/cats_and_dogs_2k'\n",
    "\n",
    "train_dir = os.path.join(base_dir, 'train')\n",
    "validation_dir = os.path.join(base_dir, 'validation')\n",
    "test_dir = os.path.join(base_dir, 'test')\n",
    "\n",
    "train_cats_dir = os.path.join(train_dir, 'cats')\n",
    "train_dogs_dir = os.path.join(train_dir, 'dogs')\n",
    "\n",
    "validation_cats_dir = os.path.join(validation_dir, 'cats')\n",
    "validation_dogs_dir = os.path.join(validation_dir, 'dogs')\n",
    "\n",
    "test_cats_dir = os.path.join(test_dir, 'cats')\n",
    "test_dogs_dir = os.path.join(test_dir, 'dogs')"
   ]
  },
  {
   "attachments": {},
   "cell_type": "markdown",
   "metadata": {},
   "source": [
    "### Data Preparation with Data Augmentation"
   ]
  },
  {
   "cell_type": "code",
   "execution_count": 12,
   "metadata": {},
   "outputs": [
    {
     "name": "stdout",
     "output_type": "stream",
     "text": [
      "Found 2000 images belonging to 2 classes.\n",
      "Found 1000 images belonging to 2 classes.\n"
     ]
    }
   ],
   "source": [
    "train_datagen = keras.preprocessing.image.ImageDataGenerator(\n",
    "                                                                rescale=1./255,\n",
    "                                                                rotation_range=40,\n",
    "                                                                width_shift_range=0.2,\n",
    "                                                                height_shift_range=0.2,\n",
    "                                                                shear_range=0.2,\n",
    "                                                                zoom_range=0.2,\n",
    "                                                                horizontal_flip=True\n",
    "                                                             )\n",
    "\n",
    "test_datagen = keras.preprocessing.image.ImageDataGenerator(rescale=1./255)\n",
    "\n",
    "train_generator = train_datagen.flow_from_directory(\n",
    "    train_dir,\n",
    "    target_size = (150, 150),\n",
    "    batch_size = 20,\n",
    "    class_mode = 'binary'\n",
    ")\n",
    "\n",
    "validation_generator = test_datagen.flow_from_directory(\n",
    "    validation_dir,\n",
    "    target_size = (150,150),\n",
    "    batch_size = 20,\n",
    "    class_mode = 'binary'\n",
    ")"
   ]
  },
  {
   "attachments": {},
   "cell_type": "markdown",
   "metadata": {},
   "source": [
    "### Load Convolutional Base"
   ]
  },
  {
   "cell_type": "code",
   "execution_count": 13,
   "metadata": {},
   "outputs": [
    {
     "name": "stdout",
     "output_type": "stream",
     "text": [
      "Model: \"vgg16\"\n",
      "_________________________________________________________________\n",
      " Layer (type)                Output Shape              Param #   \n",
      "=================================================================\n",
      " input_2 (InputLayer)        [(None, 150, 150, 3)]     0         \n",
      "                                                                 \n",
      " block1_conv1 (Conv2D)       (None, 150, 150, 64)      1792      \n",
      "                                                                 \n",
      " block1_conv2 (Conv2D)       (None, 150, 150, 64)      36928     \n",
      "                                                                 \n",
      " block1_pool (MaxPooling2D)  (None, 75, 75, 64)        0         \n",
      "                                                                 \n",
      " block2_conv1 (Conv2D)       (None, 75, 75, 128)       73856     \n",
      "                                                                 \n",
      " block2_conv2 (Conv2D)       (None, 75, 75, 128)       147584    \n",
      "                                                                 \n",
      " block2_pool (MaxPooling2D)  (None, 37, 37, 128)       0         \n",
      "                                                                 \n",
      " block3_conv1 (Conv2D)       (None, 37, 37, 256)       295168    \n",
      "                                                                 \n",
      " block3_conv2 (Conv2D)       (None, 37, 37, 256)       590080    \n",
      "                                                                 \n",
      " block3_conv3 (Conv2D)       (None, 37, 37, 256)       590080    \n",
      "                                                                 \n",
      " block3_pool (MaxPooling2D)  (None, 18, 18, 256)       0         \n",
      "                                                                 \n",
      " block4_conv1 (Conv2D)       (None, 18, 18, 512)       1180160   \n",
      "                                                                 \n",
      " block4_conv2 (Conv2D)       (None, 18, 18, 512)       2359808   \n",
      "                                                                 \n",
      " block4_conv3 (Conv2D)       (None, 18, 18, 512)       2359808   \n",
      "                                                                 \n",
      " block4_pool (MaxPooling2D)  (None, 9, 9, 512)         0         \n",
      "                                                                 \n",
      " block5_conv1 (Conv2D)       (None, 9, 9, 512)         2359808   \n",
      "                                                                 \n",
      " block5_conv2 (Conv2D)       (None, 9, 9, 512)         2359808   \n",
      "                                                                 \n",
      " block5_conv3 (Conv2D)       (None, 9, 9, 512)         2359808   \n",
      "                                                                 \n",
      " block5_pool (MaxPooling2D)  (None, 4, 4, 512)         0         \n",
      "                                                                 \n",
      "=================================================================\n",
      "Total params: 14,714,688\n",
      "Trainable params: 14,714,688\n",
      "Non-trainable params: 0\n",
      "_________________________________________________________________\n",
      "None\n"
     ]
    }
   ],
   "source": [
    "conv_base = tf.keras.applications.VGG16(weights='imagenet',\n",
    "                                        include_top=False,\n",
    "                                        input_shape=(150,150,3))\n",
    "print(conv_base.summary())"
   ]
  },
  {
   "attachments": {},
   "cell_type": "markdown",
   "metadata": {},
   "source": [
    "### Model building"
   ]
  },
  {
   "cell_type": "code",
   "execution_count": 14,
   "metadata": {},
   "outputs": [
    {
     "name": "stdout",
     "output_type": "stream",
     "text": [
      "Model: \"sequential_2\"\n",
      "_________________________________________________________________\n",
      " Layer (type)                Output Shape              Param #   \n",
      "=================================================================\n",
      " vgg16 (Functional)          (None, 4, 4, 512)         14714688  \n",
      "                                                                 \n",
      " flatten_2 (Flatten)         (None, 8192)              0         \n",
      "                                                                 \n",
      " dense_4 (Dense)             (None, 256)               2097408   \n",
      "                                                                 \n",
      " dropout_2 (Dropout)         (None, 256)               0         \n",
      "                                                                 \n",
      " dense_5 (Dense)             (None, 1)                 257       \n",
      "                                                                 \n",
      "=================================================================\n",
      "Total params: 16,812,353\n",
      "Trainable params: 16,812,353\n",
      "Non-trainable params: 0\n",
      "_________________________________________________________________\n"
     ]
    }
   ],
   "source": [
    "model = tf.keras.models.Sequential()\n",
    "model.add(conv_base)\n",
    "model.add(tf.keras.layers.Flatten())\n",
    "model.add(tf.keras.layers.Dense(256, activation='relu'))\n",
    "model.add(tf.keras.layers.Dropout(0.5))\n",
    "model.add(tf.keras.layers.Dense(1, activation='sigmoid'))\n",
    "model.summary()"
   ]
  },
  {
   "cell_type": "code",
   "execution_count": 15,
   "metadata": {},
   "outputs": [
    {
     "data": {
      "image/png": "[encoded data removed]",
      "text/plain": [
       "<IPython.core.display.Image object>"
      ]
     },
     "execution_count": 15,
     "metadata": {},
     "output_type": "execute_result"
    }
   ],
   "source": [
    "from keras.utils.vis_utils import plot_model\n",
    "plot_model(model, show_shapes=True, show_layer_names=True)"
   ]
  },
  {
   "attachments": {},
   "cell_type": "markdown",
   "metadata": {},
   "source": [
    "### Compile model"
   ]
  },
  {
   "cell_type": "code",
   "execution_count": 16,
   "metadata": {},
   "outputs": [],
   "source": [
    "model.compile(loss='binary_crossentropy',\n",
    "              metrics=['acc'],\n",
    "              optimizer=tf.keras.optimizers.RMSprop(learning_rate=2e-5))"
   ]
  },
  {
   "attachments": {},
   "cell_type": "markdown",
   "metadata": {},
   "source": [
    "### Fit Model"
   ]
  },
  {
   "cell_type": "code",
   "execution_count": 17,
   "metadata": {},
   "outputs": [
    {
     "name": "stdout",
     "output_type": "stream",
     "text": [
      "Epoch 1/30\n"
     ]
    },
    {
     "name": "stderr",
     "output_type": "stream",
     "text": [
      "/tmp/ipykernel_1743640/3385942099.py:1: UserWarning: `Model.fit_generator` is deprecated and will be removed in a future version. Please use `Model.fit`, which supports generators.\n",
      "  history = model.fit_generator(\n",
      "2023-04-18 20:10:39.067499: I tensorflow/core/common_runtime/executor.cc:1197] [/device:CPU:0] (DEBUG INFO) Executor start aborting (this does not indicate an error and you can ignore this message): INVALID_ARGUMENT: You must feed a value for placeholder tensor 'Placeholder/_0' with dtype int32\n",
      "\t [[{{node Placeholder/_0}}]]\n"
     ]
    },
    {
     "name": "stdout",
     "output_type": "stream",
     "text": [
      "100/100 [==============================] - ETA: 0s - loss: 0.5277 - acc: 0.7315"
     ]
    },
    {
     "name": "stderr",
     "output_type": "stream",
     "text": [
      "2023-04-18 20:11:45.591303: I tensorflow/core/common_runtime/executor.cc:1197] [/device:CPU:0] (DEBUG INFO) Executor start aborting (this does not indicate an error and you can ignore this message): INVALID_ARGUMENT: You must feed a value for placeholder tensor 'Placeholder/_0' with dtype int32\n",
      "\t [[{{node Placeholder/_0}}]]\n"
     ]
    },
    {
     "name": "stdout",
     "output_type": "stream",
     "text": [
      "100/100 [==============================] - 79s 779ms/step - loss: 0.5277 - acc: 0.7315 - val_loss: 0.2872 - val_acc: 0.8860\n",
      "Epoch 2/30\n",
      "100/100 [==============================] - 72s 721ms/step - loss: 0.3121 - acc: 0.8680 - val_loss: 0.1543 - val_acc: 0.9380\n",
      "Epoch 3/30\n",
      "100/100 [==============================] - 73s 727ms/step - loss: 0.2530 - acc: 0.8955 - val_loss: 0.1263 - val_acc: 0.9420\n",
      "Epoch 4/30\n",
      "100/100 [==============================] - 73s 728ms/step - loss: 0.2084 - acc: 0.9185 - val_loss: 0.2948 - val_acc: 0.8870\n",
      "Epoch 5/30\n",
      "100/100 [==============================] - 73s 726ms/step - loss: 0.1644 - acc: 0.9360 - val_loss: 0.1611 - val_acc: 0.9350\n",
      "Epoch 6/30\n",
      "100/100 [==============================] - 72s 722ms/step - loss: 0.1485 - acc: 0.9450 - val_loss: 0.1053 - val_acc: 0.9650\n",
      "Epoch 7/30\n",
      "100/100 [==============================] - 72s 724ms/step - loss: 0.1333 - acc: 0.9465 - val_loss: 0.1137 - val_acc: 0.9570\n",
      "Epoch 8/30\n",
      "100/100 [==============================] - 72s 721ms/step - loss: 0.1341 - acc: 0.9455 - val_loss: 0.1054 - val_acc: 0.9660\n",
      "Epoch 9/30\n",
      "100/100 [==============================] - 73s 733ms/step - loss: 0.1237 - acc: 0.9470 - val_loss: 0.1819 - val_acc: 0.9380\n",
      "Epoch 10/30\n",
      "100/100 [==============================] - 73s 729ms/step - loss: 0.0831 - acc: 0.9695 - val_loss: 0.1015 - val_acc: 0.9640\n",
      "Epoch 11/30\n",
      "100/100 [==============================] - 72s 717ms/step - loss: 0.0984 - acc: 0.9625 - val_loss: 0.1493 - val_acc: 0.9520\n",
      "Epoch 12/30\n",
      "100/100 [==============================] - 72s 724ms/step - loss: 0.0836 - acc: 0.9695 - val_loss: 0.0938 - val_acc: 0.9660\n",
      "Epoch 13/30\n",
      "100/100 [==============================] - 73s 726ms/step - loss: 0.0747 - acc: 0.9705 - val_loss: 0.2132 - val_acc: 0.9450\n",
      "Epoch 14/30\n",
      "100/100 [==============================] - 74s 743ms/step - loss: 0.0830 - acc: 0.9655 - val_loss: 0.1043 - val_acc: 0.9710\n",
      "Epoch 15/30\n",
      "100/100 [==============================] - 73s 731ms/step - loss: 0.0806 - acc: 0.9750 - val_loss: 0.1310 - val_acc: 0.9620\n",
      "Epoch 16/30\n",
      "100/100 [==============================] - 72s 724ms/step - loss: 0.0666 - acc: 0.9750 - val_loss: 0.0900 - val_acc: 0.9710\n",
      "Epoch 17/30\n",
      "100/100 [==============================] - 71s 711ms/step - loss: 0.0645 - acc: 0.9745 - val_loss: 0.1136 - val_acc: 0.9710\n",
      "Epoch 18/30\n",
      "100/100 [==============================] - 71s 711ms/step - loss: 0.0552 - acc: 0.9775 - val_loss: 0.0958 - val_acc: 0.9720\n",
      "Epoch 19/30\n",
      "100/100 [==============================] - 72s 715ms/step - loss: 0.0510 - acc: 0.9820 - val_loss: 0.2288 - val_acc: 0.9490\n",
      "Epoch 20/30\n",
      "100/100 [==============================] - 73s 726ms/step - loss: 0.0488 - acc: 0.9830 - val_loss: 0.1061 - val_acc: 0.9670\n",
      "Epoch 21/30\n",
      "100/100 [==============================] - 72s 716ms/step - loss: 0.0515 - acc: 0.9835 - val_loss: 0.3794 - val_acc: 0.9330\n",
      "Epoch 22/30\n",
      "100/100 [==============================] - 72s 718ms/step - loss: 0.0492 - acc: 0.9835 - val_loss: 0.1099 - val_acc: 0.9660\n",
      "Epoch 23/30\n",
      "100/100 [==============================] - 72s 716ms/step - loss: 0.0422 - acc: 0.9850 - val_loss: 0.2370 - val_acc: 0.9430\n",
      "Epoch 24/30\n",
      "100/100 [==============================] - 71s 711ms/step - loss: 0.0351 - acc: 0.9870 - val_loss: 0.1434 - val_acc: 0.9660\n",
      "Epoch 25/30\n",
      "100/100 [==============================] - 71s 714ms/step - loss: 0.0453 - acc: 0.9860 - val_loss: 0.3351 - val_acc: 0.9370\n",
      "Epoch 26/30\n",
      "100/100 [==============================] - 71s 712ms/step - loss: 0.0355 - acc: 0.9880 - val_loss: 0.1162 - val_acc: 0.9680\n",
      "Epoch 27/30\n",
      "100/100 [==============================] - 72s 717ms/step - loss: 0.0554 - acc: 0.9835 - val_loss: 0.1130 - val_acc: 0.9710\n",
      "Epoch 28/30\n",
      "100/100 [==============================] - 72s 720ms/step - loss: 0.0309 - acc: 0.9865 - val_loss: 0.1843 - val_acc: 0.9630\n",
      "Epoch 29/30\n",
      "100/100 [==============================] - 73s 731ms/step - loss: 0.0361 - acc: 0.9875 - val_loss: 0.0996 - val_acc: 0.9720\n",
      "Epoch 30/30\n",
      "100/100 [==============================] - 71s 715ms/step - loss: 0.0386 - acc: 0.9885 - val_loss: 0.1242 - val_acc: 0.9710\n"
     ]
    }
   ],
   "source": [
    "history = model.fit_generator(\n",
    "    train_generator,\n",
    "    steps_per_epoch=100,\n",
    "    epochs=30,\n",
    "    validation_data= validation_generator,\n",
    "    validation_steps=50\n",
    ")"
   ]
  },
  {
   "attachments": {},
   "cell_type": "markdown",
   "metadata": {},
   "source": [
    "### Fine_Tune"
   ]
  },
  {
   "cell_type": "code",
   "execution_count": 18,
   "metadata": {},
   "outputs": [
    {
     "name": "stdout",
     "output_type": "stream",
     "text": [
      "Model: \"sequential_2\"\n",
      "_________________________________________________________________\n",
      " Layer (type)                Output Shape              Param #   \n",
      "=================================================================\n",
      " vgg16 (Functional)          (None, 4, 4, 512)         14714688  \n",
      "                                                                 \n",
      " flatten_2 (Flatten)         (None, 8192)              0         \n",
      "                                                                 \n",
      " dense_4 (Dense)             (None, 256)               2097408   \n",
      "                                                                 \n",
      " dropout_2 (Dropout)         (None, 256)               0         \n",
      "                                                                 \n",
      " dense_5 (Dense)             (None, 1)                 257       \n",
      "                                                                 \n",
      "=================================================================\n",
      "Total params: 16,812,353\n",
      "Trainable params: 9,177,089\n",
      "Non-trainable params: 7,635,264\n",
      "_________________________________________________________________\n"
     ]
    }
   ],
   "source": [
    "conv_base.trainable = True\n",
    "\n",
    "set_trainable = False\n",
    "for layer in conv_base.layers:\n",
    "    if layer.name == 'block5_conv1':\n",
    "        set_trainable = True\n",
    "    if set_trainable:\n",
    "        layer.trainable = True\n",
    "    else:\n",
    "        layer.trainable = False\n",
    "\n",
    "model.summary()"
   ]
  },
  {
   "attachments": {},
   "cell_type": "markdown",
   "metadata": {},
   "source": [
    "### Compile model"
   ]
  },
  {
   "cell_type": "code",
   "execution_count": 19,
   "metadata": {},
   "outputs": [],
   "source": [
    "model.compile(loss='binary_crossentropy',\n",
    "              metrics=['acc'],\n",
    "              optimizer=tf.keras.optimizers.RMSprop(learning_rate=2e-5))"
   ]
  },
  {
   "attachments": {},
   "cell_type": "markdown",
   "metadata": {},
   "source": [
    "### Fit Model"
   ]
  },
  {
   "cell_type": "code",
   "execution_count": 20,
   "metadata": {},
   "outputs": [
    {
     "name": "stdout",
     "output_type": "stream",
     "text": [
      "Epoch 1/30\n"
     ]
    },
    {
     "name": "stderr",
     "output_type": "stream",
     "text": [
      "/tmp/ipykernel_1743640/3385942099.py:1: UserWarning: `Model.fit_generator` is deprecated and will be removed in a future version. Please use `Model.fit`, which supports generators.\n",
      "  history = model.fit_generator(\n",
      "2023-04-18 20:46:56.180797: I tensorflow/core/common_runtime/executor.cc:1197] [/device:CPU:0] (DEBUG INFO) Executor start aborting (this does not indicate an error and you can ignore this message): INVALID_ARGUMENT: You must feed a value for placeholder tensor 'Placeholder/_0' with dtype int32\n",
      "\t [[{{node Placeholder/_0}}]]\n"
     ]
    },
    {
     "name": "stdout",
     "output_type": "stream",
     "text": [
      "100/100 [==============================] - ETA: 0s - loss: 0.0137 - acc: 0.9950"
     ]
    },
    {
     "name": "stderr",
     "output_type": "stream",
     "text": [
      "2023-04-18 20:47:28.230924: I tensorflow/core/common_runtime/executor.cc:1197] [/device:CPU:0] (DEBUG INFO) Executor start aborting (this does not indicate an error and you can ignore this message): INVALID_ARGUMENT: You must feed a value for placeholder tensor 'Placeholder/_0' with dtype int32\n",
      "\t [[{{node Placeholder/_0}}]]\n"
     ]
    },
    {
     "name": "stdout",
     "output_type": "stream",
     "text": [
      "100/100 [==============================] - 45s 444ms/step - loss: 0.0137 - acc: 0.9950 - val_loss: 0.1260 - val_acc: 0.9660\n",
      "Epoch 2/30\n",
      "100/100 [==============================] - 44s 443ms/step - loss: 0.0162 - acc: 0.9930 - val_loss: 0.1109 - val_acc: 0.9710\n",
      "Epoch 3/30\n",
      "100/100 [==============================] - 44s 440ms/step - loss: 0.0153 - acc: 0.9955 - val_loss: 0.1195 - val_acc: 0.9730\n",
      "Epoch 4/30\n",
      "100/100 [==============================] - 44s 441ms/step - loss: 0.0111 - acc: 0.9955 - val_loss: 0.1857 - val_acc: 0.9710\n",
      "Epoch 5/30\n",
      "100/100 [==============================] - 44s 441ms/step - loss: 0.0168 - acc: 0.9950 - val_loss: 0.1465 - val_acc: 0.9710\n",
      "Epoch 6/30\n",
      "100/100 [==============================] - 44s 441ms/step - loss: 0.0170 - acc: 0.9955 - val_loss: 0.1391 - val_acc: 0.9700\n",
      "Epoch 7/30\n",
      "100/100 [==============================] - 44s 441ms/step - loss: 0.0073 - acc: 0.9980 - val_loss: 0.1627 - val_acc: 0.9700\n",
      "Epoch 8/30\n",
      "100/100 [==============================] - 44s 440ms/step - loss: 0.0169 - acc: 0.9935 - val_loss: 0.1507 - val_acc: 0.9750\n",
      "Epoch 9/30\n",
      "100/100 [==============================] - 44s 439ms/step - loss: 0.0112 - acc: 0.9965 - val_loss: 0.1461 - val_acc: 0.9740\n",
      "Epoch 10/30\n",
      "100/100 [==============================] - 44s 439ms/step - loss: 0.0093 - acc: 0.9970 - val_loss: 0.1694 - val_acc: 0.9740\n",
      "Epoch 11/30\n",
      "100/100 [==============================] - 44s 437ms/step - loss: 0.0067 - acc: 0.9970 - val_loss: 0.1747 - val_acc: 0.9740\n",
      "Epoch 12/30\n",
      "100/100 [==============================] - 44s 441ms/step - loss: 0.0129 - acc: 0.9970 - val_loss: 0.1845 - val_acc: 0.9710\n",
      "Epoch 13/30\n",
      "100/100 [==============================] - 44s 442ms/step - loss: 0.0151 - acc: 0.9965 - val_loss: 0.2018 - val_acc: 0.9720\n",
      "Epoch 14/30\n",
      "100/100 [==============================] - 44s 442ms/step - loss: 0.0141 - acc: 0.9970 - val_loss: 0.1578 - val_acc: 0.9740\n",
      "Epoch 15/30\n",
      "100/100 [==============================] - 44s 438ms/step - loss: 0.0148 - acc: 0.9955 - val_loss: 0.1640 - val_acc: 0.9770\n",
      "Epoch 16/30\n",
      "100/100 [==============================] - 44s 443ms/step - loss: 0.0066 - acc: 0.9975 - val_loss: 0.1378 - val_acc: 0.9740\n",
      "Epoch 17/30\n",
      "100/100 [==============================] - 44s 436ms/step - loss: 0.0123 - acc: 0.9965 - val_loss: 0.1912 - val_acc: 0.9730\n",
      "Epoch 18/30\n",
      "100/100 [==============================] - 44s 438ms/step - loss: 0.0063 - acc: 0.9985 - val_loss: 0.1937 - val_acc: 0.9730\n",
      "Epoch 19/30\n",
      "100/100 [==============================] - 44s 439ms/step - loss: 0.0117 - acc: 0.9955 - val_loss: 0.2066 - val_acc: 0.9740\n",
      "Epoch 20/30\n",
      "100/100 [==============================] - 44s 440ms/step - loss: 0.0037 - acc: 0.9990 - val_loss: 0.1621 - val_acc: 0.9720\n",
      "Epoch 21/30\n",
      "100/100 [==============================] - 44s 440ms/step - loss: 0.0163 - acc: 0.9960 - val_loss: 0.1634 - val_acc: 0.9750\n",
      "Epoch 22/30\n",
      "100/100 [==============================] - 44s 441ms/step - loss: 0.0084 - acc: 0.9975 - val_loss: 0.1466 - val_acc: 0.9700\n",
      "Epoch 23/30\n",
      "100/100 [==============================] - 44s 437ms/step - loss: 0.0128 - acc: 0.9940 - val_loss: 0.1513 - val_acc: 0.9670\n",
      "Epoch 24/30\n",
      "100/100 [==============================] - 44s 440ms/step - loss: 0.0048 - acc: 0.9985 - val_loss: 0.1658 - val_acc: 0.9750\n",
      "Epoch 25/30\n",
      "100/100 [==============================] - 44s 439ms/step - loss: 0.0146 - acc: 0.9965 - val_loss: 0.1544 - val_acc: 0.9730\n",
      "Epoch 26/30\n",
      "100/100 [==============================] - 44s 442ms/step - loss: 0.0067 - acc: 0.9980 - val_loss: 0.1535 - val_acc: 0.9730\n",
      "Epoch 27/30\n",
      "100/100 [==============================] - 44s 442ms/step - loss: 0.0095 - acc: 0.9985 - val_loss: 0.1722 - val_acc: 0.9750\n",
      "Epoch 28/30\n",
      "100/100 [==============================] - 44s 443ms/step - loss: 0.0170 - acc: 0.9940 - val_loss: 0.1703 - val_acc: 0.9700\n",
      "Epoch 29/30\n",
      "100/100 [==============================] - 44s 440ms/step - loss: 0.0023 - acc: 0.9995 - val_loss: 0.1463 - val_acc: 0.9770\n",
      "Epoch 30/30\n",
      "100/100 [==============================] - 44s 440ms/step - loss: 0.0055 - acc: 0.9965 - val_loss: 0.1969 - val_acc: 0.9720\n"
     ]
    }
   ],
   "source": [
    "history = model.fit_generator(\n",
    "    train_generator,\n",
    "    steps_per_epoch=100,\n",
    "    epochs=30,\n",
    "    validation_data= validation_generator,\n",
    "    validation_steps=50\n",
    ")"
   ]
  },
  {
   "attachments": {},
   "cell_type": "markdown",
   "metadata": {},
   "source": [
    "### Save model"
   ]
  },
  {
   "cell_type": "code",
   "execution_count": 21,
   "metadata": {},
   "outputs": [],
   "source": [
    "model.save('cats_and_dogs_pretrained_with_fine_tuning.h5')"
   ]
  }
 ],
 "metadata": {
  "kernelspec": {
   "display_name": "deeplearning",
   "language": "python",
   "name": "python3"
  },
  "language_info": {
   "codemirror_mode": {
    "name": "ipython",
    "version": 3
   },
   "file_extension": ".py",
   "mimetype": "text/x-python",
   "name": "python",
   "nbconvert_exporter": "python",
   "pygments_lexer": "ipython3",
   "version": "3.11.3"
  },
  "orig_nbformat": 4
 },
 "nbformat": 4,
 "nbformat_minor": 2
}
