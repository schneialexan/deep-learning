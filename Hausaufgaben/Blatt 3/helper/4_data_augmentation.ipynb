{
 "cells": [
  {
   "cell_type": "markdown",
   "metadata": {
    "collapsed": false
   },
   "source": [
    "# Data Augmentation\n",
    "In diesem Notebook behandeln wir die Datenerweiterung bei Bildern. Die Codes stammen aus dem Buch von Chollet (2018)"
   ]
  },
  {
   "cell_type": "markdown",
   "metadata": {
    "collapsed": false
   },
   "source": [
    "## Load Packages"
   ]
  },
  {
   "cell_type": "code",
   "execution_count": 1,
   "metadata": {
    "collapsed": true
   },
   "outputs": [
    {
     "name": "stderr",
     "output_type": "stream",
     "text": [
      "2023-04-18 15:02:00.299960: I tensorflow/core/util/port.cc:110] oneDNN custom operations are on. You may see slightly different numerical results due to floating-point round-off errors from different computation orders. To turn them off, set the environment variable `TF_ENABLE_ONEDNN_OPTS=0`.\n",
      "2023-04-18 15:02:00.303152: I tensorflow/tsl/cuda/cudart_stub.cc:28] Could not find cuda drivers on your machine, GPU will not be used.\n",
      "2023-04-18 15:02:00.349858: I tensorflow/tsl/cuda/cudart_stub.cc:28] Could not find cuda drivers on your machine, GPU will not be used.\n",
      "2023-04-18 15:02:00.351522: I tensorflow/core/platform/cpu_feature_guard.cc:182] This TensorFlow binary is optimized to use available CPU instructions in performance-critical operations.\n",
      "To enable the following instructions: AVX2 AVX512F AVX512_VNNI FMA, in other operations, rebuild TensorFlow with the appropriate compiler flags.\n",
      "2023-04-18 15:02:00.894642: W tensorflow/compiler/tf2tensorrt/utils/py_utils.cc:38] TF-TRT Warning: Could not find TensorRT\n"
     ]
    },
    {
     "data": {
      "text/plain": [
       "'module://matplotlib_inline.backend_inline'"
      ]
     },
     "execution_count": 1,
     "metadata": {},
     "output_type": "execute_result"
    }
   ],
   "source": [
    "import pandas as pd\n",
    "import numpy as np\n",
    "import os\n",
    "import tensorflow as tf\n",
    "from tensorflow import keras\n",
    "\n",
    "import matplotlib\n",
    "import matplotlib.pyplot as plt # plotting library\n",
    "%matplotlib inline\n",
    "matplotlib.get_backend()"
   ]
  },
  {
   "cell_type": "markdown",
   "metadata": {
    "collapsed": false
   },
   "source": [
    "## Data Path"
   ]
  },
  {
   "cell_type": "code",
   "execution_count": 2,
   "metadata": {
    "collapsed": false
   },
   "outputs": [],
   "source": [
    "original_dataset_dir = '../data/train'\n",
    "\n",
    "base_dir = '../data/cats_and_dogs_2k/'\n",
    "\n",
    "train_dir = os.path.join(base_dir, 'train')\n",
    "validation_dir = os.path.join(base_dir, 'validation')\n",
    "test_dir = os.path.join(base_dir, 'test')\n",
    "\n",
    "train_cats_dir = os.path.join(train_dir, 'cats')\n",
    "train_dogs_dir = os.path.join(train_dir, 'dogs')\n",
    "\n",
    "validation_cats_dir = os.path.join(validation_dir, 'cats')\n",
    "validation_dogs_dir = os.path.join(validation_dir, 'dogs')\n",
    "\n",
    "test_cats_dir = os.path.join(test_dir, 'cats')\n",
    "test_dogs_dir = os.path.join(test_dir, 'dogs')"
   ]
  },
  {
   "cell_type": "markdown",
   "metadata": {
    "collapsed": false
   },
   "source": [
    "## Data Gathering with Generator"
   ]
  },
  {
   "cell_type": "markdown",
   "metadata": {
    "collapsed": false
   },
   "source": [
    "### Data Augmentation"
   ]
  },
  {
   "cell_type": "code",
   "execution_count": 3,
   "metadata": {
    "collapsed": false
   },
   "outputs": [],
   "source": [
    "train_datagen = keras.preprocessing.image.ImageDataGenerator(\n",
    "                                                                rescale=1./255,\n",
    "                                                                rotation_range=40,\n",
    "                                                                width_shift_range=0.2,\n",
    "                                                                height_shift_range=0.2,\n",
    "                                                                shear_range=0.2,\n",
    "                                                                zoom_range=0.2,\n",
    "                                                                horizontal_flip=True\n",
    "                                                             )"
   ]
  },
  {
   "cell_type": "markdown",
   "metadata": {
    "collapsed": false
   },
   "source": [
    "### Data Preparation"
   ]
  },
  {
   "cell_type": "code",
   "execution_count": 4,
   "metadata": {
    "collapsed": false
   },
   "outputs": [
    {
     "name": "stdout",
     "output_type": "stream",
     "text": [
      "Found 2000 images belonging to 2 classes.\n",
      "Found 1000 images belonging to 2 classes.\n"
     ]
    }
   ],
   "source": [
    "test_datagen = keras.preprocessing.image.ImageDataGenerator(rescale=1./255)\n",
    "\n",
    "train_generator = train_datagen.flow_from_directory(\n",
    "    train_dir,\n",
    "    target_size = (150, 150),\n",
    "    batch_size = 20,\n",
    "    class_mode = 'binary'\n",
    ")\n",
    "\n",
    "validation_generator = test_datagen.flow_from_directory(\n",
    "    validation_dir,\n",
    "    target_size = (150,150),\n",
    "    batch_size = 20,\n",
    "    class_mode = 'binary'\n",
    ")"
   ]
  },
  {
   "cell_type": "markdown",
   "metadata": {
    "collapsed": false
   },
   "source": [
    "## Model building"
   ]
  },
  {
   "cell_type": "code",
   "execution_count": 5,
   "metadata": {
    "collapsed": false
   },
   "outputs": [
    {
     "name": "stderr",
     "output_type": "stream",
     "text": [
      "2023-04-18 15:02:02.126889: W tensorflow/core/common_runtime/gpu/gpu_device.cc:1956] Cannot dlopen some GPU libraries. Please make sure the missing libraries mentioned above are installed properly if you would like to use GPU. Follow the guide at https://www.tensorflow.org/install/gpu for how to download and setup the required libraries for your platform.\n",
      "Skipping registering GPU devices...\n"
     ]
    }
   ],
   "source": [
    "model = tf.keras.models.Sequential()\n",
    "model.add(tf.keras.layers.Conv2D(32, (3,3), activation = 'relu',\n",
    "                                 input_shape=(150,150,3)))\n",
    "model.add(tf.keras.layers.MaxPool2D(2,2))\n",
    "model.add(tf.keras.layers.Conv2D(64, (3,3), activation='relu'))\n",
    "model.add(tf.keras.layers.MaxPool2D((2,2)))\n",
    "model.add(tf.keras.layers.Conv2D(128, (3,3), activation='relu'))\n",
    "model.add(tf.keras.layers.MaxPool2D((2,2)))\n",
    "model.add(tf.keras.layers.Conv2D(128, (3,3), activation='relu'))\n",
    "model.add(tf.keras.layers.MaxPool2D((2,2)))\n",
    "model.add(tf.keras.layers.Flatten())\n",
    "model.add(tf.keras.layers.Dropout(0.5))\n",
    "model.add(tf.keras.layers.Dense(512, activation= 'relu'))\n",
    "model.add(tf.keras.layers.Dense(1, activation='sigmoid'))\n"
   ]
  },
  {
   "cell_type": "markdown",
   "metadata": {
    "collapsed": false
   },
   "source": [
    "## Model Compile"
   ]
  },
  {
   "cell_type": "code",
   "execution_count": 6,
   "metadata": {
    "collapsed": false
   },
   "outputs": [],
   "source": [
    "model.compile(loss = 'binary_crossentropy',\n",
    "              optimizer=tf.keras.optimizers.RMSprop(learning_rate=1e-4),\n",
    "              metrics=['acc'])"
   ]
  },
  {
   "cell_type": "markdown",
   "metadata": {
    "collapsed": false
   },
   "source": [
    "## Fit Model"
   ]
  },
  {
   "cell_type": "code",
   "execution_count": 7,
   "metadata": {
    "collapsed": false
   },
   "outputs": [
    {
     "name": "stdout",
     "output_type": "stream",
     "text": [
      "Epoch 1/100\n"
     ]
    },
    {
     "name": "stderr",
     "output_type": "stream",
     "text": [
      "/tmp/ipykernel_1637543/2045796954.py:1: UserWarning: `Model.fit_generator` is deprecated and will be removed in a future version. Please use `Model.fit`, which supports generators.\n",
      "  history = model.fit_generator(\n",
      "2023-04-18 15:02:02.621368: I tensorflow/core/common_runtime/executor.cc:1197] [/device:CPU:0] (DEBUG INFO) Executor start aborting (this does not indicate an error and you can ignore this message): INVALID_ARGUMENT: You must feed a value for placeholder tensor 'Placeholder/_0' with dtype int32\n",
      "\t [[{{node Placeholder/_0}}]]\n"
     ]
    },
    {
     "name": "stdout",
     "output_type": "stream",
     "text": [
      "100/100 [==============================] - ETA: 0s - loss: 0.6959 - acc: 0.4915"
     ]
    },
    {
     "name": "stderr",
     "output_type": "stream",
     "text": [
      "2023-04-18 15:02:14.071829: I tensorflow/core/common_runtime/executor.cc:1197] [/device:CPU:0] (DEBUG INFO) Executor start aborting (this does not indicate an error and you can ignore this message): INVALID_ARGUMENT: You must feed a value for placeholder tensor 'Placeholder/_0' with dtype int32\n",
      "\t [[{{node Placeholder/_0}}]]\n"
     ]
    },
    {
     "name": "stdout",
     "output_type": "stream",
     "text": [
      "100/100 [==============================] - 13s 123ms/step - loss: 0.6959 - acc: 0.4915 - val_loss: 0.6957 - val_acc: 0.5000\n",
      "Epoch 2/100\n",
      "100/100 [==============================] - 12s 124ms/step - loss: 0.6919 - acc: 0.5205 - val_loss: 0.7085 - val_acc: 0.5000\n",
      "Epoch 3/100\n",
      "100/100 [==============================] - 13s 128ms/step - loss: 0.6879 - acc: 0.5440 - val_loss: 0.6738 - val_acc: 0.5850\n",
      "Epoch 4/100\n",
      "100/100 [==============================] - 13s 128ms/step - loss: 0.6787 - acc: 0.5660 - val_loss: 0.6608 - val_acc: 0.5870\n",
      "Epoch 5/100\n",
      "100/100 [==============================] - 12s 124ms/step - loss: 0.6728 - acc: 0.5795 - val_loss: 0.6613 - val_acc: 0.5820\n",
      "Epoch 6/100\n",
      "100/100 [==============================] - 13s 127ms/step - loss: 0.6667 - acc: 0.5805 - val_loss: 0.6705 - val_acc: 0.5690\n",
      "Epoch 7/100\n",
      "100/100 [==============================] - 13s 127ms/step - loss: 0.6611 - acc: 0.5890 - val_loss: 0.6444 - val_acc: 0.6260\n",
      "Epoch 8/100\n",
      "100/100 [==============================] - 13s 125ms/step - loss: 0.6591 - acc: 0.6050 - val_loss: 0.6489 - val_acc: 0.5970\n",
      "Epoch 9/100\n",
      "100/100 [==============================] - 13s 127ms/step - loss: 0.6498 - acc: 0.6115 - val_loss: 0.6824 - val_acc: 0.5490\n",
      "Epoch 10/100\n",
      "100/100 [==============================] - 13s 125ms/step - loss: 0.6329 - acc: 0.6325 - val_loss: 0.6191 - val_acc: 0.6490\n",
      "Epoch 11/100\n",
      "100/100 [==============================] - 13s 125ms/step - loss: 0.6252 - acc: 0.6405 - val_loss: 0.6255 - val_acc: 0.6230\n",
      "Epoch 12/100\n",
      "100/100 [==============================] - 12s 124ms/step - loss: 0.6111 - acc: 0.6585 - val_loss: 0.6002 - val_acc: 0.6580\n",
      "Epoch 13/100\n",
      "100/100 [==============================] - 13s 126ms/step - loss: 0.6142 - acc: 0.6590 - val_loss: 0.5728 - val_acc: 0.6810\n",
      "Epoch 14/100\n",
      "100/100 [==============================] - 13s 125ms/step - loss: 0.6069 - acc: 0.6640 - val_loss: 0.6442 - val_acc: 0.6320\n",
      "Epoch 15/100\n",
      "100/100 [==============================] - 13s 125ms/step - loss: 0.5930 - acc: 0.6890 - val_loss: 0.6099 - val_acc: 0.6510\n",
      "Epoch 16/100\n",
      "100/100 [==============================] - 13s 128ms/step - loss: 0.5878 - acc: 0.6770 - val_loss: 0.5623 - val_acc: 0.6990\n",
      "Epoch 17/100\n",
      "100/100 [==============================] - 13s 125ms/step - loss: 0.5834 - acc: 0.6955 - val_loss: 0.5689 - val_acc: 0.6910\n",
      "Epoch 18/100\n",
      "100/100 [==============================] - 12s 123ms/step - loss: 0.5743 - acc: 0.6960 - val_loss: 0.5645 - val_acc: 0.7040\n",
      "Epoch 19/100\n",
      "100/100 [==============================] - 13s 125ms/step - loss: 0.5871 - acc: 0.6815 - val_loss: 0.5530 - val_acc: 0.7010\n",
      "Epoch 20/100\n",
      "100/100 [==============================] - 13s 125ms/step - loss: 0.5766 - acc: 0.6900 - val_loss: 0.5298 - val_acc: 0.7170\n",
      "Epoch 21/100\n",
      "100/100 [==============================] - 13s 125ms/step - loss: 0.5671 - acc: 0.6935 - val_loss: 0.5474 - val_acc: 0.7120\n",
      "Epoch 22/100\n",
      "100/100 [==============================] - 13s 125ms/step - loss: 0.5733 - acc: 0.6965 - val_loss: 0.5439 - val_acc: 0.7140\n",
      "Epoch 23/100\n",
      "100/100 [==============================] - 13s 126ms/step - loss: 0.5553 - acc: 0.7235 - val_loss: 0.5668 - val_acc: 0.7050\n",
      "Epoch 24/100\n",
      "100/100 [==============================] - 13s 126ms/step - loss: 0.5647 - acc: 0.7065 - val_loss: 0.5314 - val_acc: 0.7160\n",
      "Epoch 25/100\n",
      "100/100 [==============================] - 13s 127ms/step - loss: 0.5563 - acc: 0.7125 - val_loss: 0.5718 - val_acc: 0.7070\n",
      "Epoch 26/100\n",
      "100/100 [==============================] - 13s 129ms/step - loss: 0.5463 - acc: 0.7185 - val_loss: 0.5163 - val_acc: 0.7300\n",
      "Epoch 27/100\n",
      "100/100 [==============================] - 13s 127ms/step - loss: 0.5477 - acc: 0.7205 - val_loss: 0.5480 - val_acc: 0.7170\n",
      "Epoch 28/100\n",
      "100/100 [==============================] - 12s 123ms/step - loss: 0.5429 - acc: 0.7340 - val_loss: 0.5481 - val_acc: 0.7070\n",
      "Epoch 29/100\n",
      "100/100 [==============================] - 13s 126ms/step - loss: 0.5411 - acc: 0.7250 - val_loss: 0.5219 - val_acc: 0.7370\n",
      "Epoch 30/100\n",
      "100/100 [==============================] - 13s 125ms/step - loss: 0.5425 - acc: 0.7220 - val_loss: 0.5100 - val_acc: 0.7350\n",
      "Epoch 31/100\n",
      "100/100 [==============================] - 13s 126ms/step - loss: 0.5336 - acc: 0.7325 - val_loss: 0.5029 - val_acc: 0.7420\n",
      "Epoch 32/100\n",
      "100/100 [==============================] - 13s 128ms/step - loss: 0.5315 - acc: 0.7320 - val_loss: 0.5209 - val_acc: 0.7310\n",
      "Epoch 33/100\n",
      "100/100 [==============================] - 13s 125ms/step - loss: 0.5322 - acc: 0.7190 - val_loss: 0.5239 - val_acc: 0.7220\n",
      "Epoch 34/100\n",
      "100/100 [==============================] - 13s 126ms/step - loss: 0.5281 - acc: 0.7435 - val_loss: 0.5199 - val_acc: 0.7200\n",
      "Epoch 35/100\n",
      "100/100 [==============================] - 13s 125ms/step - loss: 0.5298 - acc: 0.7335 - val_loss: 0.5095 - val_acc: 0.7410\n",
      "Epoch 36/100\n",
      "100/100 [==============================] - 13s 125ms/step - loss: 0.5254 - acc: 0.7330 - val_loss: 0.5155 - val_acc: 0.7280\n",
      "Epoch 37/100\n",
      "100/100 [==============================] - 13s 127ms/step - loss: 0.5271 - acc: 0.7295 - val_loss: 0.5045 - val_acc: 0.7370\n",
      "Epoch 38/100\n",
      "100/100 [==============================] - 13s 125ms/step - loss: 0.5179 - acc: 0.7425 - val_loss: 0.5085 - val_acc: 0.7270\n",
      "Epoch 39/100\n",
      "100/100 [==============================] - 13s 126ms/step - loss: 0.5133 - acc: 0.7500 - val_loss: 0.5382 - val_acc: 0.6990\n",
      "Epoch 40/100\n",
      "100/100 [==============================] - 13s 125ms/step - loss: 0.5102 - acc: 0.7510 - val_loss: 0.4972 - val_acc: 0.7450\n",
      "Epoch 41/100\n",
      "100/100 [==============================] - 13s 124ms/step - loss: 0.5162 - acc: 0.7390 - val_loss: 0.5014 - val_acc: 0.7560\n",
      "Epoch 42/100\n",
      "100/100 [==============================] - 13s 128ms/step - loss: 0.5166 - acc: 0.7370 - val_loss: 0.5118 - val_acc: 0.7570\n",
      "Epoch 43/100\n",
      "100/100 [==============================] - 12s 124ms/step - loss: 0.4936 - acc: 0.7565 - val_loss: 0.5337 - val_acc: 0.7360\n",
      "Epoch 44/100\n",
      "100/100 [==============================] - 13s 127ms/step - loss: 0.5102 - acc: 0.7475 - val_loss: 0.5041 - val_acc: 0.7610\n",
      "Epoch 45/100\n",
      "100/100 [==============================] - 13s 128ms/step - loss: 0.5058 - acc: 0.7520 - val_loss: 0.5039 - val_acc: 0.7290\n",
      "Epoch 46/100\n",
      "100/100 [==============================] - 13s 125ms/step - loss: 0.5029 - acc: 0.7450 - val_loss: 0.4835 - val_acc: 0.7560\n",
      "Epoch 47/100\n",
      "100/100 [==============================] - 13s 127ms/step - loss: 0.5032 - acc: 0.7610 - val_loss: 0.4894 - val_acc: 0.7540\n",
      "Epoch 48/100\n",
      "100/100 [==============================] - 13s 126ms/step - loss: 0.5088 - acc: 0.7455 - val_loss: 0.5197 - val_acc: 0.7470\n",
      "Epoch 49/100\n",
      "100/100 [==============================] - 12s 124ms/step - loss: 0.5003 - acc: 0.7640 - val_loss: 0.4987 - val_acc: 0.7470\n",
      "Epoch 50/100\n",
      "100/100 [==============================] - 13s 125ms/step - loss: 0.4860 - acc: 0.7720 - val_loss: 0.4894 - val_acc: 0.7580\n",
      "Epoch 51/100\n",
      "100/100 [==============================] - 13s 125ms/step - loss: 0.5021 - acc: 0.7575 - val_loss: 0.4912 - val_acc: 0.7580\n",
      "Epoch 52/100\n",
      "100/100 [==============================] - 12s 124ms/step - loss: 0.4851 - acc: 0.7635 - val_loss: 0.5183 - val_acc: 0.7550\n",
      "Epoch 53/100\n",
      "100/100 [==============================] - 12s 124ms/step - loss: 0.4823 - acc: 0.7645 - val_loss: 0.4761 - val_acc: 0.7660\n",
      "Epoch 54/100\n",
      "100/100 [==============================] - 12s 123ms/step - loss: 0.4793 - acc: 0.7720 - val_loss: 0.4952 - val_acc: 0.7500\n",
      "Epoch 55/100\n",
      "100/100 [==============================] - 12s 122ms/step - loss: 0.4901 - acc: 0.7680 - val_loss: 0.5171 - val_acc: 0.7510\n",
      "Epoch 56/100\n",
      "100/100 [==============================] - 13s 125ms/step - loss: 0.4914 - acc: 0.7530 - val_loss: 0.4787 - val_acc: 0.7700\n",
      "Epoch 57/100\n",
      "100/100 [==============================] - 12s 123ms/step - loss: 0.4705 - acc: 0.7650 - val_loss: 0.4772 - val_acc: 0.7780\n",
      "Epoch 58/100\n",
      "100/100 [==============================] - 12s 124ms/step - loss: 0.4813 - acc: 0.7755 - val_loss: 0.4988 - val_acc: 0.7390\n",
      "Epoch 59/100\n",
      "100/100 [==============================] - 12s 124ms/step - loss: 0.4687 - acc: 0.7715 - val_loss: 0.4613 - val_acc: 0.7730\n",
      "Epoch 60/100\n",
      "100/100 [==============================] - 12s 124ms/step - loss: 0.4670 - acc: 0.7800 - val_loss: 0.5029 - val_acc: 0.7640\n",
      "Epoch 61/100\n",
      "100/100 [==============================] - 13s 125ms/step - loss: 0.4785 - acc: 0.7630 - val_loss: 0.4634 - val_acc: 0.7830\n",
      "Epoch 62/100\n",
      "100/100 [==============================] - 13s 126ms/step - loss: 0.4711 - acc: 0.7725 - val_loss: 0.5046 - val_acc: 0.7600\n",
      "Epoch 63/100\n",
      "100/100 [==============================] - 12s 124ms/step - loss: 0.4659 - acc: 0.7730 - val_loss: 0.5483 - val_acc: 0.7330\n",
      "Epoch 64/100\n",
      "100/100 [==============================] - 13s 124ms/step - loss: 0.4632 - acc: 0.7725 - val_loss: 0.4830 - val_acc: 0.7760\n",
      "Epoch 65/100\n",
      "100/100 [==============================] - 13s 127ms/step - loss: 0.4595 - acc: 0.7820 - val_loss: 0.4512 - val_acc: 0.7860\n",
      "Epoch 66/100\n",
      "100/100 [==============================] - 13s 125ms/step - loss: 0.4654 - acc: 0.7765 - val_loss: 0.4649 - val_acc: 0.7630\n",
      "Epoch 67/100\n",
      "100/100 [==============================] - 13s 125ms/step - loss: 0.4605 - acc: 0.7770 - val_loss: 0.4617 - val_acc: 0.7880\n",
      "Epoch 68/100\n",
      "100/100 [==============================] - 12s 124ms/step - loss: 0.4697 - acc: 0.7745 - val_loss: 0.4645 - val_acc: 0.7750\n",
      "Epoch 69/100\n",
      "100/100 [==============================] - 13s 126ms/step - loss: 0.4512 - acc: 0.7950 - val_loss: 0.4611 - val_acc: 0.7780\n",
      "Epoch 70/100\n",
      "100/100 [==============================] - 13s 126ms/step - loss: 0.4658 - acc: 0.7780 - val_loss: 0.4550 - val_acc: 0.7960\n",
      "Epoch 71/100\n",
      "100/100 [==============================] - 13s 126ms/step - loss: 0.4400 - acc: 0.7895 - val_loss: 0.5197 - val_acc: 0.7640\n",
      "Epoch 72/100\n",
      "100/100 [==============================] - 13s 124ms/step - loss: 0.4588 - acc: 0.7935 - val_loss: 0.4390 - val_acc: 0.7900\n",
      "Epoch 73/100\n",
      "100/100 [==============================] - 13s 127ms/step - loss: 0.4429 - acc: 0.7875 - val_loss: 0.4553 - val_acc: 0.7890\n",
      "Epoch 74/100\n",
      "100/100 [==============================] - 12s 124ms/step - loss: 0.4419 - acc: 0.7925 - val_loss: 0.5350 - val_acc: 0.7560\n",
      "Epoch 75/100\n",
      "100/100 [==============================] - 13s 126ms/step - loss: 0.4424 - acc: 0.7875 - val_loss: 0.4575 - val_acc: 0.7920\n",
      "Epoch 76/100\n",
      "100/100 [==============================] - 12s 124ms/step - loss: 0.4475 - acc: 0.7890 - val_loss: 0.4507 - val_acc: 0.7930\n",
      "Epoch 77/100\n",
      "100/100 [==============================] - 12s 123ms/step - loss: 0.4394 - acc: 0.7845 - val_loss: 0.4603 - val_acc: 0.7890\n",
      "Epoch 78/100\n",
      "100/100 [==============================] - 13s 126ms/step - loss: 0.4407 - acc: 0.7975 - val_loss: 0.4576 - val_acc: 0.7830\n",
      "Epoch 79/100\n",
      "100/100 [==============================] - 13s 126ms/step - loss: 0.4369 - acc: 0.7940 - val_loss: 0.4897 - val_acc: 0.7640\n",
      "Epoch 80/100\n",
      "100/100 [==============================] - 13s 127ms/step - loss: 0.4352 - acc: 0.7975 - val_loss: 0.4624 - val_acc: 0.7870\n",
      "Epoch 81/100\n",
      "100/100 [==============================] - 13s 128ms/step - loss: 0.4489 - acc: 0.8020 - val_loss: 0.4743 - val_acc: 0.7760\n",
      "Epoch 82/100\n",
      "100/100 [==============================] - 13s 125ms/step - loss: 0.4268 - acc: 0.8050 - val_loss: 0.4488 - val_acc: 0.7950\n",
      "Epoch 83/100\n",
      "100/100 [==============================] - 13s 125ms/step - loss: 0.4261 - acc: 0.8060 - val_loss: 0.4661 - val_acc: 0.7940\n",
      "Epoch 84/100\n",
      "100/100 [==============================] - 13s 126ms/step - loss: 0.4369 - acc: 0.7965 - val_loss: 0.4889 - val_acc: 0.7610\n",
      "Epoch 85/100\n",
      "100/100 [==============================] - 13s 125ms/step - loss: 0.4458 - acc: 0.7870 - val_loss: 0.4407 - val_acc: 0.8030\n",
      "Epoch 86/100\n",
      "100/100 [==============================] - 13s 126ms/step - loss: 0.4218 - acc: 0.8025 - val_loss: 0.4482 - val_acc: 0.7870\n",
      "Epoch 87/100\n",
      "100/100 [==============================] - 13s 126ms/step - loss: 0.4185 - acc: 0.8035 - val_loss: 0.4364 - val_acc: 0.8050\n",
      "Epoch 88/100\n",
      "100/100 [==============================] - 12s 124ms/step - loss: 0.4389 - acc: 0.7975 - val_loss: 0.4361 - val_acc: 0.8090\n",
      "Epoch 89/100\n",
      "100/100 [==============================] - 12s 124ms/step - loss: 0.4265 - acc: 0.8010 - val_loss: 0.4459 - val_acc: 0.7920\n",
      "Epoch 90/100\n",
      "100/100 [==============================] - 13s 125ms/step - loss: 0.4213 - acc: 0.7955 - val_loss: 0.4947 - val_acc: 0.7850\n",
      "Epoch 91/100\n",
      "100/100 [==============================] - 13s 127ms/step - loss: 0.4036 - acc: 0.8220 - val_loss: 0.4407 - val_acc: 0.8010\n",
      "Epoch 92/100\n",
      "100/100 [==============================] - 13s 125ms/step - loss: 0.4258 - acc: 0.7965 - val_loss: 0.4556 - val_acc: 0.7910\n",
      "Epoch 93/100\n",
      "100/100 [==============================] - 13s 127ms/step - loss: 0.4160 - acc: 0.8070 - val_loss: 0.4632 - val_acc: 0.7840\n",
      "Epoch 94/100\n",
      "100/100 [==============================] - 13s 125ms/step - loss: 0.4106 - acc: 0.8135 - val_loss: 0.4879 - val_acc: 0.7720\n",
      "Epoch 95/100\n",
      "100/100 [==============================] - 13s 125ms/step - loss: 0.4173 - acc: 0.8025 - val_loss: 0.4423 - val_acc: 0.8140\n",
      "Epoch 96/100\n",
      "100/100 [==============================] - 13s 127ms/step - loss: 0.4033 - acc: 0.8125 - val_loss: 0.4250 - val_acc: 0.8200\n",
      "Epoch 97/100\n",
      "100/100 [==============================] - 13s 126ms/step - loss: 0.4063 - acc: 0.8080 - val_loss: 0.4682 - val_acc: 0.7760\n",
      "Epoch 98/100\n",
      "100/100 [==============================] - 13s 126ms/step - loss: 0.4045 - acc: 0.8220 - val_loss: 0.5009 - val_acc: 0.7650\n",
      "Epoch 99/100\n",
      "100/100 [==============================] - 13s 124ms/step - loss: 0.3920 - acc: 0.8270 - val_loss: 0.4814 - val_acc: 0.7750\n",
      "Epoch 100/100\n",
      "100/100 [==============================] - 12s 124ms/step - loss: 0.3989 - acc: 0.8125 - val_loss: 0.4472 - val_acc: 0.7990\n"
     ]
    }
   ],
   "source": [
    "history = model.fit_generator(\n",
    "    train_generator,\n",
    "    steps_per_epoch= 100,\n",
    "    epochs = 100,\n",
    "    validation_data=validation_generator,\n",
    "    validation_steps=50\n",
    ")"
   ]
  },
  {
   "cell_type": "markdown",
   "metadata": {
    "collapsed": false
   },
   "source": [
    "## Model Evaluation"
   ]
  },
  {
   "cell_type": "code",
   "execution_count": 8,
   "metadata": {
    "collapsed": false
   },
   "outputs": [
    {
     "data": {
      "text/plain": [
       "<Figure size 640x480 with 0 Axes>"
      ]
     },
     "execution_count": 8,
     "metadata": {},
     "output_type": "execute_result"
    },
    {
     "data": {
      "image/png": "[encoded data removed]",
      "text/plain": [
       "<Figure size 640x480 with 1 Axes>"
      ]
     },
     "metadata": {},
     "output_type": "display_data"
    },
    {
     "data": {
      "text/plain": [
       "<Figure size 640x480 with 0 Axes>"
      ]
     },
     "metadata": {},
     "output_type": "display_data"
    }
   ],
   "source": [
    "acc = history.history['acc']\n",
    "val_acc = history.history['val_acc']\n",
    "loss = history.history['loss']\n",
    "val_loss = history.history['val_loss']\n",
    "\n",
    "epochs = range(1, len(acc)+1)\n",
    "\n",
    "plt.plot(epochs, acc, 'bo', label='Training acc')\n",
    "plt.plot(epochs, val_acc, 'b', label = 'Validation acc')\n",
    "plt.title('Training and validation accuracy')\n",
    "plt.legend()\n",
    "plt.figure()"
   ]
  },
  {
   "cell_type": "code",
   "execution_count": 9,
   "metadata": {
    "collapsed": false
   },
   "outputs": [
    {
     "data": {
      "text/plain": [
       "<Figure size 640x480 with 0 Axes>"
      ]
     },
     "execution_count": 9,
     "metadata": {},
     "output_type": "execute_result"
    },
    {
     "data": {
      "image/png": "[encoded data removed]",
      "text/plain": [
       "<Figure size 640x480 with 1 Axes>"
      ]
     },
     "metadata": {},
     "output_type": "display_data"
    },
    {
     "data": {
      "text/plain": [
       "<Figure size 640x480 with 0 Axes>"
      ]
     },
     "metadata": {},
     "output_type": "display_data"
    }
   ],
   "source": [
    "plt.plot(epochs, loss, 'bo', label='Training loss')\n",
    "plt.plot(epochs, val_loss, 'b', label = 'Validation loss')\n",
    "plt.title('Training and validation loss')\n",
    "plt.legend()\n",
    "plt.figure()"
   ]
  },
  {
   "cell_type": "markdown",
   "metadata": {
    "collapsed": false
   },
   "source": [
    "## Model Save"
   ]
  },
  {
   "cell_type": "code",
   "execution_count": 10,
   "metadata": {
    "collapsed": false
   },
   "outputs": [],
   "source": [
    "model.save('cats_and_dogs_2k.h5')"
   ]
  },
  {
   "cell_type": "markdown",
   "metadata": {
    "collapsed": false
   },
   "source": [
    "## REFERENCES\n",
    "Francois Chollet (2018), Deep Learning with Keras, Manning."
   ]
  }
 ],
 "metadata": {
  "kernelspec": {
   "display_name": "Python 3",
   "language": "python",
   "name": "python3"
  },
  "language_info": {
   "codemirror_mode": {
    "name": "ipython",
    "version": 3
   },
   "file_extension": ".py",
   "mimetype": "text/x-python",
   "name": "python",
   "nbconvert_exporter": "python",
   "pygments_lexer": "ipython3",
   "version": "3.11.3"
  }
 },
 "nbformat": 4,
 "nbformat_minor": 0
}
