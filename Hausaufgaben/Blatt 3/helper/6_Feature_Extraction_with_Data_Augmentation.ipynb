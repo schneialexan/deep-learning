{
 "cells": [
  {
   "attachments": {},
   "cell_type": "markdown",
   "metadata": {},
   "source": [
    "# Pretrained CNN - Feature Extraction with Data Augmentation\n",
    "<br>In diesem Code Notebook behandeln wir Feature Extraction mit Data Augmentation, dies sollte nur auf Server mit GPU laufen."
   ]
  },
  {
   "attachments": {},
   "cell_type": "markdown",
   "metadata": {},
   "source": [
    "### Load Packages"
   ]
  },
  {
   "cell_type": "code",
   "execution_count": 1,
   "metadata": {},
   "outputs": [
    {
     "name": "stderr",
     "output_type": "stream",
     "text": [
      "2023-04-18 15:49:22.080204: I tensorflow/core/util/port.cc:110] oneDNN custom operations are on. You may see slightly different numerical results due to floating-point round-off errors from different computation orders. To turn them off, set the environment variable `TF_ENABLE_ONEDNN_OPTS=0`.\n",
      "2023-04-18 15:49:22.082775: I tensorflow/tsl/cuda/cudart_stub.cc:28] Could not find cuda drivers on your machine, GPU will not be used.\n",
      "2023-04-18 15:49:22.128642: I tensorflow/tsl/cuda/cudart_stub.cc:28] Could not find cuda drivers on your machine, GPU will not be used.\n",
      "2023-04-18 15:49:22.129713: I tensorflow/core/platform/cpu_feature_guard.cc:182] This TensorFlow binary is optimized to use available CPU instructions in performance-critical operations.\n",
      "To enable the following instructions: AVX2 AVX512F AVX512_VNNI FMA, in other operations, rebuild TensorFlow with the appropriate compiler flags.\n",
      "2023-04-18 15:49:22.789058: W tensorflow/compiler/tf2tensorrt/utils/py_utils.cc:38] TF-TRT Warning: Could not find TensorRT\n"
     ]
    },
    {
     "data": {
      "text/plain": [
       "'module://matplotlib_inline.backend_inline'"
      ]
     },
     "execution_count": 1,
     "metadata": {},
     "output_type": "execute_result"
    }
   ],
   "source": [
    "import pandas as pd\n",
    "import numpy as np\n",
    "import os\n",
    "import tensorflow as tf\n",
    "from tensorflow import keras\n",
    "\n",
    "import matplotlib\n",
    "import matplotlib.pyplot as plt # plotting library\n",
    "%matplotlib inline\n",
    "matplotlib.get_backend()"
   ]
  },
  {
   "attachments": {},
   "cell_type": "markdown",
   "metadata": {},
   "source": [
    "### Load Path Files"
   ]
  },
  {
   "cell_type": "code",
   "execution_count": 2,
   "metadata": {},
   "outputs": [],
   "source": [
    "original_dataset_dir = '../data/train'\n",
    "\n",
    "base_dir = '../data/cats_and_dogs_2k/'\n",
    "\n",
    "train_dir = os.path.join(base_dir, 'train')\n",
    "validation_dir = os.path.join(base_dir, 'validation')\n",
    "test_dir = os.path.join(base_dir, 'test')\n",
    "\n",
    "train_cats_dir = os.path.join(train_dir, 'cats')\n",
    "train_dogs_dir = os.path.join(train_dir, 'dogs')\n",
    "\n",
    "validation_cats_dir = os.path.join(validation_dir, 'cats')\n",
    "validation_dogs_dir = os.path.join(validation_dir, 'dogs')\n",
    "\n",
    "test_cats_dir = os.path.join(test_dir, 'cats')\n",
    "test_dogs_dir = os.path.join(test_dir, 'dogs')"
   ]
  },
  {
   "attachments": {},
   "cell_type": "markdown",
   "metadata": {},
   "source": [
    "### Data Preparation with Data Augmentation"
   ]
  },
  {
   "cell_type": "code",
   "execution_count": 3,
   "metadata": {},
   "outputs": [
    {
     "name": "stdout",
     "output_type": "stream",
     "text": [
      "Found 2000 images belonging to 2 classes.\n",
      "Found 1000 images belonging to 2 classes.\n"
     ]
    }
   ],
   "source": [
    "train_datagen = keras.preprocessing.image.ImageDataGenerator(\n",
    "                                                                rescale=1./255,\n",
    "                                                                rotation_range=40,\n",
    "                                                                width_shift_range=0.2,\n",
    "                                                                height_shift_range=0.2,\n",
    "                                                                shear_range=0.2,\n",
    "                                                                zoom_range=0.2,\n",
    "                                                                horizontal_flip=True\n",
    "                                                             )\n",
    "\n",
    "test_datagen = keras.preprocessing.image.ImageDataGenerator(rescale=1./255)\n",
    "\n",
    "train_generator = train_datagen.flow_from_directory(\n",
    "    train_dir,\n",
    "    target_size = (150, 150),\n",
    "    batch_size = 20,\n",
    "    class_mode = 'binary'\n",
    ")\n",
    "\n",
    "validation_generator = test_datagen.flow_from_directory(\n",
    "    validation_dir,\n",
    "    target_size = (150,150),\n",
    "    batch_size = 20,\n",
    "    class_mode = 'binary'\n",
    ")"
   ]
  },
  {
   "attachments": {},
   "cell_type": "markdown",
   "metadata": {},
   "source": [
    "### Load Convolutional Base"
   ]
  },
  {
   "cell_type": "code",
   "execution_count": 4,
   "metadata": {},
   "outputs": [
    {
     "name": "stderr",
     "output_type": "stream",
     "text": [
      "2023-04-18 15:49:24.237234: W tensorflow/core/common_runtime/gpu/gpu_device.cc:1956] Cannot dlopen some GPU libraries. Please make sure the missing libraries mentioned above are installed properly if you would like to use GPU. Follow the guide at https://www.tensorflow.org/install/gpu for how to download and setup the required libraries for your platform.\n",
      "Skipping registering GPU devices...\n"
     ]
    },
    {
     "name": "stdout",
     "output_type": "stream",
     "text": [
      "Model: \"vgg16\"\n",
      "_________________________________________________________________\n",
      " Layer (type)                Output Shape              Param #   \n",
      "=================================================================\n",
      " input_1 (InputLayer)        [(None, 150, 150, 3)]     0         \n",
      "                                                                 \n",
      " block1_conv1 (Conv2D)       (None, 150, 150, 64)      1792      \n",
      "                                                                 \n",
      " block1_conv2 (Conv2D)       (None, 150, 150, 64)      36928     \n",
      "                                                                 \n",
      " block1_pool (MaxPooling2D)  (None, 75, 75, 64)        0         \n",
      "                                                                 \n",
      " block2_conv1 (Conv2D)       (None, 75, 75, 128)       73856     \n",
      "                                                                 \n",
      " block2_conv2 (Conv2D)       (None, 75, 75, 128)       147584    \n",
      "                                                                 \n",
      " block2_pool (MaxPooling2D)  (None, 37, 37, 128)       0         \n",
      "                                                                 \n",
      " block3_conv1 (Conv2D)       (None, 37, 37, 256)       295168    \n",
      "                                                                 \n",
      " block3_conv2 (Conv2D)       (None, 37, 37, 256)       590080    \n",
      "                                                                 \n",
      " block3_conv3 (Conv2D)       (None, 37, 37, 256)       590080    \n",
      "                                                                 \n",
      " block3_pool (MaxPooling2D)  (None, 18, 18, 256)       0         \n",
      "                                                                 \n",
      " block4_conv1 (Conv2D)       (None, 18, 18, 512)       1180160   \n",
      "                                                                 \n",
      " block4_conv2 (Conv2D)       (None, 18, 18, 512)       2359808   \n",
      "                                                                 \n",
      " block4_conv3 (Conv2D)       (None, 18, 18, 512)       2359808   \n",
      "                                                                 \n",
      " block4_pool (MaxPooling2D)  (None, 9, 9, 512)         0         \n",
      "                                                                 \n",
      " block5_conv1 (Conv2D)       (None, 9, 9, 512)         2359808   \n",
      "                                                                 \n",
      " block5_conv2 (Conv2D)       (None, 9, 9, 512)         2359808   \n",
      "                                                                 \n",
      " block5_conv3 (Conv2D)       (None, 9, 9, 512)         2359808   \n",
      "                                                                 \n",
      " block5_pool (MaxPooling2D)  (None, 4, 4, 512)         0         \n",
      "                                                                 \n",
      "=================================================================\n",
      "Total params: 14,714,688\n",
      "Trainable params: 14,714,688\n",
      "Non-trainable params: 0\n",
      "_________________________________________________________________\n",
      "None\n"
     ]
    }
   ],
   "source": [
    "conv_base = tf.keras.applications.VGG16(weights='imagenet',\n",
    "                                        include_top=False,\n",
    "                                        input_shape=(150,150,3))\n",
    "print(conv_base.summary())\n",
    "\n",
    "\n",
    "\n",
    "### Model building\n",
    "model = tf.keras.models.Sequential()\n",
    "model.add(conv_base)\n",
    "model.add(tf.keras.layers.Flatten())\n",
    "model.add(tf.keras.layers.Dense(256, activation='relu'))\n",
    "model.add(tf.keras.layers.Dropout(0.5))\n",
    "model.add(tf.keras.layers.Dense(1, activation='sigmoid'))"
   ]
  },
  {
   "attachments": {},
   "cell_type": "markdown",
   "metadata": {},
   "source": [
    "### Compiling"
   ]
  },
  {
   "cell_type": "code",
   "execution_count": 6,
   "metadata": {},
   "outputs": [],
   "source": [
    "model.compile(loss='binary_crossentropy',\n",
    "              metrics=['acc'],\n",
    "              optimizer=tf.keras.optimizers.RMSprop(learning_rate=2e-5))"
   ]
  },
  {
   "cell_type": "code",
   "execution_count": 5,
   "metadata": {},
   "outputs": [
    {
     "ename": "AttributeError",
     "evalue": "'bool' object has no attribute 'weights'",
     "output_type": "error",
     "traceback": [
      "\u001b[0;31m---------------------------------------------------------------------------\u001b[0m",
      "\u001b[0;31mAttributeError\u001b[0m                            Traceback (most recent call last)",
      "Cell \u001b[0;32mIn[5], line 3\u001b[0m\n\u001b[1;32m      1\u001b[0m \u001b[39m# controlling number of trainable weights in the model before freezing\u001b[39;00m\n\u001b[1;32m      2\u001b[0m \u001b[39mprint\u001b[39m(\u001b[39m'\u001b[39m\u001b[39mThis is the number of trainable weights \u001b[39m\u001b[39m'\u001b[39m\n\u001b[0;32m----> 3\u001b[0m       \u001b[39m'\u001b[39m\u001b[39mbefore freezing the conv base: \u001b[39m\u001b[39m'\u001b[39m, \u001b[39mlen\u001b[39m(model\u001b[39m.\u001b[39;49mtrainable\u001b[39m.\u001b[39;49mweights))\n\u001b[1;32m      4\u001b[0m \u001b[39m# Freezing the convolutional base layer\u001b[39;00m\n\u001b[1;32m      5\u001b[0m conv_base\u001b[39m.\u001b[39mtrainable \u001b[39m=\u001b[39m \u001b[39mFalse\u001b[39;00m\n",
      "\u001b[0;31mAttributeError\u001b[0m: 'bool' object has no attribute 'weights'"
     ]
    }
   ],
   "source": [
    "# controlling number of trainable weights in the model before freezing\n",
    "print('This is the number of trainable weights '\n",
    "      'before freezing the conv base: ', len(model.trainable.weights))\n",
    "# Freezing the convolutional base layer\n",
    "conv_base.trainable = False\n",
    "# controlling number of trainable weights in the model after freezing\n",
    "print('This is the number of trainable weights '\n",
    "      'before freezing the conv base: ', len(model.trainable.weights))"
   ]
  },
  {
   "attachments": {},
   "cell_type": "markdown",
   "metadata": {},
   "source": [
    "### Fit Model"
   ]
  },
  {
   "cell_type": "code",
   "execution_count": 7,
   "metadata": {},
   "outputs": [
    {
     "name": "stderr",
     "output_type": "stream",
     "text": [
      "/tmp/ipykernel_1690295/4031303146.py:1: UserWarning: `Model.fit_generator` is deprecated and will be removed in a future version. Please use `Model.fit`, which supports generators.\n",
      "  model.fit_generator(\n",
      "2023-04-18 16:01:43.262839: I tensorflow/core/common_runtime/executor.cc:1197] [/device:CPU:0] (DEBUG INFO) Executor start aborting (this does not indicate an error and you can ignore this message): INVALID_ARGUMENT: You must feed a value for placeholder tensor 'Placeholder/_0' with dtype int32\n",
      "\t [[{{node Placeholder/_0}}]]\n"
     ]
    },
    {
     "name": "stdout",
     "output_type": "stream",
     "text": [
      "Epoch 1/30\n",
      "100/100 [==============================] - ETA: 0s - loss: 0.5634 - acc: 0.7005"
     ]
    },
    {
     "name": "stderr",
     "output_type": "stream",
     "text": [
      "2023-04-18 16:02:46.326148: I tensorflow/core/common_runtime/executor.cc:1197] [/device:CPU:0] (DEBUG INFO) Executor start aborting (this does not indicate an error and you can ignore this message): INVALID_ARGUMENT: You must feed a value for placeholder tensor 'Placeholder/_0' with dtype int32\n",
      "\t [[{{node Placeholder/_0}}]]\n"
     ]
    },
    {
     "name": "stdout",
     "output_type": "stream",
     "text": [
      "100/100 [==============================] - 76s 750ms/step - loss: 0.5634 - acc: 0.7005 - val_loss: 0.2125 - val_acc: 0.9230\n",
      "Epoch 2/30\n",
      "100/100 [==============================] - 74s 741ms/step - loss: 0.3206 - acc: 0.8605 - val_loss: 0.1331 - val_acc: 0.9500\n",
      "Epoch 3/30\n",
      "100/100 [==============================] - 74s 740ms/step - loss: 0.2453 - acc: 0.8975 - val_loss: 0.1477 - val_acc: 0.9410\n",
      "Epoch 4/30\n",
      "100/100 [==============================] - 74s 738ms/step - loss: 0.2029 - acc: 0.9135 - val_loss: 0.4862 - val_acc: 0.8300\n",
      "Epoch 5/30\n",
      "100/100 [==============================] - 73s 727ms/step - loss: 0.1578 - acc: 0.9340 - val_loss: 0.0879 - val_acc: 0.9680\n",
      "Epoch 6/30\n",
      "100/100 [==============================] - 73s 735ms/step - loss: 0.1479 - acc: 0.9390 - val_loss: 0.1510 - val_acc: 0.9380\n",
      "Epoch 7/30\n",
      "100/100 [==============================] - 74s 737ms/step - loss: 0.1411 - acc: 0.9450 - val_loss: 0.0852 - val_acc: 0.9690\n",
      "Epoch 8/30\n",
      "100/100 [==============================] - 73s 732ms/step - loss: 0.1060 - acc: 0.9605 - val_loss: 0.2738 - val_acc: 0.9020\n",
      "Epoch 9/30\n",
      "100/100 [==============================] - 72s 716ms/step - loss: 0.1197 - acc: 0.9515 - val_loss: 0.1164 - val_acc: 0.9550\n",
      "Epoch 10/30\n",
      "100/100 [==============================] - 71s 706ms/step - loss: 0.0990 - acc: 0.9640 - val_loss: 0.2596 - val_acc: 0.9030\n",
      "Epoch 11/30\n",
      "100/100 [==============================] - 70s 705ms/step - loss: 0.0903 - acc: 0.9640 - val_loss: 0.0806 - val_acc: 0.9700\n",
      "Epoch 12/30\n",
      "100/100 [==============================] - 71s 712ms/step - loss: 0.1045 - acc: 0.9650 - val_loss: 0.1392 - val_acc: 0.9520\n",
      "Epoch 13/30\n",
      "100/100 [==============================] - 71s 711ms/step - loss: 0.0736 - acc: 0.9725 - val_loss: 0.0773 - val_acc: 0.9760\n",
      "Epoch 14/30\n",
      "100/100 [==============================] - 71s 714ms/step - loss: 0.0665 - acc: 0.9735 - val_loss: 0.0835 - val_acc: 0.9690\n",
      "Epoch 15/30\n",
      "100/100 [==============================] - 71s 709ms/step - loss: 0.0603 - acc: 0.9770 - val_loss: 0.1017 - val_acc: 0.9590\n",
      "Epoch 16/30\n",
      "100/100 [==============================] - 71s 710ms/step - loss: 0.0633 - acc: 0.9735 - val_loss: 0.0903 - val_acc: 0.9720\n",
      "Epoch 17/30\n",
      "100/100 [==============================] - 71s 713ms/step - loss: 0.0679 - acc: 0.9745 - val_loss: 0.0722 - val_acc: 0.9720\n",
      "Epoch 18/30\n",
      "100/100 [==============================] - 71s 710ms/step - loss: 0.0551 - acc: 0.9810 - val_loss: 0.1058 - val_acc: 0.9650\n",
      "Epoch 19/30\n",
      "100/100 [==============================] - 71s 710ms/step - loss: 0.0566 - acc: 0.9850 - val_loss: 0.1020 - val_acc: 0.9680\n",
      "Epoch 20/30\n",
      "100/100 [==============================] - 71s 715ms/step - loss: 0.0558 - acc: 0.9835 - val_loss: 0.1519 - val_acc: 0.9470\n",
      "Epoch 21/30\n",
      "100/100 [==============================] - 71s 710ms/step - loss: 0.0457 - acc: 0.9840 - val_loss: 0.1086 - val_acc: 0.9760\n",
      "Epoch 22/30\n",
      "100/100 [==============================] - 71s 712ms/step - loss: 0.0480 - acc: 0.9825 - val_loss: 0.3197 - val_acc: 0.9380\n",
      "Epoch 23/30\n",
      "100/100 [==============================] - 71s 706ms/step - loss: 0.0515 - acc: 0.9845 - val_loss: 0.1191 - val_acc: 0.9620\n",
      "Epoch 24/30\n",
      "100/100 [==============================] - 71s 708ms/step - loss: 0.0606 - acc: 0.9800 - val_loss: 0.1259 - val_acc: 0.9660\n",
      "Epoch 25/30\n",
      "100/100 [==============================] - 71s 709ms/step - loss: 0.0383 - acc: 0.9890 - val_loss: 0.2055 - val_acc: 0.9590\n",
      "Epoch 26/30\n",
      "100/100 [==============================] - 70s 704ms/step - loss: 0.0426 - acc: 0.9840 - val_loss: 0.1086 - val_acc: 0.9740\n",
      "Epoch 27/30\n",
      "100/100 [==============================] - 70s 703ms/step - loss: 0.0427 - acc: 0.9840 - val_loss: 0.1647 - val_acc: 0.9630\n",
      "Epoch 28/30\n",
      "100/100 [==============================] - 71s 711ms/step - loss: 0.0447 - acc: 0.9820 - val_loss: 0.1131 - val_acc: 0.9730\n",
      "Epoch 29/30\n",
      "100/100 [==============================] - 72s 720ms/step - loss: 0.0339 - acc: 0.9915 - val_loss: 0.1662 - val_acc: 0.9630\n",
      "Epoch 30/30\n",
      "100/100 [==============================] - 73s 726ms/step - loss: 0.0422 - acc: 0.9830 - val_loss: 0.2053 - val_acc: 0.9530\n"
     ]
    },
    {
     "data": {
      "text/plain": [
       "<keras.callbacks.History at 0x7f30ac25b990>"
      ]
     },
     "execution_count": 7,
     "metadata": {},
     "output_type": "execute_result"
    }
   ],
   "source": [
    "model.fit_generator(\n",
    "    train_generator,\n",
    "    steps_per_epoch=100,\n",
    "    epochs=30,\n",
    "    validation_data= validation_generator,\n",
    "    validation_steps=50\n",
    ")"
   ]
  },
  {
   "attachments": {},
   "cell_type": "markdown",
   "metadata": {},
   "source": [
    "### Save model"
   ]
  },
  {
   "cell_type": "code",
   "execution_count": 8,
   "metadata": {},
   "outputs": [],
   "source": [
    "model.save('cats_and_dogs_pretrained_with_data_augmentation.h5')"
   ]
  }
 ],
 "metadata": {
  "kernelspec": {
   "display_name": "deeplearning",
   "language": "python",
   "name": "python3"
  },
  "language_info": {
   "codemirror_mode": {
    "name": "ipython",
    "version": 3
   },
   "file_extension": ".py",
   "mimetype": "text/x-python",
   "name": "python",
   "nbconvert_exporter": "python",
   "pygments_lexer": "ipython3",
   "version": "3.11.3"
  },
  "orig_nbformat": 4
 },
 "nbformat": 4,
 "nbformat_minor": 2
}
