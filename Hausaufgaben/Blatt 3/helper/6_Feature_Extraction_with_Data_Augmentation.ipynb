{
 "cells": [
  {
   "attachments": {},
   "cell_type": "markdown",
   "metadata": {},
   "source": [
    "# Pretrained CNN - Feature Extraction with Data Augmentation\n",
    "<br>In diesem Code Notebook behandeln wir Feature Extraction mit Data Augmentation, dies sollte nur auf Server mit GPU laufen."
   ]
  },
  {
   "attachments": {},
   "cell_type": "markdown",
   "metadata": {},
   "source": [
    "### Load Packages"
   ]
  },
  {
   "cell_type": "code",
   "execution_count": 1,
   "metadata": {},
   "outputs": [
    {
     "name": "stderr",
     "output_type": "stream",
     "text": [
      "2023-04-20 08:34:42.768010: I tensorflow/core/util/port.cc:110] oneDNN custom operations are on. You may see slightly different numerical results due to floating-point round-off errors from different computation orders. To turn them off, set the environment variable `TF_ENABLE_ONEDNN_OPTS=0`.\n",
      "2023-04-20 08:34:42.770151: I tensorflow/tsl/cuda/cudart_stub.cc:28] Could not find cuda drivers on your machine, GPU will not be used.\n",
      "2023-04-20 08:34:42.811612: I tensorflow/tsl/cuda/cudart_stub.cc:28] Could not find cuda drivers on your machine, GPU will not be used.\n",
      "2023-04-20 08:34:42.812881: I tensorflow/core/platform/cpu_feature_guard.cc:182] This TensorFlow binary is optimized to use available CPU instructions in performance-critical operations.\n",
      "To enable the following instructions: AVX2 AVX512F AVX512_VNNI FMA, in other operations, rebuild TensorFlow with the appropriate compiler flags.\n",
      "2023-04-20 08:34:43.497740: W tensorflow/compiler/tf2tensorrt/utils/py_utils.cc:38] TF-TRT Warning: Could not find TensorRT\n"
     ]
    },
    {
     "data": {
      "text/plain": [
       "'module://matplotlib_inline.backend_inline'"
      ]
     },
     "execution_count": 1,
     "metadata": {},
     "output_type": "execute_result"
    }
   ],
   "source": [
    "from keras.callbacks import CSVLogger\n",
    "import pandas as pd\n",
    "import os\n",
    "import tensorflow as tf\n",
    "from tensorflow import keras\n",
    "\n",
    "import matplotlib\n",
    "import matplotlib.pyplot as plt # plotting library\n",
    "%matplotlib inline\n",
    "matplotlib.get_backend()"
   ]
  },
  {
   "attachments": {},
   "cell_type": "markdown",
   "metadata": {},
   "source": [
    "### Load Path Files"
   ]
  },
  {
   "cell_type": "code",
   "execution_count": 2,
   "metadata": {},
   "outputs": [],
   "source": [
    "original_dataset_dir = '../data/train'\n",
    "\n",
    "base_dir = '../data/cats_and_dogs_2k/'\n",
    "\n",
    "train_dir = os.path.join(base_dir, 'train')\n",
    "validation_dir = os.path.join(base_dir, 'validation')\n",
    "test_dir = os.path.join(base_dir, 'test')\n",
    "\n",
    "train_cats_dir = os.path.join(train_dir, 'cats')\n",
    "train_dogs_dir = os.path.join(train_dir, 'dogs')\n",
    "\n",
    "validation_cats_dir = os.path.join(validation_dir, 'cats')\n",
    "validation_dogs_dir = os.path.join(validation_dir, 'dogs')\n",
    "\n",
    "test_cats_dir = os.path.join(test_dir, 'cats')\n",
    "test_dogs_dir = os.path.join(test_dir, 'dogs')"
   ]
  },
  {
   "attachments": {},
   "cell_type": "markdown",
   "metadata": {},
   "source": [
    "### Data Preparation with Data Augmentation"
   ]
  },
  {
   "cell_type": "code",
   "execution_count": 3,
   "metadata": {},
   "outputs": [
    {
     "name": "stdout",
     "output_type": "stream",
     "text": [
      "Found 2000 images belonging to 2 classes.\n",
      "Found 1000 images belonging to 2 classes.\n"
     ]
    }
   ],
   "source": [
    "train_datagen = keras.preprocessing.image.ImageDataGenerator(\n",
    "                                                                rescale=1./255,\n",
    "                                                                rotation_range=40,\n",
    "                                                                width_shift_range=0.2,\n",
    "                                                                height_shift_range=0.2,\n",
    "                                                                shear_range=0.2,\n",
    "                                                                zoom_range=0.2,\n",
    "                                                                horizontal_flip=True\n",
    "                                                             )\n",
    "\n",
    "test_datagen = keras.preprocessing.image.ImageDataGenerator(rescale=1./255)\n",
    "\n",
    "train_generator = train_datagen.flow_from_directory(\n",
    "    train_dir,\n",
    "    target_size = (150, 150),\n",
    "    batch_size = 20,\n",
    "    class_mode = 'binary'\n",
    ")\n",
    "\n",
    "validation_generator = test_datagen.flow_from_directory(\n",
    "    validation_dir,\n",
    "    target_size = (150,150),\n",
    "    batch_size = 20,\n",
    "    class_mode = 'binary'\n",
    ")"
   ]
  },
  {
   "attachments": {},
   "cell_type": "markdown",
   "metadata": {},
   "source": [
    "### Load Convolutional Base"
   ]
  },
  {
   "cell_type": "code",
   "execution_count": 4,
   "metadata": {},
   "outputs": [
    {
     "name": "stderr",
     "output_type": "stream",
     "text": [
      "2023-04-20 08:34:44.985755: W tensorflow/core/common_runtime/gpu/gpu_device.cc:1956] Cannot dlopen some GPU libraries. Please make sure the missing libraries mentioned above are installed properly if you would like to use GPU. Follow the guide at https://www.tensorflow.org/install/gpu for how to download and setup the required libraries for your platform.\n",
      "Skipping registering GPU devices...\n"
     ]
    },
    {
     "name": "stdout",
     "output_type": "stream",
     "text": [
      "Model: \"vgg16\"\n",
      "_________________________________________________________________\n",
      " Layer (type)                Output Shape              Param #   \n",
      "=================================================================\n",
      " input_1 (InputLayer)        [(None, 150, 150, 3)]     0         \n",
      "                                                                 \n",
      " block1_conv1 (Conv2D)       (None, 150, 150, 64)      1792      \n",
      "                                                                 \n",
      " block1_conv2 (Conv2D)       (None, 150, 150, 64)      36928     \n",
      "                                                                 \n",
      " block1_pool (MaxPooling2D)  (None, 75, 75, 64)        0         \n",
      "                                                                 \n",
      " block2_conv1 (Conv2D)       (None, 75, 75, 128)       73856     \n",
      "                                                                 \n",
      " block2_conv2 (Conv2D)       (None, 75, 75, 128)       147584    \n",
      "                                                                 \n",
      " block2_pool (MaxPooling2D)  (None, 37, 37, 128)       0         \n",
      "                                                                 \n",
      " block3_conv1 (Conv2D)       (None, 37, 37, 256)       295168    \n",
      "                                                                 \n",
      " block3_conv2 (Conv2D)       (None, 37, 37, 256)       590080    \n",
      "                                                                 \n",
      " block3_conv3 (Conv2D)       (None, 37, 37, 256)       590080    \n",
      "                                                                 \n",
      " block3_pool (MaxPooling2D)  (None, 18, 18, 256)       0         \n",
      "                                                                 \n",
      " block4_conv1 (Conv2D)       (None, 18, 18, 512)       1180160   \n",
      "                                                                 \n",
      " block4_conv2 (Conv2D)       (None, 18, 18, 512)       2359808   \n",
      "                                                                 \n",
      " block4_conv3 (Conv2D)       (None, 18, 18, 512)       2359808   \n",
      "                                                                 \n",
      " block4_pool (MaxPooling2D)  (None, 9, 9, 512)         0         \n",
      "                                                                 \n",
      " block5_conv1 (Conv2D)       (None, 9, 9, 512)         2359808   \n",
      "                                                                 \n",
      " block5_conv2 (Conv2D)       (None, 9, 9, 512)         2359808   \n",
      "                                                                 \n",
      " block5_conv3 (Conv2D)       (None, 9, 9, 512)         2359808   \n",
      "                                                                 \n",
      " block5_pool (MaxPooling2D)  (None, 4, 4, 512)         0         \n",
      "                                                                 \n",
      "=================================================================\n",
      "Total params: 14,714,688\n",
      "Trainable params: 14,714,688\n",
      "Non-trainable params: 0\n",
      "_________________________________________________________________\n",
      "None\n"
     ]
    }
   ],
   "source": [
    "conv_base = tf.keras.applications.VGG16(weights='imagenet',\n",
    "                                        include_top=False,\n",
    "                                        input_shape=(150,150,3))\n",
    "print(conv_base.summary())\n",
    "\n",
    "\n",
    "\n",
    "### Model building\n",
    "model = tf.keras.models.Sequential()\n",
    "model.add(conv_base)\n",
    "model.add(tf.keras.layers.Flatten())\n",
    "model.add(tf.keras.layers.Dense(256, activation='relu'))\n",
    "model.add(tf.keras.layers.Dropout(0.5))\n",
    "model.add(tf.keras.layers.Dense(1, activation='sigmoid'))"
   ]
  },
  {
   "attachments": {},
   "cell_type": "markdown",
   "metadata": {},
   "source": [
    "### Compiling"
   ]
  },
  {
   "cell_type": "code",
   "execution_count": 5,
   "metadata": {},
   "outputs": [],
   "source": [
    "model.compile(loss='binary_crossentropy',\n",
    "              metrics=['acc'],\n",
    "              optimizer=tf.keras.optimizers.RMSprop(learning_rate=2e-5))"
   ]
  },
  {
   "cell_type": "code",
   "execution_count": 6,
   "metadata": {},
   "outputs": [],
   "source": [
    "# Freezing the convolutional base layer\n",
    "conv_base.trainable = False"
   ]
  },
  {
   "attachments": {},
   "cell_type": "markdown",
   "metadata": {},
   "source": [
    "### Fit Model"
   ]
  },
  {
   "cell_type": "code",
   "execution_count": 7,
   "metadata": {},
   "outputs": [
    {
     "name": "stdout",
     "output_type": "stream",
     "text": [
      "Epoch 1/30\n"
     ]
    },
    {
     "name": "stderr",
     "output_type": "stream",
     "text": [
      "/tmp/ipykernel_1794409/4055857713.py:3: UserWarning: `Model.fit_generator` is deprecated and will be removed in a future version. Please use `Model.fit`, which supports generators.\n",
      "  history = model.fit_generator(\n",
      "2023-04-20 08:34:45.779631: I tensorflow/core/common_runtime/executor.cc:1197] [/device:CPU:0] (DEBUG INFO) Executor start aborting (this does not indicate an error and you can ignore this message): INVALID_ARGUMENT: You must feed a value for placeholder tensor 'Placeholder/_0' with dtype int32\n",
      "\t [[{{node Placeholder/_0}}]]\n"
     ]
    },
    {
     "name": "stdout",
     "output_type": "stream",
     "text": [
      "100/100 [==============================] - ETA: 0s - loss: 0.6112 - acc: 0.6590"
     ]
    },
    {
     "name": "stderr",
     "output_type": "stream",
     "text": [
      "2023-04-20 08:35:46.460157: I tensorflow/core/common_runtime/executor.cc:1197] [/device:CPU:0] (DEBUG INFO) Executor start aborting (this does not indicate an error and you can ignore this message): INVALID_ARGUMENT: You must feed a value for placeholder tensor 'Placeholder/_0' with dtype int32\n",
      "\t [[{{node Placeholder/_0}}]]\n"
     ]
    },
    {
     "name": "stdout",
     "output_type": "stream",
     "text": [
      "100/100 [==============================] - 74s 727ms/step - loss: 0.6112 - acc: 0.6590 - val_loss: 0.2533 - val_acc: 0.8920\n",
      "Epoch 2/30\n",
      "100/100 [==============================] - 75s 746ms/step - loss: 0.3666 - acc: 0.8315 - val_loss: 0.1746 - val_acc: 0.9220\n",
      "Epoch 3/30\n",
      "100/100 [==============================] - 74s 741ms/step - loss: 0.2991 - acc: 0.8695 - val_loss: 0.1609 - val_acc: 0.9390\n",
      "Epoch 4/30\n",
      "100/100 [==============================] - 74s 742ms/step - loss: 0.2332 - acc: 0.9035 - val_loss: 0.1316 - val_acc: 0.9470\n",
      "Epoch 5/30\n",
      "100/100 [==============================] - 74s 743ms/step - loss: 0.1961 - acc: 0.9170 - val_loss: 0.1068 - val_acc: 0.9590\n",
      "Epoch 6/30\n",
      "100/100 [==============================] - 74s 741ms/step - loss: 0.1651 - acc: 0.9330 - val_loss: 0.0906 - val_acc: 0.9680\n",
      "Epoch 7/30\n",
      "100/100 [==============================] - 74s 740ms/step - loss: 0.1578 - acc: 0.9345 - val_loss: 0.0922 - val_acc: 0.9620\n",
      "Epoch 8/30\n",
      "100/100 [==============================] - 72s 722ms/step - loss: 0.1342 - acc: 0.9460 - val_loss: 0.1033 - val_acc: 0.9620\n",
      "Epoch 9/30\n",
      "100/100 [==============================] - 74s 742ms/step - loss: 0.1348 - acc: 0.9425 - val_loss: 0.0934 - val_acc: 0.9670\n",
      "Epoch 10/30\n",
      "100/100 [==============================] - 73s 729ms/step - loss: 0.1090 - acc: 0.9575 - val_loss: 0.0866 - val_acc: 0.9690\n",
      "Epoch 11/30\n",
      "100/100 [==============================] - 73s 735ms/step - loss: 0.1037 - acc: 0.9635 - val_loss: 0.0842 - val_acc: 0.9710\n",
      "Epoch 12/30\n",
      "100/100 [==============================] - 71s 709ms/step - loss: 0.0960 - acc: 0.9585 - val_loss: 0.0752 - val_acc: 0.9730\n",
      "Epoch 13/30\n",
      "100/100 [==============================] - 70s 704ms/step - loss: 0.0672 - acc: 0.9760 - val_loss: 0.0992 - val_acc: 0.9670\n",
      "Epoch 14/30\n",
      "100/100 [==============================] - 71s 707ms/step - loss: 0.0796 - acc: 0.9725 - val_loss: 0.0715 - val_acc: 0.9680\n",
      "Epoch 15/30\n",
      "100/100 [==============================] - 71s 711ms/step - loss: 0.0849 - acc: 0.9685 - val_loss: 0.0701 - val_acc: 0.9730\n",
      "Epoch 16/30\n",
      "100/100 [==============================] - 73s 729ms/step - loss: 0.0652 - acc: 0.9755 - val_loss: 0.1029 - val_acc: 0.9640\n",
      "Epoch 17/30\n",
      "100/100 [==============================] - 73s 726ms/step - loss: 0.0645 - acc: 0.9790 - val_loss: 0.0746 - val_acc: 0.9730\n",
      "Epoch 18/30\n",
      "100/100 [==============================] - 70s 703ms/step - loss: 0.0688 - acc: 0.9725 - val_loss: 0.0700 - val_acc: 0.9790\n",
      "Epoch 19/30\n",
      "100/100 [==============================] - 71s 706ms/step - loss: 0.0587 - acc: 0.9765 - val_loss: 0.3522 - val_acc: 0.9310\n",
      "Epoch 20/30\n",
      "100/100 [==============================] - 71s 706ms/step - loss: 0.0605 - acc: 0.9800 - val_loss: 0.0823 - val_acc: 0.9690\n",
      "Epoch 21/30\n",
      "100/100 [==============================] - 70s 703ms/step - loss: 0.0517 - acc: 0.9840 - val_loss: 0.0735 - val_acc: 0.9730\n",
      "Epoch 22/30\n",
      "100/100 [==============================] - 70s 702ms/step - loss: 0.0520 - acc: 0.9815 - val_loss: 0.1053 - val_acc: 0.9690\n",
      "Epoch 23/30\n",
      "100/100 [==============================] - 70s 704ms/step - loss: 0.0479 - acc: 0.9820 - val_loss: 0.1777 - val_acc: 0.9590\n",
      "Epoch 24/30\n",
      "100/100 [==============================] - 70s 704ms/step - loss: 0.0540 - acc: 0.9820 - val_loss: 0.1135 - val_acc: 0.9720\n",
      "Epoch 25/30\n",
      "100/100 [==============================] - 70s 700ms/step - loss: 0.0515 - acc: 0.9820 - val_loss: 0.3063 - val_acc: 0.9320\n",
      "Epoch 26/30\n",
      "100/100 [==============================] - 70s 704ms/step - loss: 0.0322 - acc: 0.9875 - val_loss: 0.1108 - val_acc: 0.9740\n",
      "Epoch 27/30\n",
      "100/100 [==============================] - 70s 703ms/step - loss: 0.0536 - acc: 0.9810 - val_loss: 0.0868 - val_acc: 0.9760\n",
      "Epoch 28/30\n",
      "100/100 [==============================] - 70s 705ms/step - loss: 0.0303 - acc: 0.9870 - val_loss: 0.1015 - val_acc: 0.9730\n",
      "Epoch 29/30\n",
      "100/100 [==============================] - 70s 703ms/step - loss: 0.0511 - acc: 0.9875 - val_loss: 0.1346 - val_acc: 0.9690\n",
      "Epoch 30/30\n",
      "100/100 [==============================] - 71s 706ms/step - loss: 0.0406 - acc: 0.9880 - val_loss: 0.1426 - val_acc: 0.9730\n"
     ]
    }
   ],
   "source": [
    "LogFile = 'cats_and_dogs_pretrained_with_data_augmentation.log'\n",
    "csv_logger = CSVLogger(LogFile, separator=',', append=False)\n",
    "history = model.fit_generator(\n",
    "    train_generator,\n",
    "    steps_per_epoch=100,\n",
    "    epochs=30,\n",
    "    validation_data= validation_generator,\n",
    "    validation_steps=50,\n",
    "    callbacks=[csv_logger]\n",
    ")"
   ]
  },
  {
   "attachments": {},
   "cell_type": "markdown",
   "metadata": {},
   "source": [
    "### Save model"
   ]
  },
  {
   "cell_type": "code",
   "execution_count": 8,
   "metadata": {},
   "outputs": [],
   "source": [
    "model.save('cats_and_dogs_pretrained_with_data_augmentation.h5')\n",
    "#log_data = pd.read_csv(LogFile, sep=',', engine='python')"
   ]
  },
  {
   "cell_type": "code",
   "execution_count": 9,
   "metadata": {},
   "outputs": [],
   "source": [
    "acc = history.history['acc']\n",
    "val_acc = history.history['val_acc']\n",
    "loss = history.history['loss']\n",
    "val_loss = history.history['val_loss']\n",
    "epochs = range(1, len(acc)+1)"
   ]
  },
  {
   "cell_type": "code",
   "execution_count": 10,
   "metadata": {},
   "outputs": [
    {
     "data": {
      "image/png": "[encoded data removed]",
      "text/plain": [
       "<Figure size 640x480 with 1 Axes>"
      ]
     },
     "metadata": {},
     "output_type": "display_data"
    }
   ],
   "source": [
    "plt.plot(epochs, acc, 'bo', label = 'Trainining acc')\n",
    "plt.plot(epochs, val_acc, 'b', label = 'Validation acc')\n",
    "plt.title('Training and validation accuracy')\n",
    "plt.legend()\n",
    "plt.show()"
   ]
  },
  {
   "cell_type": "code",
   "execution_count": 11,
   "metadata": {},
   "outputs": [
    {
     "data": {
      "image/png": "[encoded data removed]",
      "text/plain": [
       "<Figure size 640x480 with 1 Axes>"
      ]
     },
     "metadata": {},
     "output_type": "display_data"
    }
   ],
   "source": [
    "plt.plot(epochs, loss, 'bo', label = 'Training loss')\n",
    "plt.plot(epochs, val_loss, 'b', label = 'Validation loss')\n",
    "plt.title('Training and validation loss')\n",
    "plt.legend()\n",
    "plt.show()"
   ]
  }
 ],
 "metadata": {
  "kernelspec": {
   "display_name": "deeplearning",
   "language": "python",
   "name": "python3"
  },
  "language_info": {
   "codemirror_mode": {
    "name": "ipython",
    "version": 3
   },
   "file_extension": ".py",
   "mimetype": "text/x-python",
   "name": "python",
   "nbconvert_exporter": "python",
   "pygments_lexer": "ipython3",
   "version": "3.11.3"
  },
  "orig_nbformat": 4
 },
 "nbformat": 4,
 "nbformat_minor": 2
}
