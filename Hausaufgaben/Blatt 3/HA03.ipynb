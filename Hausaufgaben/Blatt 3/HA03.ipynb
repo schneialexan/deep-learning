{
 "cells": [
  {
   "attachments": {},
   "cell_type": "markdown",
   "metadata": {},
   "source": [
    "#### Imports"
   ]
  },
  {
   "cell_type": "code",
   "execution_count": 1,
   "metadata": {},
   "outputs": [
    {
     "name": "stderr",
     "output_type": "stream",
     "text": [
      "2023-04-20 10:13:50.593600: I tensorflow/core/util/port.cc:110] oneDNN custom operations are on. You may see slightly different numerical results due to floating-point round-off errors from different computation orders. To turn them off, set the environment variable `TF_ENABLE_ONEDNN_OPTS=0`.\n",
      "2023-04-20 10:13:50.640123: I tensorflow/core/platform/cpu_feature_guard.cc:182] This TensorFlow binary is optimized to use available CPU instructions in performance-critical operations.\n",
      "To enable the following instructions: AVX2 AVX512F AVX512_VNNI FMA, in other operations, rebuild TensorFlow with the appropriate compiler flags.\n",
      "2023-04-20 10:13:51.347322: W tensorflow/compiler/tf2tensorrt/utils/py_utils.cc:38] TF-TRT Warning: Could not find TensorRT\n"
     ]
    }
   ],
   "source": [
    "import tensorflow as tf\n",
    "import matplotlib.pyplot as plt\n",
    "import os\n",
    "import multiprocessing as mp"
   ]
  },
  {
   "attachments": {},
   "cell_type": "markdown",
   "metadata": {},
   "source": [
    "Make keras use gpu (und evtl auch alle Kerne xD)"
   ]
  },
  {
   "cell_type": "code",
   "execution_count": 2,
   "metadata": {},
   "outputs": [
    {
     "name": "stderr",
     "output_type": "stream",
     "text": [
      "2023-04-20 10:13:53.010797: I tensorflow/core/common_runtime/gpu/gpu_device.cc:1635] Created device /job:localhost/replica:0/task:0/device:GPU:0 with 77802 MB memory:  -> device: 0, name: NVIDIA A100 80GB PCIe, pci bus id: 0000:c0:00.0, compute capability: 8.0\n"
     ]
    }
   ],
   "source": [
    "from keras import backend as K\n",
    "config = tf.compat.v1.ConfigProto(device_count = {'GPU': len(tf.config.list_physical_devices('GPU')), # sollte 1 sein, weil wir nur eine GPU haben\n",
    "                                                  'CPU': mp.cpu_count()})                             # sollte 64 sein, weil wir 64 CPU Kerne haben\n",
    "sess = tf.compat.v1.Session(config=config) \n",
    "K.set_session(sess)"
   ]
  },
  {
   "attachments": {},
   "cell_type": "markdown",
   "metadata": {},
   "source": [
    "#### Helper Functions"
   ]
  },
  {
   "cell_type": "code",
   "execution_count": 3,
   "metadata": {},
   "outputs": [],
   "source": [
    "def plot_history(history):\n",
    "    acc = history.history['acc']\n",
    "    val_acc = history.history['val_acc']\n",
    "    loss = history.history['loss']\n",
    "    val_loss = history.history['val_loss']\n",
    "    epochs = range(1, len(acc)+1)\n",
    "    fig, (ax1, ax2) = plt.subplots(1, 2, figsize=(15, 5))\n",
    "    # Plot training and validation accuracy per epoch\n",
    "    ax1.plot(epochs, acc, 'bo', label='Training acc')\n",
    "    ax1.plot(epochs, val_acc, 'b', label='Validation acc')\n",
    "    # Plot training and validation loss per epoch\n",
    "    ax2.plot(epochs, loss, 'bo', label='Training loss')\n",
    "    ax2.plot(epochs, val_loss, 'b', label='Validation loss')\n",
    "    # make the plot look nice\n",
    "    fig.legend()\n",
    "    fig.show()"
   ]
  },
  {
   "attachments": {},
   "cell_type": "markdown",
   "metadata": {},
   "source": [
    "#### Load Datasets"
   ]
  },
  {
   "cell_type": "code",
   "execution_count": 4,
   "metadata": {},
   "outputs": [],
   "source": [
    "original_dataset_dir = 'data/train'\n",
    "\n",
    "base_dir = 'data/cats_and_dogs_2k/'\n",
    "\n",
    "train_dir = os.path.join(base_dir, 'train')\n",
    "validation_dir = os.path.join(base_dir, 'validation')\n",
    "test_dir = os.path.join(base_dir, 'test')\n",
    "\n",
    "train_cats_dir = os.path.join(train_dir, 'cats')\n",
    "train_dogs_dir = os.path.join(train_dir, 'dogs')\n",
    "\n",
    "validation_cats_dir = os.path.join(validation_dir, 'cats')\n",
    "validation_dogs_dir = os.path.join(validation_dir, 'dogs')\n",
    "\n",
    "test_cats_dir = os.path.join(test_dir, 'cats')\n",
    "test_dogs_dir = os.path.join(test_dir, 'dogs')"
   ]
  },
  {
   "attachments": {},
   "cell_type": "markdown",
   "metadata": {},
   "source": [
    "#### Global Variables"
   ]
  },
  {
   "cell_type": "code",
   "execution_count": 5,
   "metadata": {},
   "outputs": [],
   "source": [
    "EPOCHS = 30\n",
    "STEPS_PER_EPOCH = 100\n",
    "VAL_STEPS = 50\n",
    "TARGET_SIZE = (150, 150)\n",
    "BATCH_SIZE = 20"
   ]
  },
  {
   "attachments": {},
   "cell_type": "markdown",
   "metadata": {},
   "source": [
    "#### Baseline Model"
   ]
  },
  {
   "cell_type": "code",
   "execution_count": 6,
   "metadata": {},
   "outputs": [
    {
     "name": "stdout",
     "output_type": "stream",
     "text": [
      "Model: \"sequential\"\n",
      "_________________________________________________________________\n",
      " Layer (type)                Output Shape              Param #   \n",
      "=================================================================\n",
      " conv2d (Conv2D)             (None, 148, 148, 32)      896       \n",
      "                                                                 \n",
      " max_pooling2d (MaxPooling2D  (None, 74, 74, 32)       0         \n",
      " )                                                               \n",
      "                                                                 \n",
      " conv2d_1 (Conv2D)           (None, 72, 72, 64)        18496     \n",
      "                                                                 \n",
      " max_pooling2d_1 (MaxPooling  (None, 36, 36, 64)       0         \n",
      " 2D)                                                             \n",
      "                                                                 \n",
      " conv2d_2 (Conv2D)           (None, 34, 34, 128)       73856     \n",
      "                                                                 \n",
      " max_pooling2d_2 (MaxPooling  (None, 17, 17, 128)      0         \n",
      " 2D)                                                             \n",
      "                                                                 \n",
      " flatten (Flatten)           (None, 36992)             0         \n",
      "                                                                 \n",
      " dense (Dense)               (None, 512)               18940416  \n",
      "                                                                 \n",
      " dense_1 (Dense)             (None, 1)                 513       \n",
      "                                                                 \n",
      "=================================================================\n",
      "Total params: 19,034,177\n",
      "Trainable params: 19,034,177\n",
      "Non-trainable params: 0\n",
      "_________________________________________________________________\n"
     ]
    },
    {
     "name": "stderr",
     "output_type": "stream",
     "text": [
      "2023-04-20 10:13:53.240920: I tensorflow/core/common_runtime/gpu/gpu_device.cc:1635] Created device /job:localhost/replica:0/task:0/device:GPU:0 with 77802 MB memory:  -> device: 0, name: NVIDIA A100 80GB PCIe, pci bus id: 0000:c0:00.0, compute capability: 8.0\n"
     ]
    }
   ],
   "source": [
    "def base_model():\n",
    "    model = tf.keras.models.Sequential()\n",
    "    # CNN Block 1\n",
    "    model.add(tf.keras.layers.Conv2D(32, (3,3), activation = 'relu', input_shape=(150,150,3)))\n",
    "    model.add(tf.keras.layers.MaxPooling2D((2, 2)))\n",
    "    # CNN Block 2\n",
    "    model.add(tf.keras.layers.Conv2D(64, (3, 3), activation='relu'))\n",
    "    model.add(tf.keras.layers.MaxPooling2D((2, 2)))\n",
    "    # CNN Block 3\n",
    "    model.add(tf.keras.layers.Conv2D(128, (3, 3), activation='relu'))\n",
    "    model.add(tf.keras.layers.MaxPooling2D((2, 2)))\n",
    "    # Classification Block\n",
    "    model.add(tf.keras.layers.Flatten())\n",
    "    model.add(tf.keras.layers.Dense(512, activation= 'relu'))\n",
    "    model.add(tf.keras.layers.Dense(1, activation='sigmoid'))\n",
    "    return model\n",
    "baseline_model = base_model()\n",
    "baseline_model.summary()"
   ]
  },
  {
   "attachments": {},
   "cell_type": "markdown",
   "metadata": {},
   "source": [
    "##### Compile"
   ]
  },
  {
   "cell_type": "code",
   "execution_count": 7,
   "metadata": {},
   "outputs": [],
   "source": [
    "baseline_model.compile(loss = 'binary_crossentropy',\n",
    "                       optimizer=tf.keras.optimizers.RMSprop(learning_rate=1e-4),\n",
    "                       metrics=['acc'])"
   ]
  },
  {
   "attachments": {},
   "cell_type": "markdown",
   "metadata": {},
   "source": [
    "##### Prepare Data"
   ]
  },
  {
   "cell_type": "code",
   "execution_count": 8,
   "metadata": {},
   "outputs": [
    {
     "name": "stdout",
     "output_type": "stream",
     "text": [
      "Found 2000 images belonging to 2 classes.\n",
      "Found 1000 images belonging to 2 classes.\n"
     ]
    }
   ],
   "source": [
    "# NO DATA AUGMENTATION\n",
    "datagen = test_datagen = tf.keras.preprocessing.image.ImageDataGenerator(rescale=1./255)\n",
    "train_gen = datagen.flow_from_directory(train_dir,\n",
    "                                       target_size = TARGET_SIZE,\n",
    "                                       batch_size = BATCH_SIZE,\n",
    "                                       class_mode = 'binary')\n",
    "val_gen = datagen.flow_from_directory(validation_dir,\n",
    "                                      target_size = TARGET_SIZE,\n",
    "                                      batch_size = BATCH_SIZE,\n",
    "                                      class_mode = 'binary')"
   ]
  },
  {
   "attachments": {},
   "cell_type": "markdown",
   "metadata": {},
   "source": [
    "##### Fit"
   ]
  },
  {
   "cell_type": "code",
   "execution_count": 9,
   "metadata": {},
   "outputs": [
    {
     "name": "stdout",
     "output_type": "stream",
     "text": [
      "Epoch 1/30\n"
     ]
    },
    {
     "name": "stderr",
     "output_type": "stream",
     "text": [
      "2023-04-20 10:13:54.774391: I tensorflow/core/common_runtime/executor.cc:1197] [/device:CPU:0] (DEBUG INFO) Executor start aborting (this does not indicate an error and you can ignore this message): INVALID_ARGUMENT: You must feed a value for placeholder tensor 'Placeholder/_0' with dtype int32\n",
      "\t [[{{node Placeholder/_0}}]]\n",
      "2023-04-20 10:13:56.567626: I tensorflow/compiler/xla/stream_executor/cuda/cuda_dnn.cc:424] Loaded cuDNN version 8600\n",
      "2023-04-20 10:13:57.420753: I tensorflow/tsl/platform/default/subprocess.cc:304] Start cannot spawn child process: No such file or directory\n",
      "2023-04-20 10:13:57.537781: I tensorflow/compiler/xla/stream_executor/cuda/cuda_blas.cc:637] TensorFloat-32 will be used for the matrix multiplication. This will only be logged once.\n",
      "2023-04-20 10:13:58.085465: I tensorflow/compiler/xla/service/service.cc:169] XLA service 0x7fdf3009a510 initialized for platform CUDA (this does not guarantee that XLA will be used). Devices:\n",
      "2023-04-20 10:13:58.085497: I tensorflow/compiler/xla/service/service.cc:177]   StreamExecutor device (0): NVIDIA A100 80GB PCIe, Compute Capability 8.0\n",
      "2023-04-20 10:13:58.089445: I tensorflow/compiler/mlir/tensorflow/utils/dump_mlir_util.cc:269] disabling MLIR crash reproducer, set env var `MLIR_CRASH_REPRODUCER_DIRECTORY` to enable.\n",
      "2023-04-20 10:13:58.147489: I tensorflow/tsl/platform/default/subprocess.cc:304] Start cannot spawn child process: No such file or directory\n",
      "2023-04-20 10:13:58.211392: I ./tensorflow/compiler/jit/device_compiler.h:180] Compiled cluster using XLA!  This line is logged at most once for the lifetime of the process.\n"
     ]
    },
    {
     "name": "stdout",
     "output_type": "stream",
     "text": [
      " 99/100 [============================>.] - ETA: 0s - loss: 0.6897 - acc: 0.5434"
     ]
    },
    {
     "name": "stderr",
     "output_type": "stream",
     "text": [
      "2023-04-20 10:14:02.936648: I tensorflow/core/common_runtime/executor.cc:1197] [/device:CPU:0] (DEBUG INFO) Executor start aborting (this does not indicate an error and you can ignore this message): INVALID_ARGUMENT: You must feed a value for placeholder tensor 'Placeholder/_0' with dtype int32\n",
      "\t [[{{node Placeholder/_0}}]]\n"
     ]
    },
    {
     "name": "stdout",
     "output_type": "stream",
     "text": [
      "100/100 [==============================] - 10s 51ms/step - loss: 0.6903 - acc: 0.5420 - val_loss: 0.6677 - val_acc: 0.5960\n",
      "Epoch 2/30\n",
      "100/100 [==============================] - 5s 50ms/step - loss: 0.6523 - acc: 0.6135 - val_loss: 0.6339 - val_acc: 0.6380\n",
      "Epoch 3/30\n",
      "100/100 [==============================] - 5s 48ms/step - loss: 0.6095 - acc: 0.6640 - val_loss: 0.6642 - val_acc: 0.6010\n",
      "Epoch 4/30\n",
      "100/100 [==============================] - 5s 53ms/step - loss: 0.5622 - acc: 0.7185 - val_loss: 0.6028 - val_acc: 0.6700\n",
      "Epoch 5/30\n",
      "100/100 [==============================] - 5s 50ms/step - loss: 0.5329 - acc: 0.7380 - val_loss: 0.5812 - val_acc: 0.6990\n",
      "Epoch 6/30\n",
      "100/100 [==============================] - 5s 50ms/step - loss: 0.5016 - acc: 0.7495 - val_loss: 0.5799 - val_acc: 0.6810\n",
      "Epoch 7/30\n",
      "100/100 [==============================] - 5s 50ms/step - loss: 0.4793 - acc: 0.7730 - val_loss: 0.5770 - val_acc: 0.7150\n",
      "Epoch 8/30\n",
      "100/100 [==============================] - 5s 49ms/step - loss: 0.4531 - acc: 0.7945 - val_loss: 0.6599 - val_acc: 0.6270\n",
      "Epoch 9/30\n",
      "100/100 [==============================] - 5s 52ms/step - loss: 0.4227 - acc: 0.8135 - val_loss: 0.5679 - val_acc: 0.6970\n",
      "Epoch 10/30\n",
      "100/100 [==============================] - 5s 50ms/step - loss: 0.3950 - acc: 0.8225 - val_loss: 0.7017 - val_acc: 0.6640\n",
      "Epoch 11/30\n",
      "100/100 [==============================] - 5s 52ms/step - loss: 0.3624 - acc: 0.8435 - val_loss: 0.5914 - val_acc: 0.7010\n",
      "Epoch 12/30\n",
      "100/100 [==============================] - 5s 51ms/step - loss: 0.3341 - acc: 0.8580 - val_loss: 0.6954 - val_acc: 0.6790\n",
      "Epoch 13/30\n",
      "100/100 [==============================] - 5s 51ms/step - loss: 0.2950 - acc: 0.8780 - val_loss: 0.6000 - val_acc: 0.7110\n",
      "Epoch 14/30\n",
      "100/100 [==============================] - 5s 51ms/step - loss: 0.2707 - acc: 0.8970 - val_loss: 0.6174 - val_acc: 0.7080\n",
      "Epoch 15/30\n",
      "100/100 [==============================] - 5s 51ms/step - loss: 0.2440 - acc: 0.9065 - val_loss: 0.7242 - val_acc: 0.7020\n",
      "Epoch 16/30\n",
      "100/100 [==============================] - 5s 46ms/step - loss: 0.2149 - acc: 0.9175 - val_loss: 0.7200 - val_acc: 0.6890\n",
      "Epoch 17/30\n",
      "100/100 [==============================] - 5s 46ms/step - loss: 0.1848 - acc: 0.9345 - val_loss: 0.6874 - val_acc: 0.6950\n",
      "Epoch 18/30\n",
      "100/100 [==============================] - 5s 50ms/step - loss: 0.1574 - acc: 0.9530 - val_loss: 0.7112 - val_acc: 0.7000\n",
      "Epoch 19/30\n",
      "100/100 [==============================] - 5s 52ms/step - loss: 0.1364 - acc: 0.9635 - val_loss: 0.7133 - val_acc: 0.7100\n",
      "Epoch 20/30\n",
      "100/100 [==============================] - 5s 52ms/step - loss: 0.1090 - acc: 0.9710 - val_loss: 0.7734 - val_acc: 0.7090\n",
      "Epoch 21/30\n",
      "100/100 [==============================] - 5s 46ms/step - loss: 0.0871 - acc: 0.9780 - val_loss: 0.7728 - val_acc: 0.7110\n",
      "Epoch 22/30\n",
      "100/100 [==============================] - 5s 47ms/step - loss: 0.0654 - acc: 0.9890 - val_loss: 0.9028 - val_acc: 0.6940\n",
      "Epoch 23/30\n",
      "100/100 [==============================] - 5s 50ms/step - loss: 0.0580 - acc: 0.9865 - val_loss: 0.9800 - val_acc: 0.6960\n",
      "Epoch 24/30\n",
      "100/100 [==============================] - 5s 51ms/step - loss: 0.0415 - acc: 0.9925 - val_loss: 1.3618 - val_acc: 0.6690\n",
      "Epoch 25/30\n",
      "100/100 [==============================] - 5s 51ms/step - loss: 0.0332 - acc: 0.9955 - val_loss: 1.2612 - val_acc: 0.6610\n",
      "Epoch 26/30\n",
      "100/100 [==============================] - 5s 52ms/step - loss: 0.0294 - acc: 0.9935 - val_loss: 1.1003 - val_acc: 0.6950\n",
      "Epoch 27/30\n",
      "100/100 [==============================] - 5s 51ms/step - loss: 0.0502 - acc: 0.9895 - val_loss: 1.0994 - val_acc: 0.7020\n",
      "Epoch 28/30\n",
      "100/100 [==============================] - 5s 52ms/step - loss: 0.0255 - acc: 0.9930 - val_loss: 1.2846 - val_acc: 0.6790\n",
      "Epoch 29/30\n",
      "100/100 [==============================] - 5s 51ms/step - loss: 0.0217 - acc: 0.9950 - val_loss: 1.1881 - val_acc: 0.7130\n",
      "Epoch 30/30\n",
      "100/100 [==============================] - 5s 51ms/step - loss: 0.0396 - acc: 0.9895 - val_loss: 1.1669 - val_acc: 0.7060\n"
     ]
    }
   ],
   "source": [
    "baseline_history = baseline_model.fit(\n",
    "    train_gen,\n",
    "    steps_per_epoch= STEPS_PER_EPOCH,\n",
    "    epochs = EPOCHS,\n",
    "    validation_data=val_gen,\n",
    "    validation_steps=VAL_STEPS\n",
    ")"
   ]
  },
  {
   "attachments": {},
   "cell_type": "markdown",
   "metadata": {},
   "source": [
    "##### Plot Results"
   ]
  },
  {
   "cell_type": "code",
   "execution_count": 10,
   "metadata": {},
   "outputs": [
    {
     "data": {
      "image/png": "[encoded data removed]",
      "text/plain": [
       "<Figure size 1500x500 with 2 Axes>"
      ]
     },
     "metadata": {},
     "output_type": "display_data"
    }
   ],
   "source": [
    "plot_history(baseline_history)"
   ]
  },
  {
   "cell_type": "code",
   "execution_count": null,
   "metadata": {},
   "outputs": [],
   "source": []
  }
 ],
 "metadata": {
  "kernelspec": {
   "display_name": "deeplearning",
   "language": "python",
   "name": "python3"
  },
  "language_info": {
   "codemirror_mode": {
    "name": "ipython",
    "version": 3
   },
   "file_extension": ".py",
   "mimetype": "text/x-python",
   "name": "python",
   "nbconvert_exporter": "python",
   "pygments_lexer": "ipython3",
   "version": "3.11.3"
  },
  "orig_nbformat": 4
 },
 "nbformat": 4,
 "nbformat_minor": 2
}
