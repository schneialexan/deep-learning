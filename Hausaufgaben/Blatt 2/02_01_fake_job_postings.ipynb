{
 "cells": [
  {
   "cell_type": "code",
   "execution_count": 1,
   "metadata": {},
   "outputs": [],
   "source": [
    "import pandas as pd\n",
    "import numpy as np\n",
    "import matplotlib.pyplot as plt\n",
    "from sklearn.model_selection import train_test_split\n",
    "from sklearn.metrics import confusion_matrix\n",
    "from keras.models import Sequential\n",
    "from keras.layers import Dense, Dropout, Embedding, Flatten\n",
    "from keras.optimizers import SGD, Adam\n",
    "from keras.preprocessing.text import Tokenizer\n",
    "from keras.utils import pad_sequences\n",
    "from keras.losses import binary_crossentropy, hinge, squared_hinge"
   ]
  },
  {
   "attachments": {},
   "cell_type": "markdown",
   "metadata": {},
   "source": [
    "#### Preprocessing"
   ]
  },
  {
   "cell_type": "code",
   "execution_count": 2,
   "metadata": {},
   "outputs": [
    {
     "data": {
      "text/plain": [
       "(17880, 2031)"
      ]
     },
     "execution_count": 2,
     "metadata": {},
     "output_type": "execute_result"
    }
   ],
   "source": [
    "data = pd.read_csv('fake_job_postings.csv')\n",
    "text = data['description'].astype(str)\n",
    "labels = data['fraudulent']\n",
    "tokenizer = Tokenizer(num_words=5000)\n",
    "tokenizer.fit_on_texts(text)\n",
    "sequences = tokenizer.texts_to_sequences(text)\n",
    "word_index = tokenizer.word_index\n",
    "max_length = max([len(s) for s in sequences])\n",
    "data = pad_sequences(sequences, maxlen=max_length)\n",
    "data.shape"
   ]
  },
  {
   "attachments": {},
   "cell_type": "markdown",
   "metadata": {},
   "source": [
    "Look at data"
   ]
  },
  {
   "cell_type": "code",
   "execution_count": 3,
   "metadata": {},
   "outputs": [
    {
     "data": {
      "text/plain": [
       "array([[   0,    0,    0, ...,    1,  431,  175],\n",
       "       [   0,    0,    0, ...,    2,  817,   23],\n",
       "       [   0,    0,    0, ...,    1,  282, 1335],\n",
       "       [   0,    0,    0, ...,    3,  824,  217],\n",
       "       [   0,    0,    0, ...,  128,  981,    8]])"
      ]
     },
     "execution_count": 3,
     "metadata": {},
     "output_type": "execute_result"
    }
   ],
   "source": [
    "data[:5]"
   ]
  },
  {
   "attachments": {},
   "cell_type": "markdown",
   "metadata": {},
   "source": [
    "Train test split"
   ]
  },
  {
   "cell_type": "code",
   "execution_count": 4,
   "metadata": {},
   "outputs": [
    {
     "name": "stdout",
     "output_type": "stream",
     "text": [
      "X_train.shape: (11443, 2031), y_train.shape: (11443,) --> 64.00%\n",
      "X_val.shape: (2861, 2031), y_val.shape: (2861,) --> 16.00%\n",
      "X_test.shape: (3576, 2031), y_test.shape: (3576,) --> 20.00%\n"
     ]
    }
   ],
   "source": [
    "X_train, X_test, y_train, y_test = train_test_split(data, labels, test_size=0.2, random_state=42, stratify=labels)\n",
    "X_train, X_val, y_train, y_val = train_test_split(X_train, y_train, test_size=0.2, random_state=42)\n",
    "print(f\"X_train.shape: {X_train.shape}, y_train.shape: {y_train.shape} --> {X_train.shape[0]/(X_train.shape[0]+X_val.shape[0]+X_test.shape[0]) * 100:.2f}%\")\n",
    "print(f\"X_val.shape: {X_val.shape}, y_val.shape: {y_val.shape} --> {X_val.shape[0]/(X_train.shape[0]+X_val.shape[0]+X_test.shape[0]) * 100:.2f}%\")\n",
    "print(f\"X_test.shape: {X_test.shape}, y_test.shape: {y_test.shape} --> {X_test.shape[0]/(X_train.shape[0]+X_val.shape[0]+X_test.shape[0]) * 100:.2f}%\")"
   ]
  },
  {
   "attachments": {},
   "cell_type": "markdown",
   "metadata": {},
   "source": [
    "Build Model\n",
    "1. Embedding-Schicht: <br>\n",
    "    Die erste Schicht des Modells ist eine Embedding-Schicht, die dazu dient, eine Darstellung der Wörter im Text zu lernen. In dieser Schicht wird jeder Token (d.h. jedes Wort im Text) in eine Vektordarstellung umgewandelt. Die Größe der Vektoren wird durch den Parameter \"output_dim\" (in diesem Fall 100) festgelegt, während der Parameter \"input_length\" die Länge des Eingabesequenz definiert. Durch die Verwendung von Embedding-Schichten kann das Modell semantische Beziehungen zwischen Wörtern lernen und die Textklassifikation verbessern.\n",
    "2. Flatten: <br>\n",
    "    Bring 100 dimensional Tensor to a 1 dimensional"
   ]
  },
  {
   "cell_type": "code",
   "execution_count": 5,
   "metadata": {},
   "outputs": [
    {
     "name": "stdout",
     "output_type": "stream",
     "text": [
      "Model: \"sequential\"\n",
      "_________________________________________________________________\n",
      " Layer (type)                Output Shape              Param #   \n",
      "=================================================================\n",
      " embedding (Embedding)       (None, 2031, 100)         500000    \n",
      "                                                                 \n",
      " flatten (Flatten)           (None, 203100)            0         \n",
      "                                                                 \n",
      " dense (Dense)               (None, 64)                12998464  \n",
      "                                                                 \n",
      " dropout (Dropout)           (None, 64)                0         \n",
      "                                                                 \n",
      " dense_1 (Dense)             (None, 1)                 65        \n",
      "                                                                 \n",
      "=================================================================\n",
      "Total params: 13,498,529\n",
      "Trainable params: 13,498,529\n",
      "Non-trainable params: 0\n",
      "_________________________________________________________________\n"
     ]
    }
   ],
   "source": [
    "model = Sequential()\n",
    "model.add(Embedding(5000, 100, input_length=max_length))\n",
    "model.add(Flatten())\n",
    "model.add(Dense(64,\n",
    "                kernel_initializer='random_normal', # weights\n",
    "                bias_initializer='zeros',           # bias\n",
    "                bias_regularizer='l1',              # Regularization\n",
    "                activation='relu'))\n",
    "model.add(Dropout(0.5))\n",
    "model.add(Dense(1, activation='sigmoid'))\n",
    "model.compile(loss=binary_crossentropy, \n",
    "              optimizer=Adam(learning_rate=0.001), \n",
    "              metrics=['accuracy'])\n",
    "model.summary()"
   ]
  },
  {
   "attachments": {},
   "cell_type": "markdown",
   "metadata": {},
   "source": [
    "Fit Model"
   ]
  },
  {
   "cell_type": "code",
   "execution_count": 6,
   "metadata": {},
   "outputs": [
    {
     "name": "stdout",
     "output_type": "stream",
     "text": [
      "Epoch 1/10\n",
      "179/179 [==============================] - 12s 67ms/step - loss: 0.3037 - accuracy: 0.9465 - val_loss: 0.1636 - val_accuracy: 0.9553\n",
      "Epoch 2/10\n",
      "179/179 [==============================] - 12s 66ms/step - loss: 0.1948 - accuracy: 0.9506 - val_loss: 0.1334 - val_accuracy: 0.9553\n",
      "Epoch 3/10\n",
      "179/179 [==============================] - 13s 70ms/step - loss: 0.1062 - accuracy: 0.9539 - val_loss: 0.1036 - val_accuracy: 0.9710\n",
      "Epoch 4/10\n",
      "179/179 [==============================] - 13s 73ms/step - loss: 0.0426 - accuracy: 0.9782 - val_loss: 0.1211 - val_accuracy: 0.9752\n",
      "Epoch 5/10\n",
      "179/179 [==============================] - 13s 70ms/step - loss: 0.0151 - accuracy: 0.9955 - val_loss: 0.1316 - val_accuracy: 0.9769\n",
      "Epoch 6/10\n",
      "179/179 [==============================] - 13s 72ms/step - loss: 0.0069 - accuracy: 0.9991 - val_loss: 0.1496 - val_accuracy: 0.9769\n",
      "Epoch 7/10\n",
      "179/179 [==============================] - 13s 72ms/step - loss: 0.0037 - accuracy: 0.9993 - val_loss: 0.1988 - val_accuracy: 0.9762\n",
      "Epoch 8/10\n",
      "179/179 [==============================] - 13s 72ms/step - loss: 0.0032 - accuracy: 0.9996 - val_loss: 0.1959 - val_accuracy: 0.9759\n",
      "Epoch 9/10\n",
      "179/179 [==============================] - 13s 72ms/step - loss: 0.0029 - accuracy: 0.9995 - val_loss: 0.2529 - val_accuracy: 0.9752\n",
      "Epoch 10/10\n",
      "179/179 [==============================] - 13s 72ms/step - loss: 0.0049 - accuracy: 0.9990 - val_loss: 0.2070 - val_accuracy: 0.9762\n"
     ]
    }
   ],
   "source": [
    "history = model.fit(X_train, y_train, epochs=10, batch_size=64, validation_data=(X_val, y_val))"
   ]
  },
  {
   "attachments": {},
   "cell_type": "markdown",
   "metadata": {},
   "source": [
    "Evaluate model"
   ]
  },
  {
   "cell_type": "code",
   "execution_count": 7,
   "metadata": {},
   "outputs": [
    {
     "name": "stdout",
     "output_type": "stream",
     "text": [
      "1: Test Loss: 0.188, Test Accuracy: 0.978\n"
     ]
    }
   ],
   "source": [
    "# 1: Test Loss: 0.157, Test Accuracy: 0.978\n",
    "# mit Adam(learning_rate=0.001)\n",
    "loss, accuracy = model.evaluate(X_test, y_test, verbose=False)\n",
    "print(f'1: Test Loss: {loss:.3}, Test Accuracy: {accuracy:.3}')"
   ]
  },
  {
   "attachments": {},
   "cell_type": "markdown",
   "metadata": {},
   "source": [
    "Confusion Matrix"
   ]
  },
  {
   "cell_type": "code",
   "execution_count": 8,
   "metadata": {},
   "outputs": [
    {
     "name": "stdout",
     "output_type": "stream",
     "text": [
      "112/112 [==============================] - 1s 12ms/step\n"
     ]
    }
   ],
   "source": [
    "y_pred = model.predict(X_test)\n",
    "y_pred = np.round(y_pred)\n",
    "# Create a confusion matrix\n",
    "cm = confusion_matrix(y_test, y_pred)"
   ]
  },
  {
   "cell_type": "code",
   "execution_count": 9,
   "metadata": {},
   "outputs": [
    {
     "data": {
      "image/png": "[encoded data removed]",
      "text/plain": [
       "<Figure size 640x480 with 1 Axes>"
      ]
     },
     "metadata": {},
     "output_type": "display_data"
    }
   ],
   "source": [
    "\n",
    "# Plot the confusion matrix\n",
    "plt.imshow(cm, cmap=plt.cm.Blues)\n",
    "plt.title(\"Confusion Matrix\")\n",
    "plt.xlabel(\"True labels\")\n",
    "plt.ylabel(\"Predicted labels\")\n",
    "plt.xticks([0, 1], ['Real', 'Fake'])\n",
    "plt.yticks([0, 1], ['Real', 'Fake'])\n",
    "plt.text(0, 0, cm[0,0], ha=\"center\", va=\"center\", color=\"grey\")\n",
    "plt.text(0, 1, cm[0,1], ha=\"center\", va=\"center\", color=\"grey\")\n",
    "plt.text(1, 0, cm[1,0], ha=\"center\", va=\"center\", color=\"grey\")\n",
    "plt.text(1, 1, cm[1,1], ha=\"center\", va=\"center\", color=\"grey\")\n",
    "plt.show()"
   ]
  },
  {
   "attachments": {},
   "cell_type": "markdown",
   "metadata": {},
   "source": [
    "#### Use Old Preprocessing"
   ]
  },
  {
   "cell_type": "code",
   "execution_count": 10,
   "metadata": {},
   "outputs": [
    {
     "name": "stdout",
     "output_type": "stream",
     "text": [
      "-------------------------------------\n",
      "Starting Preprocessing\n",
      "-------------------------------------\n",
      "Preprocessing location DONE!\n",
      "Preprocessing salary_range DONE!\n",
      "Preprocessing imputation DONE!\n",
      "Preprocessing location DONE!\n",
      "Preprocessing salary_range DONE!\n",
      "Preprocessing imputation DONE!\n",
      "-------------------------------------\n",
      "End Preprocessing\n",
      "-------------------------------------\n",
      "-------------------------------------\n",
      "Starting Transforming\n",
      "-------------------------------------\n",
      "Pipeline created successfully\n",
      "Pipeline fitted successfully\n",
      "Pipeline transformed successfully\n",
      "-------------------------------------\n",
      "End Transforming\n",
      "-------------------------------------\n",
      "-------------------------------------\n",
      "Starting Transforming\n",
      "-------------------------------------\n",
      "Pipeline created successfully\n",
      "Pipeline fitted successfully\n",
      "Pipeline transformed successfully\n",
      "-------------------------------------\n",
      "End Transforming\n",
      "-------------------------------------\n"
     ]
    }
   ],
   "source": [
    "from preprocessing.Preprocessing import preprocess\n",
    "from feature_engineering.Transforming import transform\n",
    "data = pd.read_csv('fake_job_postings.csv')\n",
    "X_train, X_test, y_train, y_test = preprocess(data)\n",
    "X_train = transform(X_train)\n",
    "X_test = transform(X_test)"
   ]
  },
  {
   "attachments": {},
   "cell_type": "markdown",
   "metadata": {},
   "source": [
    "Look at Data"
   ]
  },
  {
   "cell_type": "code",
   "execution_count": 11,
   "metadata": {},
   "outputs": [
    {
     "data": {
      "text/html": [
       "<div>\n",
       "<style scoped>\n",
       "    .dataframe tbody tr th:only-of-type {\n",
       "        vertical-align: middle;\n",
       "    }\n",
       "\n",
       "    .dataframe tbody tr th {\n",
       "        vertical-align: top;\n",
       "    }\n",
       "\n",
       "    .dataframe thead th {\n",
       "        text-align: right;\n",
       "    }\n",
       "</style>\n",
       "<table border=\"1\" class=\"dataframe\">\n",
       "  <thead>\n",
       "    <tr style=\"text-align: right;\">\n",
       "      <th></th>\n",
       "      <th>country</th>\n",
       "      <th>state</th>\n",
       "      <th>city</th>\n",
       "      <th>department</th>\n",
       "      <th>telecommuting</th>\n",
       "      <th>has_company_logo</th>\n",
       "      <th>has_questions</th>\n",
       "      <th>industry</th>\n",
       "      <th>function</th>\n",
       "      <th>salary_range_Unspecified</th>\n",
       "      <th>...</th>\n",
       "      <th>required_education_Bachelor's Degree</th>\n",
       "      <th>required_education_High School or equivalent</th>\n",
       "      <th>required_education_Associate Degree</th>\n",
       "      <th>required_education_Some College Coursework Completed</th>\n",
       "      <th>required_education_Professional</th>\n",
       "      <th>required_education_Vocational - HS Diploma</th>\n",
       "      <th>required_education_Vocational</th>\n",
       "      <th>required_education_Certification</th>\n",
       "      <th>required_education_Some High School Coursework</th>\n",
       "      <th>required_education_Doctorate</th>\n",
       "    </tr>\n",
       "  </thead>\n",
       "  <tbody>\n",
       "    <tr>\n",
       "      <th>0</th>\n",
       "      <td>0</td>\n",
       "      <td>0</td>\n",
       "      <td>0</td>\n",
       "      <td>0</td>\n",
       "      <td>0</td>\n",
       "      <td>0</td>\n",
       "      <td>1</td>\n",
       "      <td>0</td>\n",
       "      <td>0</td>\n",
       "      <td>1</td>\n",
       "      <td>...</td>\n",
       "      <td>0</td>\n",
       "      <td>0</td>\n",
       "      <td>0</td>\n",
       "      <td>0</td>\n",
       "      <td>0</td>\n",
       "      <td>0</td>\n",
       "      <td>0</td>\n",
       "      <td>0</td>\n",
       "      <td>0</td>\n",
       "      <td>0</td>\n",
       "    </tr>\n",
       "    <tr>\n",
       "      <th>1</th>\n",
       "      <td>1</td>\n",
       "      <td>1</td>\n",
       "      <td>0</td>\n",
       "      <td>1</td>\n",
       "      <td>1</td>\n",
       "      <td>1</td>\n",
       "      <td>0</td>\n",
       "      <td>1</td>\n",
       "      <td>0</td>\n",
       "      <td>1</td>\n",
       "      <td>...</td>\n",
       "      <td>0</td>\n",
       "      <td>0</td>\n",
       "      <td>0</td>\n",
       "      <td>0</td>\n",
       "      <td>0</td>\n",
       "      <td>0</td>\n",
       "      <td>0</td>\n",
       "      <td>0</td>\n",
       "      <td>0</td>\n",
       "      <td>0</td>\n",
       "    </tr>\n",
       "    <tr>\n",
       "      <th>2</th>\n",
       "      <td>2</td>\n",
       "      <td>2</td>\n",
       "      <td>1</td>\n",
       "      <td>2</td>\n",
       "      <td>0</td>\n",
       "      <td>1</td>\n",
       "      <td>1</td>\n",
       "      <td>2</td>\n",
       "      <td>1</td>\n",
       "      <td>1</td>\n",
       "      <td>...</td>\n",
       "      <td>0</td>\n",
       "      <td>0</td>\n",
       "      <td>0</td>\n",
       "      <td>0</td>\n",
       "      <td>0</td>\n",
       "      <td>0</td>\n",
       "      <td>0</td>\n",
       "      <td>0</td>\n",
       "      <td>0</td>\n",
       "      <td>0</td>\n",
       "    </tr>\n",
       "    <tr>\n",
       "      <th>3</th>\n",
       "      <td>3</td>\n",
       "      <td>3</td>\n",
       "      <td>2</td>\n",
       "      <td>0</td>\n",
       "      <td>0</td>\n",
       "      <td>1</td>\n",
       "      <td>0</td>\n",
       "      <td>3</td>\n",
       "      <td>2</td>\n",
       "      <td>1</td>\n",
       "      <td>...</td>\n",
       "      <td>0</td>\n",
       "      <td>0</td>\n",
       "      <td>0</td>\n",
       "      <td>0</td>\n",
       "      <td>0</td>\n",
       "      <td>0</td>\n",
       "      <td>0</td>\n",
       "      <td>0</td>\n",
       "      <td>0</td>\n",
       "      <td>0</td>\n",
       "    </tr>\n",
       "    <tr>\n",
       "      <th>4</th>\n",
       "      <td>4</td>\n",
       "      <td>1</td>\n",
       "      <td>0</td>\n",
       "      <td>3</td>\n",
       "      <td>0</td>\n",
       "      <td>1</td>\n",
       "      <td>0</td>\n",
       "      <td>4</td>\n",
       "      <td>3</td>\n",
       "      <td>1</td>\n",
       "      <td>...</td>\n",
       "      <td>1</td>\n",
       "      <td>0</td>\n",
       "      <td>0</td>\n",
       "      <td>0</td>\n",
       "      <td>0</td>\n",
       "      <td>0</td>\n",
       "      <td>0</td>\n",
       "      <td>0</td>\n",
       "      <td>0</td>\n",
       "      <td>0</td>\n",
       "    </tr>\n",
       "  </tbody>\n",
       "</table>\n",
       "<p>5 rows × 37 columns</p>\n",
       "</div>"
      ],
      "text/plain": [
       "   country  state  city  department  telecommuting  has_company_logo  \\\n",
       "0        0      0     0           0              0                 0   \n",
       "1        1      1     0           1              1                 1   \n",
       "2        2      2     1           2              0                 1   \n",
       "3        3      3     2           0              0                 1   \n",
       "4        4      1     0           3              0                 1   \n",
       "\n",
       "   has_questions  industry  function  salary_range_Unspecified  ...  \\\n",
       "0              1         0         0                         1  ...   \n",
       "1              0         1         0                         1  ...   \n",
       "2              1         2         1                         1  ...   \n",
       "3              0         3         2                         1  ...   \n",
       "4              0         4         3                         1  ...   \n",
       "\n",
       "   required_education_Bachelor's Degree  \\\n",
       "0                                     0   \n",
       "1                                     0   \n",
       "2                                     0   \n",
       "3                                     0   \n",
       "4                                     1   \n",
       "\n",
       "   required_education_High School or equivalent  \\\n",
       "0                                             0   \n",
       "1                                             0   \n",
       "2                                             0   \n",
       "3                                             0   \n",
       "4                                             0   \n",
       "\n",
       "   required_education_Associate Degree  \\\n",
       "0                                    0   \n",
       "1                                    0   \n",
       "2                                    0   \n",
       "3                                    0   \n",
       "4                                    0   \n",
       "\n",
       "   required_education_Some College Coursework Completed  \\\n",
       "0                                                  0      \n",
       "1                                                  0      \n",
       "2                                                  0      \n",
       "3                                                  0      \n",
       "4                                                  0      \n",
       "\n",
       "   required_education_Professional  \\\n",
       "0                                0   \n",
       "1                                0   \n",
       "2                                0   \n",
       "3                                0   \n",
       "4                                0   \n",
       "\n",
       "   required_education_Vocational - HS Diploma  required_education_Vocational  \\\n",
       "0                                           0                              0   \n",
       "1                                           0                              0   \n",
       "2                                           0                              0   \n",
       "3                                           0                              0   \n",
       "4                                           0                              0   \n",
       "\n",
       "   required_education_Certification  \\\n",
       "0                                 0   \n",
       "1                                 0   \n",
       "2                                 0   \n",
       "3                                 0   \n",
       "4                                 0   \n",
       "\n",
       "   required_education_Some High School Coursework  \\\n",
       "0                                               0   \n",
       "1                                               0   \n",
       "2                                               0   \n",
       "3                                               0   \n",
       "4                                               0   \n",
       "\n",
       "   required_education_Doctorate  \n",
       "0                             0  \n",
       "1                             0  \n",
       "2                             0  \n",
       "3                             0  \n",
       "4                             0  \n",
       "\n",
       "[5 rows x 37 columns]"
      ]
     },
     "execution_count": 11,
     "metadata": {},
     "output_type": "execute_result"
    }
   ],
   "source": [
    "X_train.head(5)"
   ]
  },
  {
   "attachments": {},
   "cell_type": "markdown",
   "metadata": {},
   "source": [
    "Build Model"
   ]
  },
  {
   "cell_type": "code",
   "execution_count": 12,
   "metadata": {},
   "outputs": [
    {
     "name": "stdout",
     "output_type": "stream",
     "text": [
      "Model: \"sequential_1\"\n",
      "_________________________________________________________________\n",
      " Layer (type)                Output Shape              Param #   \n",
      "=================================================================\n",
      " dense_2 (Dense)             (None, 64)                2432      \n",
      "                                                                 \n",
      " dropout_1 (Dropout)         (None, 64)                0         \n",
      "                                                                 \n",
      " dense_3 (Dense)             (None, 32)                2080      \n",
      "                                                                 \n",
      " dropout_2 (Dropout)         (None, 32)                0         \n",
      "                                                                 \n",
      " dense_4 (Dense)             (None, 1)                 33        \n",
      "                                                                 \n",
      "=================================================================\n",
      "Total params: 4,545\n",
      "Trainable params: 4,545\n",
      "Non-trainable params: 0\n",
      "_________________________________________________________________\n"
     ]
    }
   ],
   "source": [
    "model3 = Sequential()\n",
    "model3.add(Dense(64, input_dim=X_train.shape[1], activation='relu'))\n",
    "model3.add(Dropout(0.2))\n",
    "model3.add(Dense(32, activation='relu'))\n",
    "model3.add(Dropout(0.2))\n",
    "model3.add(Dense(1, activation='sigmoid'))\n",
    "model3.compile(loss='binary_crossentropy', optimizer='adam', metrics=['accuracy'])\n",
    "model3.summary()"
   ]
  },
  {
   "attachments": {},
   "cell_type": "markdown",
   "metadata": {},
   "source": [
    "Fit Model"
   ]
  },
  {
   "cell_type": "code",
   "execution_count": 13,
   "metadata": {},
   "outputs": [
    {
     "name": "stdout",
     "output_type": "stream",
     "text": [
      "Epoch 1/10\n",
      "225/225 [==============================] - 1s 2ms/step - loss: 7.4237 - accuracy: 0.8613 - val_loss: 2.0704 - val_accuracy: 0.9502\n",
      "Epoch 2/10\n",
      "225/225 [==============================] - 0s 2ms/step - loss: 2.0317 - accuracy: 0.9113 - val_loss: 0.4986 - val_accuracy: 0.9502\n",
      "Epoch 3/10\n",
      "225/225 [==============================] - 0s 1ms/step - loss: 0.9970 - accuracy: 0.9170 - val_loss: 0.2523 - val_accuracy: 0.9502\n",
      "Epoch 4/10\n",
      "225/225 [==============================] - 0s 2ms/step - loss: 0.5325 - accuracy: 0.9330 - val_loss: 0.3436 - val_accuracy: 0.9502\n",
      "Epoch 5/10\n",
      "225/225 [==============================] - 0s 2ms/step - loss: 0.3731 - accuracy: 0.9438 - val_loss: 0.2810 - val_accuracy: 0.9502\n",
      "Epoch 6/10\n",
      "225/225 [==============================] - 0s 2ms/step - loss: 0.3014 - accuracy: 0.9480 - val_loss: 0.2622 - val_accuracy: 0.9502\n",
      "Epoch 7/10\n",
      "225/225 [==============================] - 0s 2ms/step - loss: 0.2772 - accuracy: 0.9486 - val_loss: 0.2583 - val_accuracy: 0.9502\n",
      "Epoch 8/10\n",
      "225/225 [==============================] - 0s 2ms/step - loss: 0.2488 - accuracy: 0.9499 - val_loss: 0.2082 - val_accuracy: 0.9502\n",
      "Epoch 9/10\n",
      "225/225 [==============================] - 0s 2ms/step - loss: 0.2368 - accuracy: 0.9504 - val_loss: 0.2177 - val_accuracy: 0.9502\n",
      "Epoch 10/10\n",
      "225/225 [==============================] - 0s 2ms/step - loss: 0.2279 - accuracy: 0.9501 - val_loss: 0.2083 - val_accuracy: 0.9502\n"
     ]
    },
    {
     "data": {
      "text/plain": [
       "<keras.callbacks.History at 0x1c366b6b820>"
      ]
     },
     "execution_count": 13,
     "metadata": {},
     "output_type": "execute_result"
    }
   ],
   "source": [
    "model3.fit(X_train, y_train, epochs=10, batch_size=64, validation_data=(X_test, y_test))"
   ]
  },
  {
   "attachments": {},
   "cell_type": "markdown",
   "metadata": {},
   "source": [
    "Evaluate Model"
   ]
  },
  {
   "cell_type": "code",
   "execution_count": 14,
   "metadata": {},
   "outputs": [
    {
     "name": "stdout",
     "output_type": "stream",
     "text": [
      "3: Test Loss: 0.208, Test Accuracy: 0.95\n"
     ]
    }
   ],
   "source": [
    "loss3, accuracy3 = model3.evaluate(X_test, y_test, verbose=False)\n",
    "print(f'3: Test Loss: {loss3:.3}, Test Accuracy: {accuracy3:.3}')"
   ]
  },
  {
   "attachments": {},
   "cell_type": "markdown",
   "metadata": {},
   "source": [
    "Confusion Matrix"
   ]
  },
  {
   "cell_type": "code",
   "execution_count": 15,
   "metadata": {},
   "outputs": [
    {
     "name": "stdout",
     "output_type": "stream",
     "text": [
      "113/113 [==============================] - 0s 677us/step\n"
     ]
    }
   ],
   "source": [
    "y_pred = model3.predict(X_test)\n",
    "y_pred = np.round(y_pred)\n",
    "\n",
    "# Create a confusion matrix\n",
    "cm = confusion_matrix(y_test, y_pred)"
   ]
  },
  {
   "cell_type": "code",
   "execution_count": 16,
   "metadata": {},
   "outputs": [
    {
     "data": {
      "image/png": "[encoded data removed]",
      "text/plain": [
       "<Figure size 640x480 with 1 Axes>"
      ]
     },
     "metadata": {},
     "output_type": "display_data"
    }
   ],
   "source": [
    "# Plot the confusion matrix\n",
    "plt.imshow(cm, cmap=plt.cm.Blues)\n",
    "plt.title(\"Confusion Matrix\")\n",
    "plt.xlabel(\"True labels\")\n",
    "plt.ylabel(\"Predicted labels\")\n",
    "plt.xticks([0, 1], ['Real', 'Fake'])\n",
    "plt.yticks([0, 1], ['Real', 'Fake'])\n",
    "plt.text(0, 0, cm[0,0], ha=\"center\", va=\"center\", color=\"grey\")\n",
    "plt.text(0, 1, cm[0,1], ha=\"center\", va=\"center\", color=\"grey\")\n",
    "plt.text(1, 0, cm[1,0], ha=\"center\", va=\"center\", color=\"grey\")\n",
    "plt.text(1, 1, cm[1,1], ha=\"center\", va=\"center\", color=\"grey\")\n",
    "plt.show()"
   ]
  },
  {
   "attachments": {},
   "cell_type": "markdown",
   "metadata": {},
   "source": [
    "#### First Version of Deep Learning Model"
   ]
  },
  {
   "cell_type": "code",
   "execution_count": 17,
   "metadata": {},
   "outputs": [
    {
     "data": {
      "text/plain": [
       "\"\\n# First Version\\n# Test Loss: 0.197, Test Accuracy: 0.952\\n# mit SGD(learning_rate=0.01, momentum=0.9)\\nmodel2 = Sequential()\\nmodel2.add(Dense(64, input_dim=X_train.shape[1], activation='relu'))\\nmodel2.add(Dropout(0.2))\\nmodel2.add(Dense(32, activation='relu'))\\nmodel2.add(Dropout(0.2))\\nmodel2.add(Dense(1, activation='sigmoid'))\\nmodel2.compile(loss='binary_crossentropy', \\n               optimizer=SGD(learning_rate=0.01, momentum=0.9), \\n               metrics=['accuracy'])\\nprint(model2.summary())\\nhistory2 = model2.fit(X_train, y_train, epochs=20, batch_size=32, validation_data=(X_val, y_val))\\n\""
      ]
     },
     "execution_count": 17,
     "metadata": {},
     "output_type": "execute_result"
    }
   ],
   "source": [
    "'''\n",
    "# First Version\n",
    "# Test Loss: 0.197, Test Accuracy: 0.952\n",
    "# mit SGD(learning_rate=0.01, momentum=0.9)\n",
    "model2 = Sequential()\n",
    "model2.add(Dense(64, input_dim=X_train.shape[1], activation='relu'))\n",
    "model2.add(Dropout(0.2))\n",
    "model2.add(Dense(32, activation='relu'))\n",
    "model2.add(Dropout(0.2))\n",
    "model2.add(Dense(1, activation='sigmoid'))\n",
    "model2.compile(loss='binary_crossentropy', \n",
    "               optimizer=SGD(learning_rate=0.01, momentum=0.9), \n",
    "               metrics=['accuracy'])\n",
    "print(model2.summary())\n",
    "history2 = model2.fit(X_train, y_train, epochs=20, batch_size=32, validation_data=(X_val, y_val))\n",
    "'''"
   ]
  }
 ],
 "metadata": {
  "kernelspec": {
   "display_name": "Python 3",
   "language": "python",
   "name": "python3"
  },
  "language_info": {
   "codemirror_mode": {
    "name": "ipython",
    "version": 3
   },
   "file_extension": ".py",
   "mimetype": "text/x-python",
   "name": "python",
   "nbconvert_exporter": "python",
   "pygments_lexer": "ipython3",
   "version": "3.9.13"
  },
  "orig_nbformat": 4
 },
 "nbformat": 4,
 "nbformat_minor": 2
}
