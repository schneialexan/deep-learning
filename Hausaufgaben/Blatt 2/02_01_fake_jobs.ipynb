{
 "cells": [
  {
   "cell_type": "code",
   "execution_count": 14,
   "metadata": {},
   "outputs": [],
   "source": [
    "import pandas as pd\n",
    "import seaborn as sns\n",
    "from keras.models import Sequential\n",
    "from keras.layers import Dense, Dropout, Activation\n",
    "from keras.optimizers import Adam\n",
    "from sklearn.model_selection import train_test_split\n",
    "from sklearn.preprocessing import LabelEncoder, OneHotEncoder, StandardScaler\n",
    "\n",
    "from sklearn.metrics import confusion_matrix\n",
    "import matplotlib.pyplot as plt"
   ]
  },
  {
   "cell_type": "code",
   "execution_count": 8,
   "metadata": {},
   "outputs": [],
   "source": [
    "df = pd.read_csv('fake_job_postings.csv')"
   ]
  },
  {
   "cell_type": "code",
   "execution_count": 9,
   "metadata": {},
   "outputs": [
    {
     "name": "stdout",
     "output_type": "stream",
     "text": [
      "(17880, 18)\n",
      "   job_id             title          location department salary_range  \\\n",
      "0       1  Marketing Intern  US, NY, New York  Marketing          NaN   \n",
      "\n",
      "                                     company_profile  \\\n",
      "0  We're Food52, and we've created a groundbreaki...   \n",
      "\n",
      "                                         description  \\\n",
      "0  Food52, a fast-growing, James Beard Award-winn...   \n",
      "\n",
      "                                        requirements benefits  telecommuting  \\\n",
      "0  Experience with content management systems a m...      NaN              0   \n",
      "\n",
      "   has_company_logo  has_questions employment_type required_experience  \\\n",
      "0                 1              0           Other          Internship   \n",
      "\n",
      "  required_education industry   function  fraudulent  \n",
      "0                NaN      NaN  Marketing           0  \n",
      "job_id                  int64\n",
      "title                  object\n",
      "location               object\n",
      "department             object\n",
      "salary_range           object\n",
      "company_profile        object\n",
      "description            object\n",
      "requirements           object\n",
      "benefits               object\n",
      "telecommuting           int64\n",
      "has_company_logo        int64\n",
      "has_questions           int64\n",
      "employment_type        object\n",
      "required_experience    object\n",
      "required_education     object\n",
      "industry               object\n",
      "function               object\n",
      "fraudulent              int64\n",
      "dtype: object\n",
      "job_id                     0\n",
      "title                      0\n",
      "location                 346\n",
      "department             11547\n",
      "salary_range           15012\n",
      "company_profile         3308\n",
      "description                1\n",
      "requirements            2695\n",
      "benefits                7210\n",
      "telecommuting              0\n",
      "has_company_logo           0\n",
      "has_questions              0\n",
      "employment_type         3471\n",
      "required_experience     7050\n",
      "required_education      8105\n",
      "industry                4903\n",
      "function                6455\n",
      "fraudulent                 0\n",
      "dtype: int64\n"
     ]
    },
    {
     "data": {
      "image/png": "[encoded data removed]",
      "text/plain": [
       "<Figure size 640x480 with 1 Axes>"
      ]
     },
     "metadata": {},
     "output_type": "display_data"
    }
   ],
   "source": [
    "# Check the shape of the dataset\n",
    "print(df.shape)\n",
    "\n",
    "# Check the top few rows of the dataset\n",
    "print(df.head(1))\n",
    "\n",
    "# Check the data types of each column\n",
    "print(df.dtypes)\n",
    "\n",
    "# Check for missing values\n",
    "print(df.isna().sum())\n",
    "\n",
    "# Check the distribution of the target variable\n",
    "sns.countplot(x='fraudulent', data=df)\n",
    "plt.show()"
   ]
  },
  {
   "cell_type": "code",
   "execution_count": 10,
   "metadata": {},
   "outputs": [],
   "source": [
    "# Convert categorical variables to numerical variables\n",
    "X = df.drop('fraudulent', axis=1)\n",
    "y = df['fraudulent']\n",
    "\n",
    "le = LabelEncoder()\n",
    "oe = OneHotEncoder()\n",
    "\n",
    "X['employment_type'] = le.fit_transform(X['employment_type'].astype(str))\n",
    "X['required_experience'] = le.fit_transform(X['required_experience'].astype(str))\n",
    "X['required_education'] = le.fit_transform(X['required_education'].astype(str))\n",
    "\n",
    "X = oe.fit_transform(X).toarray()\n",
    "\n",
    "# Scaling the independent variables\n",
    "sc = StandardScaler()\n",
    "X = sc.fit_transform(X)\n",
    "\n",
    "# Split the dataset into train, validation, and test sets\n",
    "X_train, X_test, y_train, y_test = train_test_split(X, y, test_size=0.2, random_state=42, stratify=y)\n",
    "X_train, X_val, y_train, y_val = train_test_split(X_train, y_train, test_size=0.2, random_state=42, stratify=y_train)"
   ]
  },
  {
   "cell_type": "code",
   "execution_count": 11,
   "metadata": {},
   "outputs": [
    {
     "name": "stdout",
     "output_type": "stream",
     "text": [
      "Epoch 1/50\n",
      "358/358 [==============================] - 7s 17ms/step - loss: 0.6532 - accuracy: 0.8778 - val_loss: 0.2217 - val_accuracy: 0.9514\n",
      "Epoch 2/50\n",
      "358/358 [==============================] - 5s 15ms/step - loss: 0.2671 - accuracy: 0.9384 - val_loss: 0.1936 - val_accuracy: 0.9605\n",
      "Epoch 3/50\n",
      "358/358 [==============================] - 5s 15ms/step - loss: 0.1690 - accuracy: 0.9547 - val_loss: 0.2072 - val_accuracy: 0.9549\n",
      "Epoch 4/50\n",
      "358/358 [==============================] - 5s 15ms/step - loss: 0.1060 - accuracy: 0.9685 - val_loss: 0.2167 - val_accuracy: 0.9388\n",
      "Epoch 5/50\n",
      "358/358 [==============================] - 5s 15ms/step - loss: 0.0765 - accuracy: 0.9762 - val_loss: 0.2300 - val_accuracy: 0.9137\n",
      "Epoch 6/50\n",
      "358/358 [==============================] - 5s 13ms/step - loss: 0.0527 - accuracy: 0.9850 - val_loss: 0.2590 - val_accuracy: 0.8836\n",
      "Epoch 7/50\n",
      "358/358 [==============================] - 5s 13ms/step - loss: 0.0373 - accuracy: 0.9870 - val_loss: 0.3148 - val_accuracy: 0.8483\n",
      "Epoch 8/50\n",
      "358/358 [==============================] - 5s 13ms/step - loss: 0.0375 - accuracy: 0.9862 - val_loss: 0.3607 - val_accuracy: 0.7906\n",
      "Epoch 9/50\n",
      "358/358 [==============================] - 5s 13ms/step - loss: 0.0378 - accuracy: 0.9862 - val_loss: 0.3313 - val_accuracy: 0.8168\n",
      "Epoch 10/50\n",
      "358/358 [==============================] - 5s 13ms/step - loss: 0.0293 - accuracy: 0.9887 - val_loss: 0.3937 - val_accuracy: 0.7739\n",
      "Epoch 11/50\n",
      "358/358 [==============================] - 5s 14ms/step - loss: 0.0242 - accuracy: 0.9913 - val_loss: 0.3491 - val_accuracy: 0.8001\n",
      "Epoch 12/50\n",
      "358/358 [==============================] - 5s 14ms/step - loss: 0.0207 - accuracy: 0.9920 - val_loss: 0.3041 - val_accuracy: 0.8459\n",
      "Epoch 13/50\n",
      "358/358 [==============================] - 5s 14ms/step - loss: 0.0113 - accuracy: 0.9956 - val_loss: 0.3202 - val_accuracy: 0.8616\n",
      "Epoch 14/50\n",
      "358/358 [==============================] - 5s 13ms/step - loss: 0.0120 - accuracy: 0.9957 - val_loss: 0.3211 - val_accuracy: 0.8700\n",
      "Epoch 15/50\n",
      "358/358 [==============================] - 5s 13ms/step - loss: 0.0104 - accuracy: 0.9969 - val_loss: 0.3698 - val_accuracy: 0.8508\n",
      "Epoch 16/50\n",
      "358/358 [==============================] - 5s 14ms/step - loss: 0.0130 - accuracy: 0.9958 - val_loss: 0.3267 - val_accuracy: 0.8668\n",
      "Epoch 17/50\n",
      "358/358 [==============================] - 5s 15ms/step - loss: 0.0131 - accuracy: 0.9961 - val_loss: 0.3666 - val_accuracy: 0.8378\n",
      "Epoch 18/50\n",
      "358/358 [==============================] - 5s 15ms/step - loss: 0.0086 - accuracy: 0.9972 - val_loss: 0.4062 - val_accuracy: 0.8294\n",
      "Epoch 19/50\n",
      "358/358 [==============================] - 5s 15ms/step - loss: 0.0108 - accuracy: 0.9965 - val_loss: 0.3670 - val_accuracy: 0.8441\n",
      "Epoch 20/50\n",
      "358/358 [==============================] - 5s 15ms/step - loss: 0.0063 - accuracy: 0.9980 - val_loss: 0.3936 - val_accuracy: 0.8410\n",
      "Epoch 21/50\n",
      "358/358 [==============================] - 5s 15ms/step - loss: 0.0057 - accuracy: 0.9981 - val_loss: 0.3789 - val_accuracy: 0.8679\n",
      "Epoch 22/50\n",
      "358/358 [==============================] - 5s 15ms/step - loss: 0.0112 - accuracy: 0.9963 - val_loss: 0.2726 - val_accuracy: 0.9105\n",
      "Epoch 23/50\n",
      "358/358 [==============================] - 5s 15ms/step - loss: 0.0068 - accuracy: 0.9983 - val_loss: 0.3189 - val_accuracy: 0.8983\n",
      "Epoch 24/50\n",
      "358/358 [==============================] - 5s 15ms/step - loss: 0.0057 - accuracy: 0.9984 - val_loss: 0.3747 - val_accuracy: 0.8780\n",
      "Epoch 25/50\n",
      "358/358 [==============================] - 5s 15ms/step - loss: 0.0051 - accuracy: 0.9986 - val_loss: 0.3553 - val_accuracy: 0.8990\n",
      "Epoch 26/50\n",
      "358/358 [==============================] - 5s 15ms/step - loss: 0.0080 - accuracy: 0.9976 - val_loss: 0.4740 - val_accuracy: 0.8542\n",
      "Epoch 27/50\n",
      "358/358 [==============================] - 5s 15ms/step - loss: 0.0069 - accuracy: 0.9985 - val_loss: 0.3773 - val_accuracy: 0.8979\n",
      "Epoch 28/50\n",
      "358/358 [==============================] - 5s 15ms/step - loss: 0.0049 - accuracy: 0.9983 - val_loss: 0.3708 - val_accuracy: 0.8948\n",
      "Epoch 29/50\n",
      "358/358 [==============================] - 5s 15ms/step - loss: 0.0053 - accuracy: 0.9984 - val_loss: 0.3231 - val_accuracy: 0.9081\n",
      "Epoch 30/50\n",
      "358/358 [==============================] - 6s 16ms/step - loss: 0.0042 - accuracy: 0.9987 - val_loss: 0.3385 - val_accuracy: 0.9116\n",
      "Epoch 31/50\n",
      "358/358 [==============================] - 6s 18ms/step - loss: 0.0046 - accuracy: 0.9989 - val_loss: 0.3095 - val_accuracy: 0.9329\n",
      "Epoch 32/50\n",
      "358/358 [==============================] - 7s 18ms/step - loss: 0.0043 - accuracy: 0.9990 - val_loss: 0.2990 - val_accuracy: 0.9266\n",
      "Epoch 33/50\n",
      "358/358 [==============================] - 6s 18ms/step - loss: 0.0033 - accuracy: 0.9989 - val_loss: 0.3160 - val_accuracy: 0.9311\n",
      "Epoch 34/50\n",
      "358/358 [==============================] - 9s 25ms/step - loss: 0.0056 - accuracy: 0.9988 - val_loss: 0.3242 - val_accuracy: 0.9556\n",
      "Epoch 35/50\n",
      "358/358 [==============================] - 7s 20ms/step - loss: 0.0044 - accuracy: 0.9990 - val_loss: 0.3324 - val_accuracy: 0.9493\n",
      "Epoch 36/50\n",
      "358/358 [==============================] - 6s 17ms/step - loss: 0.0017 - accuracy: 0.9997 - val_loss: 0.3537 - val_accuracy: 0.9500\n",
      "Epoch 37/50\n",
      "358/358 [==============================] - 6s 16ms/step - loss: 0.0016 - accuracy: 0.9997 - val_loss: 0.3729 - val_accuracy: 0.9329\n",
      "Epoch 38/50\n",
      "358/358 [==============================] - 6s 16ms/step - loss: 0.0027 - accuracy: 0.9995 - val_loss: 0.3946 - val_accuracy: 0.9483\n",
      "Epoch 39/50\n",
      "358/358 [==============================] - 7s 19ms/step - loss: 0.0052 - accuracy: 0.9985 - val_loss: 0.3547 - val_accuracy: 0.9553\n",
      "Epoch 40/50\n",
      "358/358 [==============================] - 7s 20ms/step - loss: 0.0051 - accuracy: 0.9989 - val_loss: 0.5156 - val_accuracy: 0.9532\n",
      "Epoch 41/50\n",
      "358/358 [==============================] - 7s 19ms/step - loss: 0.0049 - accuracy: 0.9988 - val_loss: 0.5658 - val_accuracy: 0.9581\n",
      "Epoch 42/50\n",
      "358/358 [==============================] - 9s 26ms/step - loss: 0.0028 - accuracy: 0.9990 - val_loss: 0.5167 - val_accuracy: 0.9528\n",
      "Epoch 43/50\n",
      "358/358 [==============================] - 13s 36ms/step - loss: 0.0047 - accuracy: 0.9992 - val_loss: 0.4364 - val_accuracy: 0.9493\n",
      "Epoch 44/50\n",
      "358/358 [==============================] - 11s 30ms/step - loss: 0.0023 - accuracy: 0.9993 - val_loss: 0.5550 - val_accuracy: 0.9546\n",
      "Epoch 45/50\n",
      "358/358 [==============================] - 6s 17ms/step - loss: 0.0021 - accuracy: 0.9996 - val_loss: 0.5906 - val_accuracy: 0.9602\n",
      "Epoch 46/50\n",
      "358/358 [==============================] - 6s 17ms/step - loss: 0.0024 - accuracy: 0.9993 - val_loss: 0.5747 - val_accuracy: 0.9500\n",
      "Epoch 47/50\n",
      "358/358 [==============================] - 6s 16ms/step - loss: 0.0011 - accuracy: 0.9997 - val_loss: 0.6325 - val_accuracy: 0.9514\n",
      "Epoch 48/50\n",
      "358/358 [==============================] - 6s 18ms/step - loss: 0.0019 - accuracy: 0.9997 - val_loss: 0.6988 - val_accuracy: 0.9553\n",
      "Epoch 49/50\n",
      "358/358 [==============================] - 12s 32ms/step - loss: 5.8399e-04 - accuracy: 0.9999 - val_loss: 0.7319 - val_accuracy: 0.9535\n",
      "Epoch 50/50\n",
      "358/358 [==============================] - 9s 24ms/step - loss: 0.0015 - accuracy: 0.9995 - val_loss: 0.8743 - val_accuracy: 0.9556\n"
     ]
    }
   ],
   "source": [
    "# Define the model architecture\n",
    "model = Sequential([\n",
    "    Dense(64, input_dim=X_train.shape[1]),\n",
    "    Activation('relu'),\n",
    "    Dropout(0.5),\n",
    "    Dense(32),\n",
    "    Activation('relu'),\n",
    "    Dropout(0.5),\n",
    "    Dense(1),\n",
    "    Activation('sigmoid')\n",
    "])\n",
    "\n",
    "# Compile the model\n",
    "model.compile(loss='binary_crossentropy', optimizer=Adam(learning_rate=0.001), metrics=['accuracy'])\n",
    "\n",
    "# Train the model\n",
    "history = model.fit(X_train, y_train, validation_data=(X_val, y_val), epochs=50, batch_size=32, verbose=1)\n"
   ]
  },
  {
   "cell_type": "code",
   "execution_count": 12,
   "metadata": {},
   "outputs": [
    {
     "name": "stdout",
     "output_type": "stream",
     "text": [
      "56/56 [==============================] - 1s 17ms/step - loss: 0.8529 - accuracy: 0.9636\n",
      "Test accuracy: 0.9636465311050415\n"
     ]
    }
   ],
   "source": [
    "loss, accuracy = model.evaluate(X_test, y_test, batch_size=64)\n",
    "print(\"Test accuracy:\", accuracy)"
   ]
  },
  {
   "attachments": {},
   "cell_type": "markdown",
   "metadata": {},
   "source": [
    "#### Confusionmatrix"
   ]
  },
  {
   "cell_type": "code",
   "execution_count": 15,
   "metadata": {},
   "outputs": [
    {
     "name": "stdout",
     "output_type": "stream",
     "text": [
      "112/112 [==============================] - 1s 5ms/step\n"
     ]
    },
    {
     "data": {
      "text/plain": [
       "<Figure size 800x800 with 0 Axes>"
      ]
     },
     "metadata": {},
     "output_type": "display_data"
    },
    {
     "data": {
      "image/png": "[encoded data removed]",
      "text/plain": [
       "<Figure size 480x480 with 2 Axes>"
      ]
     },
     "metadata": {},
     "output_type": "display_data"
    }
   ],
   "source": [
    "y_pred = model.predict(X_test)\n",
    "y_pred = (y_pred > 0.5).astype(int)  # Convert probabilities to binary predictions\n",
    "\n",
    "# Create the confusion matrix\n",
    "cm = confusion_matrix(y_test, y_pred)\n",
    "\n",
    "# Create a plot of the confusion matrix\n",
    "labels = ['Real', 'Fake']\n",
    "fig = plt.figure(figsize=(8,8))\n",
    "plt.matshow(cm, cmap=plt.cm.Blues)\n",
    "plt.colorbar()\n",
    "plt.title('Confusion matrix')\n",
    "plt.xticks([0,1], labels)\n",
    "plt.yticks([0,1], labels)\n",
    "plt.xlabel('Predicted')\n",
    "plt.ylabel('True')\n",
    "for i in range(2):\n",
    "    for j in range(2):\n",
    "        plt.text(j, i, str(cm[i][j]), ha='center', va='center', color='black')\n",
    "plt.show();"
   ]
  },
  {
   "cell_type": "code",
   "execution_count": null,
   "metadata": {},
   "outputs": [],
   "source": []
  }
 ],
 "metadata": {
  "kernelspec": {
   "display_name": "Python 3",
   "language": "python",
   "name": "python3"
  },
  "language_info": {
   "codemirror_mode": {
    "name": "ipython",
    "version": 3
   },
   "file_extension": ".py",
   "mimetype": "text/x-python",
   "name": "python",
   "nbconvert_exporter": "python",
   "pygments_lexer": "ipython3",
   "version": "3.9.13"
  },
  "orig_nbformat": 4
 },
 "nbformat": 4,
 "nbformat_minor": 2
}
