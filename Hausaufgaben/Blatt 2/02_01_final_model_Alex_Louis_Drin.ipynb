{
 "cells": [
  {
   "cell_type": "code",
   "execution_count": 1,
   "metadata": {},
   "outputs": [],
   "source": [
    "import pandas as pd\n",
    "import numpy as np\n",
    "import matplotlib.pyplot as plt\n",
    "from sklearn.model_selection import train_test_split\n",
    "from sklearn.metrics import confusion_matrix\n",
    "from keras.models import Sequential\n",
    "from keras.layers import Dense, Dropout, Embedding, Flatten\n",
    "from keras.optimizers import Adam\n",
    "from keras.preprocessing.text import Tokenizer\n",
    "from keras.utils import pad_sequences\n",
    "from keras.losses import binary_crossentropy"
   ]
  },
  {
   "attachments": {},
   "cell_type": "markdown",
   "metadata": {},
   "source": [
    "#### Preprocessing"
   ]
  },
  {
   "cell_type": "code",
   "execution_count": 2,
   "metadata": {},
   "outputs": [
    {
     "data": {
      "text/plain": [
       "((17880, 2031), 2031)"
      ]
     },
     "execution_count": 2,
     "metadata": {},
     "output_type": "execute_result"
    }
   ],
   "source": [
    "data = pd.read_csv('fake_job_postings.csv')\n",
    "text = data['description'].astype(str)\n",
    "labels = data['fraudulent']\n",
    "tokenizer = Tokenizer(num_words=5000)\n",
    "tokenizer.fit_on_texts(text)\n",
    "sequences = tokenizer.texts_to_sequences(text)\n",
    "word_index = tokenizer.word_index\n",
    "max_length = max([len(s) for s in sequences])\n",
    "data = pad_sequences(sequences, maxlen=max_length)\n",
    "data.shape, max_length"
   ]
  },
  {
   "attachments": {},
   "cell_type": "markdown",
   "metadata": {},
   "source": [
    "Look at data"
   ]
  },
  {
   "cell_type": "code",
   "execution_count": 3,
   "metadata": {},
   "outputs": [
    {
     "data": {
      "text/plain": [
       "array([[   0,    0,    0, ...,    1,  431,  175],\n",
       "       [   0,    0,    0, ...,    2,  817,   23],\n",
       "       [   0,    0,    0, ...,    1,  282, 1335],\n",
       "       [   0,    0,    0, ...,    3,  824,  217],\n",
       "       [   0,    0,    0, ...,  128,  981,    8]])"
      ]
     },
     "execution_count": 3,
     "metadata": {},
     "output_type": "execute_result"
    }
   ],
   "source": [
    "data[:5]"
   ]
  },
  {
   "attachments": {},
   "cell_type": "markdown",
   "metadata": {},
   "source": [
    "Train test split"
   ]
  },
  {
   "cell_type": "code",
   "execution_count": 4,
   "metadata": {},
   "outputs": [
    {
     "name": "stdout",
     "output_type": "stream",
     "text": [
      "X_train.shape: (11443, 2031), y_train.shape: (11443,) --> 64.00%\n",
      "X_val.shape: (2861, 2031), y_val.shape: (2861,) --> 16.00%\n",
      "X_test.shape: (3576, 2031), y_test.shape: (3576,) --> 20.00%\n"
     ]
    }
   ],
   "source": [
    "X_train, X_test, y_train, y_test = train_test_split(data, labels, test_size=0.2, random_state=42, stratify=labels)\n",
    "X_train, X_val, y_train, y_val = train_test_split(X_train, y_train, test_size=0.2, random_state=42)\n",
    "print(f\"X_train.shape: {X_train.shape}, y_train.shape: {y_train.shape} --> {X_train.shape[0]/(X_train.shape[0]+X_val.shape[0]+X_test.shape[0]) * 100:.2f}%\")\n",
    "print(f\"X_val.shape: {X_val.shape}, y_val.shape: {y_val.shape} --> {X_val.shape[0]/(X_train.shape[0]+X_val.shape[0]+X_test.shape[0]) * 100:.2f}%\")\n",
    "print(f\"X_test.shape: {X_test.shape}, y_test.shape: {y_test.shape} --> {X_test.shape[0]/(X_train.shape[0]+X_val.shape[0]+X_test.shape[0]) * 100:.2f}%\")"
   ]
  },
  {
   "attachments": {},
   "cell_type": "markdown",
   "metadata": {},
   "source": [
    "Build Model\n",
    "1. Embedding-Schicht: <br>\n",
    "    Die erste Schicht des Modells ist eine Embedding-Schicht, die dazu dient, eine Darstellung der Wörter im Text zu lernen. In dieser Schicht wird jeder Token (d.h. jedes Wort im Text) in eine Vektordarstellung umgewandelt. Die Größe der Vektoren wird durch den Parameter \"output_dim\" (in diesem Fall 100) festgelegt, während der Parameter \"input_length\" die Länge des Eingabesequenz definiert. Durch die Verwendung von Embedding-Schichten kann das Modell semantische Beziehungen zwischen Wörtern lernen und die Textklassifikation verbessern.\n",
    "2. Flatten: <br>\n",
    "    Bring 100 dimensional Tensor to a 1 dimensional"
   ]
  },
  {
   "cell_type": "code",
   "execution_count": 5,
   "metadata": {},
   "outputs": [
    {
     "name": "stdout",
     "output_type": "stream",
     "text": [
      "Model: \"sequential\"\n",
      "_________________________________________________________________\n",
      " Layer (type)                Output Shape              Param #   \n",
      "=================================================================\n",
      " embedding (Embedding)       (None, 2031, 100)         500000    \n",
      "                                                                 \n",
      " flatten (Flatten)           (None, 203100)            0         \n",
      "                                                                 \n",
      " dense (Dense)               (None, 64)                12998464  \n",
      "                                                                 \n",
      " dropout (Dropout)           (None, 64)                0         \n",
      "                                                                 \n",
      " dense_1 (Dense)             (None, 1)                 65        \n",
      "                                                                 \n",
      "=================================================================\n",
      "Total params: 13,498,529\n",
      "Trainable params: 13,498,529\n",
      "Non-trainable params: 0\n",
      "_________________________________________________________________\n"
     ]
    }
   ],
   "source": [
    "model = Sequential()\n",
    "model.add(Embedding(5000, 100, input_length=max_length))\n",
    "model.add(Flatten())\n",
    "model.add(Dense(64,\n",
    "                kernel_initializer='random_normal', # weights\n",
    "                bias_initializer='zeros',           # bias\n",
    "                bias_regularizer='l1',              # Regularization\n",
    "                activation='relu'))\n",
    "model.add(Dropout(0.5))\n",
    "model.add(Dense(1, activation='sigmoid'))\n",
    "model.compile(loss=binary_crossentropy, \n",
    "              optimizer=Adam(learning_rate=0.001), \n",
    "              metrics=['accuracy'])\n",
    "model.summary()"
   ]
  },
  {
   "attachments": {},
   "cell_type": "markdown",
   "metadata": {},
   "source": [
    "Fit Model"
   ]
  },
  {
   "cell_type": "code",
   "execution_count": 6,
   "metadata": {},
   "outputs": [
    {
     "name": "stdout",
     "output_type": "stream",
     "text": [
      "Epoch 1/10\n",
      "179/179 [==============================] - 13s 70ms/step - loss: 0.2556 - accuracy: 0.9465 - val_loss: 0.1460 - val_accuracy: 0.9556\n",
      "Epoch 2/10\n",
      "179/179 [==============================] - 12s 68ms/step - loss: 0.1236 - accuracy: 0.9544 - val_loss: 0.1120 - val_accuracy: 0.9706\n",
      "Epoch 3/10\n",
      "179/179 [==============================] - 12s 69ms/step - loss: 0.0600 - accuracy: 0.9739 - val_loss: 0.1156 - val_accuracy: 0.9731\n",
      "Epoch 4/10\n",
      "179/179 [==============================] - 12s 68ms/step - loss: 0.0274 - accuracy: 0.9906 - val_loss: 0.1326 - val_accuracy: 0.9755\n",
      "Epoch 5/10\n",
      "179/179 [==============================] - 12s 68ms/step - loss: 0.0096 - accuracy: 0.9985 - val_loss: 0.1892 - val_accuracy: 0.9752\n",
      "Epoch 6/10\n",
      "179/179 [==============================] - 12s 67ms/step - loss: 0.0092 - accuracy: 0.9983 - val_loss: 0.1712 - val_accuracy: 0.9748\n",
      "Epoch 7/10\n",
      "179/179 [==============================] - 12s 67ms/step - loss: 0.0059 - accuracy: 0.9984 - val_loss: 0.2029 - val_accuracy: 0.9748\n",
      "Epoch 8/10\n",
      "179/179 [==============================] - 12s 68ms/step - loss: 0.0044 - accuracy: 0.9995 - val_loss: 0.2470 - val_accuracy: 0.9752\n",
      "Epoch 9/10\n",
      "179/179 [==============================] - 12s 68ms/step - loss: 0.0011 - accuracy: 0.9998 - val_loss: 0.2096 - val_accuracy: 0.9731\n",
      "Epoch 10/10\n",
      "179/179 [==============================] - 12s 68ms/step - loss: 0.0014 - accuracy: 0.9997 - val_loss: 0.2124 - val_accuracy: 0.9745\n"
     ]
    }
   ],
   "source": [
    "history = model.fit(X_train, y_train, epochs=10, batch_size=64, validation_data=(X_val, y_val))"
   ]
  },
  {
   "attachments": {},
   "cell_type": "markdown",
   "metadata": {},
   "source": [
    "Evaluate model"
   ]
  },
  {
   "cell_type": "code",
   "execution_count": 7,
   "metadata": {},
   "outputs": [
    {
     "name": "stdout",
     "output_type": "stream",
     "text": [
      "1: Test Loss: 0.178, Test Accuracy: 0.978\n"
     ]
    }
   ],
   "source": [
    "# 1: Test Loss: 0.157, Test Accuracy: 0.978\n",
    "# mit Adam(learning_rate=0.001)\n",
    "loss, accuracy = model.evaluate(X_test, y_test, verbose=False)\n",
    "print(f'1: Test Loss: {loss:.3}, Test Accuracy: {accuracy:.3}')"
   ]
  },
  {
   "attachments": {},
   "cell_type": "markdown",
   "metadata": {},
   "source": [
    "Confusion Matrix"
   ]
  },
  {
   "cell_type": "code",
   "execution_count": 8,
   "metadata": {},
   "outputs": [
    {
     "name": "stdout",
     "output_type": "stream",
     "text": [
      "112/112 [==============================] - 1s 11ms/step\n"
     ]
    }
   ],
   "source": [
    "y_pred = model.predict(X_test)\n",
    "y_pred = np.round(y_pred)\n",
    "# Create a confusion matrix\n",
    "cm = confusion_matrix(y_test, y_pred)"
   ]
  },
  {
   "cell_type": "code",
   "execution_count": 9,
   "metadata": {},
   "outputs": [
    {
     "data": {
      "image/png": "[encoded data removed]",
      "text/plain": [
       "<Figure size 640x480 with 1 Axes>"
      ]
     },
     "metadata": {},
     "output_type": "display_data"
    }
   ],
   "source": [
    "\n",
    "# Plot the confusion matrix\n",
    "plt.imshow(cm, cmap=plt.cm.Blues)\n",
    "plt.title(\"Confusion Matrix\")\n",
    "plt.xlabel(\"True labels\")\n",
    "plt.ylabel(\"Predicted labels\")\n",
    "plt.xticks([0, 1], ['Real', 'Fake'])\n",
    "plt.yticks([0, 1], ['Real', 'Fake'])\n",
    "plt.text(0, 0, cm[0,0], ha=\"center\", va=\"center\", color=\"grey\")\n",
    "plt.text(0, 1, cm[0,1], ha=\"center\", va=\"center\", color=\"grey\")\n",
    "plt.text(1, 0, cm[1,0], ha=\"center\", va=\"center\", color=\"grey\")\n",
    "plt.text(1, 1, cm[1,1], ha=\"center\", va=\"center\", color=\"grey\")\n",
    "plt.show()"
   ]
  }
 ],
 "metadata": {
  "kernelspec": {
   "display_name": "Python 3",
   "language": "python",
   "name": "python3"
  },
  "language_info": {
   "codemirror_mode": {
    "name": "ipython",
    "version": 3
   },
   "file_extension": ".py",
   "mimetype": "text/x-python",
   "name": "python",
   "nbconvert_exporter": "python",
   "pygments_lexer": "ipython3",
   "version": "3.9.13"
  },
  "orig_nbformat": 4,
  "vscode": {
   "interpreter": {
    "hash": "f3d42ad487b2b2994e012ab0306cc0a65d83ea9d079e1ade1e8453053e613de7"
   }
  }
 },
 "nbformat": 4,
 "nbformat_minor": 2
}
