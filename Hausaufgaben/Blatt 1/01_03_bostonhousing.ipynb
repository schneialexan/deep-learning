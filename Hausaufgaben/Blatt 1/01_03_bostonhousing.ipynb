{
 "cells": [
  {
   "cell_type": "code",
   "execution_count": 25,
   "metadata": {},
   "outputs": [],
   "source": [
    "from keras.datasets import boston_housing\n",
    "from keras.models import Sequential\n",
    "from keras.layers import Dense\n",
    "from sklearn.preprocessing import StandardScaler\n",
    "import matplotlib.pyplot as plt"
   ]
  },
  {
   "attachments": {},
   "cell_type": "markdown",
   "metadata": {},
   "source": [
    "The Boston Housing dataset contains 14 columns, including the target column (which contains the median value of owner-occupied homes in $1000's). The 13 input features are:\n",
    "\n",
    "1. CRIM: per capita crime rate by town\n",
    "2. ZN: proportion of residential land zoned for lots over 25,000 sq.ft.\n",
    "3. INDUS: proportion of non-retail business acres per town\n",
    "4. CHAS: Charles River dummy variable (= 1 if tract bounds river; 0 otherwise)\n",
    "5. NOX: nitric oxides concentration (parts per 10 million)\n",
    "6. RM: average number of rooms per dwelling\n",
    "7. AGE: proportion of owner-occupied units built prior to 1940\n",
    "8. DIS: weighted distances to five Boston employment centers\n",
    "9. RAD: index of accessibility to radial highways\n",
    "10. TAX: full-value property-tax rate per $10,000\n",
    "11. PTRATIO: pupil-teacher ratio by town\n",
    "12. B: 1000(Bk - 0.63)^2 where Bk is the proportion of blacks by town\n",
    "13. LSTAT: % lower status of the population\n",
    "\n",
    "The target column is the last column in the dataset and contains the median value of owner-occupied homes in $1000's. Therefore, the input data consists of 13 numerical features, and the target variable is a continuous numerical variable."
   ]
  },
  {
   "attachments": {},
   "cell_type": "markdown",
   "metadata": {},
   "source": [
    "#### Load Data"
   ]
  },
  {
   "cell_type": "code",
   "execution_count": 14,
   "metadata": {},
   "outputs": [
    {
     "data": {
      "text/plain": [
       "((404, 13), (102, 13), (404,), (102,))"
      ]
     },
     "execution_count": 14,
     "metadata": {},
     "output_type": "execute_result"
    }
   ],
   "source": [
    "(x_train, y_train), (x_test, y_test) = boston_housing.load_data()\n",
    "x_train.shape, x_test.shape, y_train.shape, y_test.shape"
   ]
  },
  {
   "attachments": {},
   "cell_type": "markdown",
   "metadata": {},
   "source": [
    "#### Scale Data"
   ]
  },
  {
   "cell_type": "code",
   "execution_count": 15,
   "metadata": {},
   "outputs": [
    {
     "data": {
      "text/plain": [
       "array([  1.23247,   0.     ,   8.14   ,   0.     ,   0.538  ,   6.142  ,\n",
       "        91.7    ,   3.9769 ,   4.     , 307.     ,  21.     , 396.9    ,\n",
       "        18.72   ])"
      ]
     },
     "execution_count": 15,
     "metadata": {},
     "output_type": "execute_result"
    }
   ],
   "source": [
    "x_train[0]"
   ]
  },
  {
   "cell_type": "code",
   "execution_count": 18,
   "metadata": {},
   "outputs": [
    {
     "data": {
      "text/plain": [
       "array([-0.27224633, -0.48361547, -0.43576161, -0.25683275, -0.1652266 ,\n",
       "       -0.1764426 ,  0.81306188,  0.1166983 , -0.62624905, -0.59517003,\n",
       "        1.14850044,  0.44807713,  0.8252202 ])"
      ]
     },
     "execution_count": 18,
     "metadata": {},
     "output_type": "execute_result"
    }
   ],
   "source": [
    "scaler = StandardScaler()\n",
    "x_train = scaler.fit_transform(x_train)\n",
    "x_test = scaler.transform(x_test)\n",
    "x_train[0]"
   ]
  },
  {
   "attachments": {},
   "cell_type": "markdown",
   "metadata": {},
   "source": [
    "#### Define Model"
   ]
  },
  {
   "cell_type": "code",
   "execution_count": 19,
   "metadata": {},
   "outputs": [],
   "source": [
    "model = Sequential()\n",
    "model.add(Dense(64, activation='relu', input_shape=(x_train.shape[1],)))\n",
    "model.add(Dense(64, activation='relu'))\n",
    "model.add(Dense(1))"
   ]
  },
  {
   "cell_type": "code",
   "execution_count": 20,
   "metadata": {},
   "outputs": [],
   "source": [
    "model.compile(optimizer='rmsprop', loss='mse', metrics=['mae'])"
   ]
  },
  {
   "cell_type": "code",
   "execution_count": 22,
   "metadata": {},
   "outputs": [
    {
     "name": "stdout",
     "output_type": "stream",
     "text": [
      "Epoch 1/100\n",
      "21/21 [==============================] - 0s 6ms/step - loss: 498.0879 - mae: 20.3563 - val_loss: 491.1124 - val_mae: 20.2909\n",
      "Epoch 2/100\n",
      "21/21 [==============================] - 0s 2ms/step - loss: 356.5457 - mae: 16.8453 - val_loss: 331.3369 - val_mae: 16.1909\n",
      "Epoch 3/100\n",
      "21/21 [==============================] - 0s 2ms/step - loss: 209.9243 - mae: 12.2417 - val_loss: 182.6902 - val_mae: 10.9613\n",
      "Epoch 4/100\n",
      "21/21 [==============================] - 0s 2ms/step - loss: 103.9386 - mae: 8.0412 - val_loss: 94.5417 - val_mae: 7.3163\n",
      "Epoch 5/100\n",
      "21/21 [==============================] - 0s 2ms/step - loss: 61.0992 - mae: 5.8940 - val_loss: 67.1740 - val_mae: 5.9321\n",
      "Epoch 6/100\n",
      "21/21 [==============================] - 0s 2ms/step - loss: 43.1799 - mae: 4.7499 - val_loss: 47.3022 - val_mae: 4.9768\n",
      "Epoch 7/100\n",
      "21/21 [==============================] - 0s 2ms/step - loss: 33.3247 - mae: 3.9980 - val_loss: 35.7561 - val_mae: 4.2403\n",
      "Epoch 8/100\n",
      "21/21 [==============================] - 0s 2ms/step - loss: 27.6889 - mae: 3.5182 - val_loss: 29.1189 - val_mae: 3.9119\n",
      "Epoch 9/100\n",
      "21/21 [==============================] - 0s 2ms/step - loss: 24.4547 - mae: 3.3083 - val_loss: 25.0564 - val_mae: 3.6417\n",
      "Epoch 10/100\n",
      "21/21 [==============================] - 0s 3ms/step - loss: 22.0927 - mae: 3.1548 - val_loss: 22.3404 - val_mae: 3.4980\n",
      "Epoch 11/100\n",
      "21/21 [==============================] - 0s 2ms/step - loss: 20.2411 - mae: 3.0379 - val_loss: 20.7680 - val_mae: 3.4517\n",
      "Epoch 12/100\n",
      "21/21 [==============================] - 0s 2ms/step - loss: 19.0487 - mae: 2.9381 - val_loss: 19.6253 - val_mae: 3.3776\n",
      "Epoch 13/100\n",
      "21/21 [==============================] - 0s 2ms/step - loss: 17.9075 - mae: 2.8335 - val_loss: 17.6954 - val_mae: 3.1189\n",
      "Epoch 14/100\n",
      "21/21 [==============================] - 0s 3ms/step - loss: 16.7560 - mae: 2.7187 - val_loss: 16.9555 - val_mae: 3.1087\n",
      "Epoch 15/100\n",
      "21/21 [==============================] - 0s 3ms/step - loss: 15.5673 - mae: 2.6374 - val_loss: 16.1844 - val_mae: 3.0746\n",
      "Epoch 16/100\n",
      "21/21 [==============================] - 0s 3ms/step - loss: 14.9208 - mae: 2.5787 - val_loss: 15.1050 - val_mae: 2.9627\n",
      "Epoch 17/100\n",
      "21/21 [==============================] - 0s 4ms/step - loss: 13.6773 - mae: 2.5444 - val_loss: 15.0862 - val_mae: 2.9114\n",
      "Epoch 18/100\n",
      "21/21 [==============================] - 0s 3ms/step - loss: 13.7356 - mae: 2.4977 - val_loss: 13.6727 - val_mae: 2.8431\n",
      "Epoch 19/100\n",
      "21/21 [==============================] - 0s 3ms/step - loss: 12.8701 - mae: 2.4129 - val_loss: 15.9880 - val_mae: 3.1819\n",
      "Epoch 20/100\n",
      "21/21 [==============================] - 0s 2ms/step - loss: 12.8878 - mae: 2.4421 - val_loss: 13.1824 - val_mae: 2.7611\n",
      "Epoch 21/100\n",
      "21/21 [==============================] - 0s 2ms/step - loss: 12.2442 - mae: 2.4227 - val_loss: 13.5359 - val_mae: 2.7237\n",
      "Epoch 22/100\n",
      "21/21 [==============================] - 0s 3ms/step - loss: 11.9369 - mae: 2.4232 - val_loss: 13.5979 - val_mae: 2.8127\n",
      "Epoch 23/100\n",
      "21/21 [==============================] - 0s 2ms/step - loss: 11.5318 - mae: 2.3135 - val_loss: 13.4248 - val_mae: 2.7119\n",
      "Epoch 24/100\n",
      "21/21 [==============================] - 0s 2ms/step - loss: 11.3495 - mae: 2.3357 - val_loss: 13.0067 - val_mae: 2.7779\n",
      "Epoch 25/100\n",
      "21/21 [==============================] - 0s 3ms/step - loss: 11.1509 - mae: 2.3578 - val_loss: 12.8535 - val_mae: 2.8074\n",
      "Epoch 26/100\n",
      "21/21 [==============================] - 0s 2ms/step - loss: 11.0628 - mae: 2.3030 - val_loss: 12.4825 - val_mae: 2.7054\n",
      "Epoch 27/100\n",
      "21/21 [==============================] - 0s 2ms/step - loss: 10.6823 - mae: 2.2457 - val_loss: 12.8955 - val_mae: 2.7145\n",
      "Epoch 28/100\n",
      "21/21 [==============================] - 0s 2ms/step - loss: 10.4047 - mae: 2.2503 - val_loss: 12.6398 - val_mae: 2.6743\n",
      "Epoch 29/100\n",
      "21/21 [==============================] - 0s 2ms/step - loss: 10.3752 - mae: 2.2436 - val_loss: 12.6997 - val_mae: 2.7562\n",
      "Epoch 30/100\n",
      "21/21 [==============================] - 0s 2ms/step - loss: 10.3727 - mae: 2.2257 - val_loss: 12.9929 - val_mae: 2.7831\n",
      "Epoch 31/100\n",
      "21/21 [==============================] - 0s 2ms/step - loss: 10.1362 - mae: 2.2170 - val_loss: 12.5645 - val_mae: 2.7240\n",
      "Epoch 32/100\n",
      "21/21 [==============================] - 0s 2ms/step - loss: 10.1356 - mae: 2.2181 - val_loss: 13.9389 - val_mae: 2.8679\n",
      "Epoch 33/100\n",
      "21/21 [==============================] - 0s 2ms/step - loss: 10.0216 - mae: 2.2100 - val_loss: 13.0001 - val_mae: 2.7034\n",
      "Epoch 34/100\n",
      "21/21 [==============================] - 0s 2ms/step - loss: 9.8481 - mae: 2.1826 - val_loss: 12.9323 - val_mae: 2.6762\n",
      "Epoch 35/100\n",
      "21/21 [==============================] - 0s 2ms/step - loss: 9.8499 - mae: 2.1954 - val_loss: 12.7363 - val_mae: 2.5675\n",
      "Epoch 36/100\n",
      "21/21 [==============================] - 0s 2ms/step - loss: 9.6565 - mae: 2.1834 - val_loss: 12.0909 - val_mae: 2.6394\n",
      "Epoch 37/100\n",
      "21/21 [==============================] - 0s 2ms/step - loss: 9.3847 - mae: 2.1402 - val_loss: 12.5982 - val_mae: 2.5587\n",
      "Epoch 38/100\n",
      "21/21 [==============================] - 0s 2ms/step - loss: 9.2334 - mae: 2.1728 - val_loss: 13.1915 - val_mae: 2.7220\n",
      "Epoch 39/100\n",
      "21/21 [==============================] - 0s 2ms/step - loss: 9.2602 - mae: 2.1363 - val_loss: 11.9847 - val_mae: 2.5310\n",
      "Epoch 40/100\n",
      "21/21 [==============================] - 0s 2ms/step - loss: 9.1905 - mae: 2.1018 - val_loss: 14.5365 - val_mae: 2.7504\n",
      "Epoch 41/100\n",
      "21/21 [==============================] - 0s 2ms/step - loss: 9.1252 - mae: 2.1277 - val_loss: 13.0611 - val_mae: 2.5673\n",
      "Epoch 42/100\n",
      "21/21 [==============================] - 0s 2ms/step - loss: 9.1913 - mae: 2.1243 - val_loss: 13.5431 - val_mae: 2.5730\n",
      "Epoch 43/100\n",
      "21/21 [==============================] - 0s 2ms/step - loss: 9.1694 - mae: 2.1200 - val_loss: 13.0091 - val_mae: 2.5882\n",
      "Epoch 44/100\n",
      "21/21 [==============================] - 0s 2ms/step - loss: 8.8892 - mae: 2.1244 - val_loss: 12.6874 - val_mae: 2.5977\n",
      "Epoch 45/100\n",
      "21/21 [==============================] - 0s 2ms/step - loss: 8.7669 - mae: 2.1210 - val_loss: 12.4809 - val_mae: 2.5978\n",
      "Epoch 46/100\n",
      "21/21 [==============================] - 0s 3ms/step - loss: 8.8153 - mae: 2.0817 - val_loss: 12.7469 - val_mae: 2.5609\n",
      "Epoch 47/100\n",
      "21/21 [==============================] - 0s 2ms/step - loss: 8.6927 - mae: 2.0811 - val_loss: 12.2367 - val_mae: 2.6615\n",
      "Epoch 48/100\n",
      "21/21 [==============================] - 0s 2ms/step - loss: 8.3877 - mae: 2.0189 - val_loss: 14.1442 - val_mae: 2.6403\n",
      "Epoch 49/100\n",
      "21/21 [==============================] - 0s 2ms/step - loss: 8.4636 - mae: 2.0414 - val_loss: 13.2187 - val_mae: 2.5504\n",
      "Epoch 50/100\n",
      "21/21 [==============================] - 0s 2ms/step - loss: 8.5160 - mae: 2.0602 - val_loss: 12.1539 - val_mae: 2.5519\n",
      "Epoch 51/100\n",
      "21/21 [==============================] - 0s 2ms/step - loss: 8.1937 - mae: 1.9768 - val_loss: 12.5114 - val_mae: 2.5406\n",
      "Epoch 52/100\n",
      "21/21 [==============================] - 0s 2ms/step - loss: 8.2772 - mae: 2.0203 - val_loss: 12.0166 - val_mae: 2.5937\n",
      "Epoch 53/100\n",
      "21/21 [==============================] - 0s 2ms/step - loss: 8.1859 - mae: 1.9566 - val_loss: 11.8988 - val_mae: 2.5118\n",
      "Epoch 54/100\n",
      "21/21 [==============================] - 0s 2ms/step - loss: 8.1354 - mae: 1.9593 - val_loss: 12.6558 - val_mae: 2.6865\n",
      "Epoch 55/100\n",
      "21/21 [==============================] - 0s 2ms/step - loss: 8.2004 - mae: 2.0124 - val_loss: 12.4512 - val_mae: 2.6189\n",
      "Epoch 56/100\n",
      "21/21 [==============================] - 0s 2ms/step - loss: 8.0522 - mae: 1.9688 - val_loss: 12.1564 - val_mae: 2.5430\n",
      "Epoch 57/100\n",
      "21/21 [==============================] - 0s 2ms/step - loss: 7.8693 - mae: 1.9577 - val_loss: 12.2725 - val_mae: 2.5879\n",
      "Epoch 58/100\n",
      "21/21 [==============================] - 0s 2ms/step - loss: 7.8753 - mae: 1.9422 - val_loss: 13.3286 - val_mae: 2.6772\n",
      "Epoch 59/100\n",
      "21/21 [==============================] - 0s 2ms/step - loss: 7.8486 - mae: 1.9673 - val_loss: 12.4506 - val_mae: 2.4557\n",
      "Epoch 60/100\n",
      "21/21 [==============================] - 0s 2ms/step - loss: 7.8632 - mae: 1.9730 - val_loss: 13.3796 - val_mae: 2.6562\n",
      "Epoch 61/100\n",
      "21/21 [==============================] - 0s 2ms/step - loss: 7.5974 - mae: 1.9417 - val_loss: 12.9727 - val_mae: 2.7402\n",
      "Epoch 62/100\n",
      "21/21 [==============================] - 0s 2ms/step - loss: 7.8450 - mae: 1.9432 - val_loss: 12.4110 - val_mae: 2.5732\n",
      "Epoch 63/100\n",
      "21/21 [==============================] - 0s 2ms/step - loss: 7.3802 - mae: 1.8851 - val_loss: 11.6884 - val_mae: 2.5367\n",
      "Epoch 64/100\n",
      "21/21 [==============================] - 0s 2ms/step - loss: 7.4440 - mae: 1.8752 - val_loss: 12.0396 - val_mae: 2.5079\n",
      "Epoch 65/100\n",
      "21/21 [==============================] - 0s 2ms/step - loss: 7.4315 - mae: 1.8939 - val_loss: 12.1558 - val_mae: 2.6158\n",
      "Epoch 66/100\n",
      "21/21 [==============================] - 0s 2ms/step - loss: 7.3123 - mae: 1.8770 - val_loss: 11.9739 - val_mae: 2.4859\n",
      "Epoch 67/100\n",
      "21/21 [==============================] - 0s 2ms/step - loss: 7.2272 - mae: 1.9032 - val_loss: 12.1134 - val_mae: 2.4792\n",
      "Epoch 68/100\n",
      "21/21 [==============================] - 0s 2ms/step - loss: 7.1726 - mae: 1.8383 - val_loss: 13.6132 - val_mae: 2.6579\n",
      "Epoch 69/100\n",
      "21/21 [==============================] - 0s 2ms/step - loss: 7.3723 - mae: 1.8625 - val_loss: 12.4963 - val_mae: 2.4518\n",
      "Epoch 70/100\n",
      "21/21 [==============================] - 0s 2ms/step - loss: 6.9339 - mae: 1.7994 - val_loss: 12.8819 - val_mae: 2.4681\n",
      "Epoch 71/100\n",
      "21/21 [==============================] - 0s 2ms/step - loss: 7.0529 - mae: 1.8743 - val_loss: 12.3629 - val_mae: 2.4629\n",
      "Epoch 72/100\n",
      "21/21 [==============================] - 0s 2ms/step - loss: 6.9531 - mae: 1.8337 - val_loss: 12.2078 - val_mae: 2.5411\n",
      "Epoch 73/100\n",
      "21/21 [==============================] - 0s 2ms/step - loss: 6.7996 - mae: 1.8150 - val_loss: 12.9649 - val_mae: 2.6214\n",
      "Epoch 74/100\n",
      "21/21 [==============================] - 0s 2ms/step - loss: 6.9136 - mae: 1.8311 - val_loss: 12.9538 - val_mae: 2.4616\n",
      "Epoch 75/100\n",
      "21/21 [==============================] - 0s 2ms/step - loss: 6.8807 - mae: 1.8251 - val_loss: 14.8163 - val_mae: 2.6008\n",
      "Epoch 76/100\n",
      "21/21 [==============================] - 0s 2ms/step - loss: 6.7590 - mae: 1.8106 - val_loss: 12.5211 - val_mae: 2.4599\n",
      "Epoch 77/100\n",
      "21/21 [==============================] - 0s 2ms/step - loss: 6.7766 - mae: 1.7824 - val_loss: 12.9679 - val_mae: 2.4760\n",
      "Epoch 78/100\n",
      "21/21 [==============================] - 0s 2ms/step - loss: 6.6635 - mae: 1.8023 - val_loss: 13.4589 - val_mae: 2.5188\n",
      "Epoch 79/100\n",
      "21/21 [==============================] - 0s 2ms/step - loss: 6.7058 - mae: 1.8180 - val_loss: 13.8634 - val_mae: 2.6011\n",
      "Epoch 80/100\n",
      "21/21 [==============================] - 0s 2ms/step - loss: 6.6084 - mae: 1.7631 - val_loss: 16.9955 - val_mae: 2.9925\n",
      "Epoch 81/100\n",
      "21/21 [==============================] - 0s 2ms/step - loss: 6.7886 - mae: 1.8489 - val_loss: 11.8510 - val_mae: 2.5273\n",
      "Epoch 82/100\n",
      "21/21 [==============================] - 0s 2ms/step - loss: 6.4504 - mae: 1.7619 - val_loss: 12.0553 - val_mae: 2.5043\n",
      "Epoch 83/100\n",
      "21/21 [==============================] - 0s 2ms/step - loss: 6.3445 - mae: 1.7466 - val_loss: 11.9805 - val_mae: 2.5647\n",
      "Epoch 84/100\n",
      "21/21 [==============================] - 0s 2ms/step - loss: 6.4826 - mae: 1.7573 - val_loss: 11.8153 - val_mae: 2.4701\n",
      "Epoch 85/100\n",
      "21/21 [==============================] - 0s 2ms/step - loss: 6.4534 - mae: 1.7683 - val_loss: 11.8225 - val_mae: 2.5141\n",
      "Epoch 86/100\n",
      "21/21 [==============================] - 0s 2ms/step - loss: 6.3980 - mae: 1.7576 - val_loss: 14.4228 - val_mae: 2.4928\n",
      "Epoch 87/100\n",
      "21/21 [==============================] - 0s 2ms/step - loss: 6.0678 - mae: 1.7461 - val_loss: 11.5750 - val_mae: 2.5075\n",
      "Epoch 88/100\n",
      "21/21 [==============================] - 0s 2ms/step - loss: 6.2014 - mae: 1.7219 - val_loss: 12.1678 - val_mae: 2.5208\n",
      "Epoch 89/100\n",
      "21/21 [==============================] - 0s 2ms/step - loss: 6.1526 - mae: 1.7076 - val_loss: 11.9665 - val_mae: 2.5147\n",
      "Epoch 90/100\n",
      "21/21 [==============================] - 0s 2ms/step - loss: 6.2093 - mae: 1.7124 - val_loss: 12.6862 - val_mae: 2.6242\n",
      "Epoch 91/100\n",
      "21/21 [==============================] - 0s 2ms/step - loss: 6.0837 - mae: 1.7174 - val_loss: 13.6424 - val_mae: 2.5390\n",
      "Epoch 92/100\n",
      "21/21 [==============================] - 0s 2ms/step - loss: 6.1133 - mae: 1.7207 - val_loss: 11.7322 - val_mae: 2.4792\n",
      "Epoch 93/100\n",
      "21/21 [==============================] - 0s 2ms/step - loss: 6.0212 - mae: 1.7054 - val_loss: 12.1466 - val_mae: 2.4214\n",
      "Epoch 94/100\n",
      "21/21 [==============================] - 0s 2ms/step - loss: 5.8637 - mae: 1.6761 - val_loss: 12.9939 - val_mae: 2.3958\n",
      "Epoch 95/100\n",
      "21/21 [==============================] - 0s 2ms/step - loss: 5.9807 - mae: 1.7092 - val_loss: 12.4977 - val_mae: 2.5120\n",
      "Epoch 96/100\n",
      "21/21 [==============================] - 0s 2ms/step - loss: 5.8064 - mae: 1.6459 - val_loss: 12.5427 - val_mae: 2.4602\n",
      "Epoch 97/100\n",
      "21/21 [==============================] - 0s 2ms/step - loss: 5.9258 - mae: 1.6586 - val_loss: 13.4449 - val_mae: 2.5456\n",
      "Epoch 98/100\n",
      "21/21 [==============================] - 0s 2ms/step - loss: 5.6921 - mae: 1.6725 - val_loss: 11.5936 - val_mae: 2.3863\n",
      "Epoch 99/100\n",
      "21/21 [==============================] - 0s 2ms/step - loss: 5.5856 - mae: 1.6369 - val_loss: 13.6786 - val_mae: 2.4325\n",
      "Epoch 100/100\n",
      "21/21 [==============================] - 0s 2ms/step - loss: 5.7498 - mae: 1.6662 - val_loss: 12.1302 - val_mae: 2.4342\n"
     ]
    }
   ],
   "source": [
    "history = model.fit(x_train, y_train, epochs=100, batch_size=16, validation_split=0.2)"
   ]
  },
  {
   "cell_type": "code",
   "execution_count": 24,
   "metadata": {},
   "outputs": [
    {
     "name": "stdout",
     "output_type": "stream",
     "text": [
      "4/4 [==============================] - 0s 2ms/step - loss: 21.1418 - mae: 2.7572\n"
     ]
    }
   ],
   "source": [
    "test_mse_score, test_mae_score = model.evaluate(x_test, y_test)"
   ]
  },
  {
   "cell_type": "code",
   "execution_count": 26,
   "metadata": {},
   "outputs": [
    {
     "data": {
      "text/plain": [
       "<matplotlib.legend.Legend at 0x1fabd29e670>"
      ]
     },
     "execution_count": 26,
     "metadata": {},
     "output_type": "execute_result"
    },
    {
     "data": {
      "image/png": "[encoded data removed]",
      "text/plain": [
       "<Figure size 640x480 with 1 Axes>"
      ]
     },
     "metadata": {},
     "output_type": "display_data"
    }
   ],
   "source": [
    "history_dict = history.history\n",
    "loss_values = history_dict['loss']\n",
    "val_loss_values = history_dict['val_loss']\n",
    "epochs = range(1, len(loss_values) + 1)\n",
    "\n",
    "plt.plot(epochs, loss_values, 'bo', label='Training loss')\n",
    "plt.plot(epochs, val_loss_values, 'b', label='Validation loss')\n",
    "plt.title('Training and validation loss')\n",
    "plt.xlabel('Epochs')\n",
    "plt.ylabel('Loss')\n",
    "plt.legend()"
   ]
  },
  {
   "cell_type": "code",
   "execution_count": 27,
   "metadata": {},
   "outputs": [
    {
     "name": "stdout",
     "output_type": "stream",
     "text": [
      "Test MSE: 21.14\n",
      "Test MAE: 2.76\n"
     ]
    }
   ],
   "source": [
    "print(f\"Test MSE: {test_mse_score:.2f}\")\n",
    "print(f\"Test MAE: {test_mae_score:.2f}\")\n"
   ]
  },
  {
   "attachments": {},
   "cell_type": "markdown",
   "metadata": {},
   "source": [
    "The model's performance on the test data will depend on various factors such as the complexity of the model, the number of epochs, and the batch size. In our example, we achieved a test MAE score of around 2.70, which indicates that the model is able to predict the median house value with an average error of $2,700."
   ]
  },
  {
   "attachments": {},
   "cell_type": "markdown",
   "metadata": {},
   "source": [
    "Compared to the MNIST model, which is a classification model that predicts the class label of an image, the Boston Housing model is a regression model that predicts a continuous target variable. The Boston Housing model also has a different output layer with a single unit and uses a different loss function and metric. The MNIST model uses categorical cross-entropy as the loss function and accuracy as the metric, while the Boston Housing model uses mean squared error (MSE) as the loss function and mean absolute error (MAE) as the metric.\n",
    "\n",
    "Another important difference between the two models is the number and size of the hidden layers. In the MNIST model, we typically use multiple layers with a larger number of units to extract and learn more complex features from the image data. In contrast, the Boston Housing model is a simpler model with only two hidden layers, each with 64 units."
   ]
  },
  {
   "attachments": {},
   "cell_type": "markdown",
   "metadata": {},
   "source": [
    "Overall, the main difference between the two models lies in their objective and the type of data they are designed to handle. The MNIST model is designed to classify images of handwritten digits into ten classes, while the Boston Housing model is designed to predict the median value of owner-occupied homes in Boston suburbs based on various features of the houses. The choice of model architecture, loss function, and metrics will depend on the specific task at hand and the nature of the data being used.\n"
   ]
  },
  {
   "cell_type": "code",
   "execution_count": null,
   "metadata": {},
   "outputs": [],
   "source": []
  }
 ],
 "metadata": {
  "kernelspec": {
   "display_name": "Python 3",
   "language": "python",
   "name": "python3"
  },
  "language_info": {
   "codemirror_mode": {
    "name": "ipython",
    "version": 3
   },
   "file_extension": ".py",
   "mimetype": "text/x-python",
   "name": "python",
   "nbconvert_exporter": "python",
   "pygments_lexer": "ipython3",
   "version": "3.9.13"
  },
  "orig_nbformat": 4
 },
 "nbformat": 4,
 "nbformat_minor": 2
}
